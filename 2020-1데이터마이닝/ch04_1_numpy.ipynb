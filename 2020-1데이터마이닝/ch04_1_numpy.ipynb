{
 "cells": [
  {
   "cell_type": "code",
   "execution_count": 5,
   "metadata": {},
   "outputs": [],
   "source": [
    "import numpy"
   ]
  },
  {
   "cell_type": "code",
   "execution_count": 6,
   "metadata": {},
   "outputs": [
    {
     "name": "stdout",
     "output_type": "stream",
     "text": [
      "[1. 2. 3. 4. 5.]\n",
      "#Dimensions = 1\n",
      "Dimension = (5,)\n",
      "Size = 5\n",
      "Array type = float64\n"
     ]
    }
   ],
   "source": [
    "import numpy as np\n",
    "\n",
    "oneDim = np.array([1.0,2,3,4,5])\n",
    "print(oneDim)\n",
    "print(\"#Dimensions =\", oneDim.ndim) #1차원\n",
    "print(\"Dimension =\", oneDim.shape)  #\n",
    "print(\"Size =\", oneDim.size)\n",
    "print(\"Array type =\", oneDim.dtype)"
   ]
  },
  {
   "cell_type": "markdown",
   "metadata": {},
   "source": [
    "numpy element has only one type like C array"
   ]
  },
  {
   "cell_type": "code",
   "execution_count": 7,
   "metadata": {},
   "outputs": [
    {
     "name": "stdout",
     "output_type": "stream",
     "text": [
      "[[1 2]\n",
      " [3 4]\n",
      " [5 6]\n",
      " [7 8]]\n",
      "#Dimensions = 2\n",
      "Dimension = (4, 2)\n",
      "Size = 8\n",
      "Array type = int32\n"
     ]
    }
   ],
   "source": [
    "twoDim = np.array([[1,2],[3,4],[5,6],[7,8]])  # a two-dimensional array (matrix)\n",
    "print(twoDim) \n",
    "print(\"#Dimensions =\", twoDim.ndim) \n",
    "print(\"Dimension =\", twoDim.shape)\n",
    "print(\"Size =\", twoDim.size) \n",
    "print(\"Array type =\", twoDim.dtype)"
   ]
  },
  {
   "cell_type": "code",
   "execution_count": 8,
   "metadata": {},
   "outputs": [
    {
     "name": "stdout",
     "output_type": "stream",
     "text": [
      "[['1' 'a' '3.0']\n",
      " ['2' 'b' '3.5']]\n",
      "#Dimensions = 2\n",
      "Dimension = (2, 3)\n",
      "Size = 6\n",
      "Array type = <U11\n"
     ]
    }
   ],
   "source": [
    "arrFromTuple = np.array([(1,'a',3.0),(2,'b',3.5)])  # create ndarray from tuple\n",
    "print(arrFromTuple) \n",
    "print(\"#Dimensions =\", arrFromTuple.ndim) \n",
    "print(\"Dimension =\", arrFromTuple.shape) \n",
    "print(\"Size =\", arrFromTuple.size)\n",
    "print(\"Array type =\", arrFromTuple.dtype)"
   ]
  },
  {
   "cell_type": "markdown",
   "metadata": {},
   "source": [
    "<U21 : little endian, Unicode"
   ]
  },
  {
   "cell_type": "code",
   "execution_count": 9,
   "metadata": {},
   "outputs": [
    {
     "name": "stdout",
     "output_type": "stream",
     "text": [
      "(1,)\n",
      "(2,)\n",
      "(2, 1)\n",
      "(1, 2, 3)\n",
      "(1, 1, 1, 0)\n"
     ]
    }
   ],
   "source": [
    "#Guess what is printed \n",
    "print(np.array([1]).shape)\n",
    "print(np.array([1,2]).shape)\n",
    "print(np.array([[1],[2]]).shape)\n",
    "print(np.array([[[1,2,3],[1,2,3]]]).shape)\n",
    "print(np.array([[[[]]]]).shape)"
   ]
  },
  {
   "cell_type": "markdown",
   "metadata": {},
   "source": [
    "Python tuple\n",
    "https://wiki.python.org/moin/TupleSyntax (https://wiki.python.org/moin/TupleSyntax)\n",
    "Python tuple is defined by trailing comma, not by parenthesis 1, 1,2, 1,2,3, parenthesis is optional"
   ]
  },
  {
   "cell_type": "code",
   "execution_count": 10,
   "metadata": {},
   "outputs": [
    {
     "data": {
      "text/plain": [
       "True"
      ]
     },
     "execution_count": 10,
     "metadata": {},
     "output_type": "execute_result"
    }
   ],
   "source": [
    "(1,2) == (1,2,)"
   ]
  },
  {
   "cell_type": "code",
   "execution_count": 11,
   "metadata": {},
   "outputs": [
    {
     "name": "stdout",
     "output_type": "stream",
     "text": [
      "[0.24231084 0.70845095 0.72155839 0.46746147 0.49602413]\n",
      "[ 0.80820269  1.4096213  -0.41006585 -0.73650395  0.71413253]\n",
      "[-10  -8  -6  -4  -2   0   2   4   6   8]\n",
      "[[ 0  1  2  3]\n",
      " [ 4  5  6  7]\n",
      " [ 8  9 10 11]]\n",
      "[0.         0.11111111 0.22222222 0.33333333 0.44444444 0.55555556\n",
      " 0.66666667 0.77777778 0.88888889 1.        ]\n",
      "[1.e-03 1.e-02 1.e-01 1.e+00 1.e+01 1.e+02 1.e+03]\n"
     ]
    }
   ],
   "source": [
    "print(np.random.rand(5))      # random numbers from a uniform distribution between [0,1] \n",
    "print(np.random.randn(5))     # 정규분포random numbers from a normal distribution \n",
    "print(np.arange(-10,10,2))    # similar to range, but returns ndarray instead of list\n",
    "print(np.arange(12).reshape(3,4))  # reshape to a matrix \n",
    "print(np.linspace(0,1,10))    # split interval [0,1] into 10 equally separated values\n",
    "print(np.logspace(-3,3,7))    #log(10^-3, 10^2, 10^1 ...) create ndarray with values from 10^-3 to 10^3                              # logspace returns numbers spaced evenly on a log scale."
   ]
  },
  {
   "cell_type": "code",
   "execution_count": 12,
   "metadata": {},
   "outputs": [
    {
     "name": "stdout",
     "output_type": "stream",
     "text": [
      "[[0. 0. 0.]\n",
      " [0. 0. 0.]]\n",
      "[[1. 1.]\n",
      " [1. 1.]\n",
      " [1. 1.]]\n",
      "[[1. 0. 0.]\n",
      " [0. 1. 0.]\n",
      " [0. 0. 1.]]\n"
     ]
    }
   ],
   "source": [
    "print(np.zeros((2,3)))        # a matrix of zeros \n",
    "print(np.ones((3,2)))         # a matrix of ones \n",
    "print(np.eye(3))              # a 3 x 3 identity matrix"
   ]
  },
  {
   "cell_type": "markdown",
   "metadata": {},
   "source": [
    "# Element-wise Operations \n",
    "You can apply standard operators such as addition and multiplication on each element of the ndarray"
   ]
  },
  {
   "cell_type": "code",
   "execution_count": 13,
   "metadata": {},
   "outputs": [
    {
     "name": "stdout",
     "output_type": "stream",
     "text": [
      "[2 3 4 5 6]\n",
      "[0 1 2 3 4]\n",
      "[ 2  4  6  8 10]\n",
      "[0 1 1 2 2]\n",
      "[ 1  4  9 16 25]\n",
      "[1 0 1 0 1]\n",
      "[1.         0.5        0.33333333 0.25       0.2       ]\n"
     ]
    }
   ],
   "source": [
    "x = np.array([1,2,3,4,5])\n",
    "print(x + 1)      # addition            #broad casting\n",
    "print(x - 1)      # subtraction \n",
    "print(x * 2)      # multiplication \n",
    "print(x // 2)     # integer division \n",
    "print(x ** 2)     # square\n",
    "print(x % 2)      # modulo  \n",
    "print(1 / x)      # division"
   ]
  },
  {
   "cell_type": "code",
   "execution_count": 14,
   "metadata": {},
   "outputs": [
    {
     "name": "stdout",
     "output_type": "stream",
     "text": [
      "[ 3  6  9 12 15]\n",
      "[1 2 3 4 5]\n",
      "[ 2  8 18 32 50]\n",
      "[2. 2. 2. 2. 2.]\n",
      "[2 2 2 2 2]\n",
      "[     2     16    216   4096 100000]\n"
     ]
    }
   ],
   "source": [
    "x = np.array([2,4,6,8,10]) \n",
    "y = np.array([1,2,3,4,5])\n",
    "print(x + y) \n",
    "print(x - y) \n",
    "print(x * y) \n",
    "print(x / y) \n",
    "print(x // y) \n",
    "print(x ** y)"
   ]
  },
  {
   "cell_type": "markdown",
   "metadata": {},
   "source": [
    "# Indexing and Slicing \n",
    "There are various ways to select certain elements with an ndarray"
   ]
  },
  {
   "cell_type": "code",
   "execution_count": 15,
   "metadata": {},
   "outputs": [
    {
     "name": "stdout",
     "output_type": "stream",
     "text": [
      "[-5 -4 -3 -2 -1  0  1  2  3  4]\n",
      "[-2 -1]\n",
      "[1000 1000] y\n",
      "[  -5   -4   -3 1000 1000    0    1    2    3    4] x\n",
      "[1000 1000] z\n",
      "[500 500]\n",
      "[  -5   -4   -3 1000 1000    0    1    2    3    4]\n"
     ]
    }
   ],
   "source": [
    "x = np.arange(-5,5) \n",
    "print(x)\n",
    "\n",
    "y = x[3:5]     # y is a slice, i.e., pointer to a subarray in x \n",
    "print(y) \n",
    "y[:] = 1000    # modifying the value of y will change x \n",
    "print(y,\"y\") \n",
    "print(x,\"x\")\n",
    "\n",
    "z = x[3:5].copy()   # makes a copy of the subarray \n",
    "print(z,\"z\") \n",
    "z[:] = 500          # modifying the value of z will not affect x \n",
    "print(z) \n",
    "print(x)"
   ]
  },
  {
   "cell_type": "markdown",
   "metadata": {},
   "source": [
    "**Remark: slicing a list makes a copy of the sublist, but slicing numpy array does not**"
   ]
  },
  {
   "cell_type": "code",
   "execution_count": 16,
   "metadata": {},
   "outputs": [
    {
     "name": "stdout",
     "output_type": "stream",
     "text": [
      "[-5, -4, -3, -2, -1, 0, 1, 2, 3, 4]\n",
      "[-2, -1]\n",
      "[-2, 1000]\n",
      "[-5, -4, -3, -2, -1, 0, 1, 2, 3, 4]\n"
     ]
    }
   ],
   "source": [
    "# Remark slicing a list makes a copy of the sublist \n",
    "x = list(range(-5,5))\n",
    "print(x)\n",
    "\n",
    "y = x[3:5]     # y is a slice, i.e., not a pointer to a list in x \n",
    "print(y) \n",
    "y[1] = 1000    # modifying the value of y does not change x \n",
    "print(y) \n",
    "print(x)"
   ]
  },
  {
   "cell_type": "code",
   "execution_count": 17,
   "metadata": {},
   "outputs": [],
   "source": [
    "import numpy as np\n",
    "\n",
    "def find_k_nearest_index(data, center, k=1):\n",
    "\n",
    "# YOUR CODE MUST BE HERE\n",
    "    dist=np.sqrt(np.sum(np.square(DmulD-D), axis=1))                #거리구하기\n",
    "    key=np.partition(dist,k)[k-1]\n",
    "    result=np.argwhere(dist<=key)[: ,0]\n",
    "    print('array('+np.array2string(result,separator=', ')+')')\n"
   ]
  },
  {
   "cell_type": "code",
   "execution_count": 18,
   "metadata": {},
   "outputs": [
    {
     "name": "stdout",
     "output_type": "stream",
     "text": [
      "[[1, 2, 3, 4], [5, 6, 7, 8], [9, 10, 11, 12]]\n",
      "[9, 10, 11, 12]\n",
      "[9, 10, 11, 12]          my2dlist[:][2]\n",
      "\n"
     ]
    }
   ],
   "source": [
    "my2dlist = [[1,2,3,4],[5,6,7,8],[9,10,11,12]]   # a 2-dim list \n",
    "print(my2dlist) \n",
    "print(my2dlist[2])        # access the third sublist \n",
    "print(my2dlist[2][:],\"         my2dlist[:][2]\\n\")     # can't access third element of each sublist \n",
    "#print(my2dlist[:,2])    # this will cause syntax error"
   ]
  },
  {
   "cell_type": "code",
   "execution_count": 19,
   "metadata": {},
   "outputs": [
    {
     "name": "stdout",
     "output_type": "stream",
     "text": [
      "[[ 1  2  3  4]\n",
      " [ 5  6  7  8]\n",
      " [ 9 10 11 12]]\n",
      "my2darr\n",
      "\n",
      "[ 9 10 11 12]\n",
      "my2darr[2][:]\n",
      "\n",
      "[ 9 10 11 12]\n",
      "my2darr[2,:]\n",
      "\n",
      "[ 9 10 11 12]\n",
      "my2darr[:][2]\n",
      "\n",
      "[ 3  7 11]\n",
      "my2darr[:,2]\n",
      "\n",
      "[[3 4]\n",
      " [7 8]]\n",
      "my2darr[:2,2:]\n",
      "\n",
      "[[ 3  4]\n",
      " [11 12]]\n",
      "my2darr[::2,2:]\n",
      "\n"
     ]
    }
   ],
   "source": [
    "my2darr = np.array(my2dlist) \n",
    "print(my2darr)\n",
    "print(\"my2darr\\n\") \n",
    "print(my2darr[2][:])      # access the third row \n",
    "print(\"my2darr[2][:]\\n\")\n",
    "print(my2darr[2,:])       #넘파이 다운 표현 access the third row \n",
    "print(\"my2darr[2,:]\\n\")\n",
    "print(my2darr[:][2])      # access the third row (similar to 2d list); Don't do this \n",
    "print(\"my2darr[:][2]\\n\")\n",
    "print(my2darr[:,2])       # access the third column \n",
    "print(\"my2darr[:,2]\\n\")\n",
    "print(my2darr[:2,2:])     # access the first two rows & last two columns \n",
    "print(\"my2darr[:2,2:]\\n\")\n",
    "print(my2darr[::2,2:])    # applying skippe\n",
    "print(\"my2darr[::2,2:]\\n\")"
   ]
  },
  {
   "cell_type": "code",
   "execution_count": 20,
   "metadata": {},
   "outputs": [
    {
     "name": "stdout",
     "output_type": "stream",
     "text": [
      "[[ 1  2  3  4]\n",
      " [ 5  6  7  8]\n",
      " [ 9 10 11 12]]\n",
      "\n",
      "[[ 3  4]\n",
      " [11 12]] sliced\n",
      "<class 'numpy.ndarray'>\n",
      "\n",
      "[[   1    2 1000 1000]\n",
      " [   5    6    7    8]\n",
      " [   9   10 1000 1000]]\n",
      "\n",
      "[[   1    2 2000 1000]\n",
      " [   5    6    7    8]\n",
      " [   9   10 1000 1000]]\n"
     ]
    }
   ],
   "source": [
    "my2darr = np.array([[1,2,3,4],[5,6,7,8],[9,10,11,12]])   # a 2-dim list \n",
    "print(my2darr)\n",
    "\n",
    "print() \n",
    "sliced = my2darr[::2,2:]   # applying skipper \n",
    "print(sliced,\"sliced\")    \n",
    "print(type(sliced))\n",
    "\n",
    "print() \n",
    "sliced[:,:] = 1000 \n",
    "print(my2darr)\n",
    "\n",
    "print() \n",
    "sliced[0,0] = 2000 \n",
    "print(my2darr)"
   ]
  },
  {
   "cell_type": "markdown",
   "metadata": {},
   "source": [
    "### **ndarray also supports boolean indexing (also called masking).**"
   ]
  },
  {
   "cell_type": "code",
   "execution_count": 21,
   "metadata": {},
   "outputs": [
    {
     "name": "stdout",
     "output_type": "stream",
     "text": [
      "[2 3]\n",
      "2\n",
      "\n",
      "[1 3] here\n",
      "\n",
      "[3 2]\n",
      "[3 2 2 2 1]\n",
      "\n",
      "[0 0 0]\n"
     ]
    }
   ],
   "source": [
    "#slicing vs masking vs integer array indexing \n",
    "x = np.array([1,2,3]) \n",
    "print(x[1:])                    # slicing \n",
    "print(x[1:][0])                    # slicing\n",
    "\n",
    "print() \n",
    "print(x[[True, False, True]],\"here\")   # boolean masking\n",
    "\n",
    "print() \n",
    "print(x[[2,1]])                 # integer array indexing \n",
    "print(x[[2,1,1,1,0]])                 # integer array indexing\n",
    "\n",
    "print() \n",
    "x[[2,1,1,1,0]] = 0 \n",
    "print(x)"
   ]
  },
  {
   "cell_type": "code",
   "execution_count": 22,
   "metadata": {},
   "outputs": [
    {
     "name": "stdout",
     "output_type": "stream",
     "text": [
      "[[ 0  1  2  3  4  5  6]\n",
      " [ 7  8  9 10 11 12 13]\n",
      " [14 15 16 17 18 19 20]\n",
      " [21 22 23 24 25 26 27]\n",
      " [28 29 30 31 32 33 34]] y\n",
      "[[False False False False False False False]\n",
      " [False False False False False False False]\n",
      " [False False False False False False False]\n",
      " [ True  True  True  True  True  True  True]\n",
      " [ True  True  True  True  True  True  True]] b\n",
      "\n",
      "[21 22 23 24 25 26 27 28 29 30 31 32 33 34]\n",
      "\n",
      "[1000 1000 1000   24   25   26   27   28   29   30   31   32   33   34]\n",
      "[[ 0  1  2  3  4  5  6]\n",
      " [ 7  8  9 10 11 12 13]\n",
      " [14 15 16 17 18 19 20]\n",
      " [21 22 23 24 25 26 27]\n",
      " [28 29 30 31 32 33 34]]\n"
     ]
    }
   ],
   "source": [
    "y = np.arange(35).reshape(5,7) \n",
    "b = y > 20 \n",
    "print(y,\"y\")\n",
    "print(b,\"b\")\n",
    "\n",
    "print() \n",
    "t = y[b]   # Filtering result is always one-dimensional; it's a copy; not indexing \n",
    "print(t) \n",
    "\n",
    "print() \n",
    "t[:3] = 1000 \n",
    "print(t) \n",
    "print(y)"
   ]
  },
  {
   "cell_type": "markdown",
   "metadata": {},
   "source": [
    "**LAB**: set to zero if the value is a even number in 2-d arra"
   ]
  },
  {
   "cell_type": "code",
   "execution_count": 23,
   "metadata": {},
   "outputs": [
    {
     "data": {
      "text/plain": [
       "array([[ 0,  1,  2,  3,  4,  5,  6],\n",
       "       [ 7,  8,  9, 10, 11, 12, 13],\n",
       "       [14, 15, 16, 17, 18, 19, 20],\n",
       "       [21, 22, 23, 24, 25, 26, 27],\n",
       "       [28, 29, 30, 31, 32, 33, 34]])"
      ]
     },
     "execution_count": 23,
     "metadata": {},
     "output_type": "execute_result"
    }
   ],
   "source": [
    "M = np.arange(35).reshape(5,7) \n",
    "M"
   ]
  },
  {
   "cell_type": "code",
   "execution_count": 24,
   "metadata": {},
   "outputs": [
    {
     "data": {
      "text/plain": [
       "array([[ 0,  1,  0,  3,  0,  5,  0],\n",
       "       [ 7,  0,  9,  0, 11,  0, 13],\n",
       "       [ 0, 15,  0, 17,  0, 19,  0],\n",
       "       [21,  0, 23,  0, 25,  0, 27],\n",
       "       [ 0, 29,  0, 31,  0, 33,  0]])"
      ]
     },
     "execution_count": 24,
     "metadata": {},
     "output_type": "execute_result"
    }
   ],
   "source": [
    "M[M % 2 == 0] = 0 \n",
    "M"
   ]
  },
  {
   "cell_type": "code",
   "execution_count": null,
   "metadata": {},
   "outputs": [],
   "source": []
  },
  {
   "cell_type": "code",
   "execution_count": 25,
   "metadata": {},
   "outputs": [
    {
     "data": {
      "text/plain": [
       "array([[ 0,  1,  0,  3,  0,  5,  0],\n",
       "       [ 7,  0,  9,  0, 11,  0, 13],\n",
       "       [ 0, 15,  0, 17,  0, 19,  0],\n",
       "       [21,  0, 23,  0, 25,  0, 27],\n",
       "       [ 0, 29,  0, 31,  0, 33,  0]])"
      ]
     },
     "execution_count": 25,
     "metadata": {},
     "output_type": "execute_result"
    }
   ],
   "source": [
    "M[M % 2 == 0] = -M[M % 2 == 0] \n",
    "M"
   ]
  },
  {
   "cell_type": "raw",
   "metadata": {},
   "source": [
    "np.where(M%2 == 0,M,-M) #  where(조건, 참, 거짓)"
   ]
  },
  {
   "cell_type": "code",
   "execution_count": 26,
   "metadata": {},
   "outputs": [
    {
     "name": "stdout",
     "output_type": "stream",
     "text": [
      "[[ 1  2  3]\n",
      " [ 4  5  6]\n",
      " [ 7  8  9]\n",
      " [10 11 12]]\n",
      "\n",
      "[[ 7  8  9]\n",
      " [ 4  5  6]\n",
      " [ 1  2  3]\n",
      " [10 11 12]]\n",
      "\n",
      "[ 1  3  4  8 12]\n",
      "\n",
      "[[ 1  2  3]\n",
      " [ 1  2  3]\n",
      " [ 4  5  6]\n",
      " [ 7  8  9]\n",
      " [10 11 12]]\n"
     ]
    }
   ],
   "source": [
    "my2darr = np.arange(1,13,1).reshape(4,3) \n",
    "print(my2darr)\n",
    "print()\n",
    "\n",
    "indices = [2,1,0,3]    # selected row indices \\\n",
    "print(my2darr[indices,:])\n",
    "print()\n",
    "\n",
    "rowIndex = [0,0,1,2,3]     # row index into my2darr \n",
    "columnIndex = [0,2,0,1,2]  # column index into my2darr\n",
    "print(my2darr[rowIndex,columnIndex])  # element-wis\n",
    "print()\n",
    "\n",
    "print(my2darr[rowIndex,:])"
   ]
  },
  {
   "cell_type": "markdown",
   "metadata": {},
   "source": [
    "# ^indexing 1.slicing 2.boolean* 3.integer"
   ]
  },
  {
   "cell_type": "markdown",
   "metadata": {},
   "source": [
    "### Numpy Arithmetic and Statistical Functions\n",
    "There are many built-in mathematical functions available for manipulating elements of nd-array"
   ]
  },
  {
   "cell_type": "code",
   "execution_count": 27,
   "metadata": {},
   "outputs": [
    {
     "name": "stdout",
     "output_type": "stream",
     "text": [
      "[-1.4  0.4 -3.2  2.5  3.4]\n",
      "\n",
      "[1.4 0.4 3.2 2.5 3.4]\n",
      "[1.18321596 0.63245553 1.78885438 1.58113883 1.84390889]\n",
      "[-1.  1. -1.  1.  1.]\n",
      "[ 0.24659696  1.4918247   0.0407622  12.18249396 29.96410005]\n",
      "[-3.2 -1.4  0.4  2.5  3.4]\n",
      "[-1.4  0.4 -3.2  2.5  3.4]\n"
     ]
    }
   ],
   "source": [
    "y = np.array([-1.4, 0.4, -3.2, 2.5, 3.4])    # generate a random vector \n",
    "print(y)\n",
    "print()\n",
    "\n",
    "print(np.abs(y))          # convert to absolute values \n",
    "print(np.sqrt(np.abs(y)))    # apply square root to each element \n",
    "print(np.sign(y))         # 음-1양1 get the sign of each element \n",
    "print(np.exp(y))          # e^data apply exponentiation: e^y \n",
    "print(np.sort(y))         # sort array; return a sorted copy of an array \n",
    "print(y)                  # y does not change"
   ]
  },
  {
   "cell_type": "code",
   "execution_count": 28,
   "metadata": {},
   "outputs": [
    {
     "name": "stdout",
     "output_type": "stream",
     "text": [
      "[-2 -1  0  1  2]\n",
      "[-0.0275389  -0.93233994 -1.7394736  -0.39321441  0.47329646]\n",
      "\n",
      "[-2.0275389  -1.93233994 -1.7394736   0.60678559  2.47329646]\n",
      "np.add(x,y)\n",
      "[-1.9724611  -0.06766006  1.7394736   1.39321441  1.52670354]\n",
      "np.subtract(x,y)\n",
      "[ 0.05507779  0.93233994 -0.         -0.39321441  0.94659292]\n",
      "np.multiply(x,y)\n",
      "[72.62455233  1.07257017 -0.         -2.54314182  4.22568128]\n",
      "np.divide(x,y)\n",
      "[-0.0275389  -0.93233994  0.          1.          2.        ]\n",
      "np.maximum(x,y)\n"
     ]
    }
   ],
   "source": [
    "x = np.arange(-2,3) \n",
    "y = np.random.randn(5) \n",
    "print(x) \n",
    "print(y)\n",
    "print()\n",
    "print(np.add(x,y))           # element-wise addition       x + y \n",
    "print(\"np.add(x,y)\")\n",
    "print(np.subtract(x,y))      # element-wise subtraction    x - y \n",
    "print(\"np.subtract(x,y)\")\n",
    "print(np.multiply(x,y))      # element-wise multiplication x * y \n",
    "print(\"np.multiply(x,y)\")\n",
    "print(np.divide(x,y))        # element-wise division       x / y \n",
    "print(\"np.divide(x,y)\")\n",
    "print(np.maximum(x,y))       # element-wise maximum        max(x,y)\n",
    "print(\"np.maximum(x,y)\")"
   ]
  },
  {
   "cell_type": "code",
   "execution_count": 29,
   "metadata": {},
   "outputs": [
    {
     "name": "stdout",
     "output_type": "stream",
     "text": [
      "[-3.2 -1.4  0.4  2.5  3.4]\n",
      "Min = -3.2\n",
      "Max = 3.4\n",
      "Average = 0.34000000000000014\n",
      "Std deviation = 2.432776191925595\n",
      "Sum = 1.7000000000000006\n"
     ]
    }
   ],
   "source": [
    "y = np.array([-3.2, -1.4, 0.4, 2.5, 3.4])    # generate a random vector \n",
    "print(y)\n",
    "print(\"Min =\", np.min(y))             # min \n",
    "print(\"Max =\", np.max(y))             # max \n",
    "print(\"Average =\", np.mean(y))        # mean/average \n",
    "print(\"Std deviation =\", np.std(y))   # 표준 편차 standard deviation \n",
    "print(\"Sum =\", np.sum(y))             # sum "
   ]
  },
  {
   "cell_type": "markdown",
   "metadata": {},
   "source": [
    "### More on filtering"
   ]
  },
  {
   "cell_type": "code",
   "execution_count": 30,
   "metadata": {},
   "outputs": [
    {
     "name": "stdout",
     "output_type": "stream",
     "text": [
      "[[ 0  1  2  3  4]\n",
      " [ 5  6  7  8  9]\n",
      " [10 11 12 13 14]\n",
      " [15 16 17 18 19]\n",
      " [20 21 22 23 24]]\n",
      "[ 1  3  5  7  9 11 13 15 17 19 21 23]\n",
      "[[4 0]\n",
      " [4 1]\n",
      " [4 2]\n",
      " [4 3]\n",
      " [4 4]] here\n",
      "arg\n",
      "[[ 0  1  0  3  0]\n",
      " [ 5  0  7  0  9]\n",
      " [ 0 11  0 13  0]\n",
      " [15  0 17  0 19]\n",
      " [ 0 21  0 23  0]]\n"
     ]
    }
   ],
   "source": [
    "M = np.arange(25).reshape(5,5) \n",
    "print(M) \n",
    "print(M[M%2==1])                        # filtering in general \n",
    "print(np.argwhere(M >= 20),\"here\")\n",
    "print(\"arg\")# indexes satisfying condition \n",
    "print(np.where(M % 2 == 1, M, 0))       # M, 0 is broadcas"
   ]
  },
  {
   "cell_type": "markdown",
   "metadata": {},
   "source": [
    "# New axis \n",
    "       Used to increase the dimension of the existing array by one more dimension \n",
    "       shape change, for example: n x (newaxis) x m  n x 1 x "
   ]
  },
  {
   "cell_type": "code",
   "execution_count": 31,
   "metadata": {},
   "outputs": [
    {
     "name": "stdout",
     "output_type": "stream",
     "text": [
      "(3,)\n",
      "[1 2 3]\n",
      "\n",
      "(3, 1)\n",
      "[[1]\n",
      " [2]\n",
      " [3]]\n",
      "\n",
      "(1, 3)\n",
      "[[1 2 3]]\n",
      "\n"
     ]
    }
   ],
   "source": [
    "t = np.array([1,2,3]) \n",
    "print(t.shape) \n",
    "print(t)\n",
    "print()\n",
    "\n",
    "x = t[:, np.newaxis] \n",
    "print(x.shape) \n",
    "print(x)\n",
    "print()\n",
    "\n",
    "y = t[np.newaxis, :] \n",
    "print(y.shape)\n",
    "print(y)\n",
    "print()"
   ]
  },
  {
   "cell_type": "markdown",
   "metadata": {},
   "source": [
    "**x and y are broadcasted** (it is explained below)"
   ]
  },
  {
   "cell_type": "code",
   "execution_count": 32,
   "metadata": {},
   "outputs": [
    {
     "data": {
      "text/plain": [
       "array([[2, 3, 4],\n",
       "       [3, 4, 5],\n",
       "       [4, 5, 6]])"
      ]
     },
     "execution_count": 32,
     "metadata": {},
     "output_type": "execute_result"
    }
   ],
   "source": [
    "x + y"
   ]
  },
  {
   "cell_type": "code",
   "execution_count": 33,
   "metadata": {},
   "outputs": [
    {
     "name": "stdout",
     "output_type": "stream",
     "text": [
      "[[1 2 3]\n",
      " [4 5 6]]\n",
      "(2, 3)\n",
      "t\n",
      "\n",
      "(2, 3, 1)\n",
      "[[[1]\n",
      "  [2]\n",
      "  [3]]\n",
      "\n",
      " [[4]\n",
      "  [5]\n",
      "  [6]]]\n",
      "\n",
      "(1, 2, 3)\n",
      "[[[1 2 3]\n",
      "  [4 5 6]]]\n",
      "\n",
      "(2, 1, 3)\n",
      "[[[1 2 3]]\n",
      "\n",
      " [[4 5 6]]]\n"
     ]
    }
   ],
   "source": [
    "t = np.array([[1,2,3],[4,5,6]])\n",
    "print(t)\n",
    "print(t.shape)\n",
    "print(\"t\\n\")\n",
    "\n",
    "print(t[:, :, np.newaxis].shape) \n",
    "print(t[:, :, np.newaxis]) \n",
    "print()\n",
    "\n",
    "print(t[np.newaxis, :, :].shape) \n",
    "print(t[np.newaxis, :, :])\n",
    "\n",
    "print() \n",
    "print(t[:, np.newaxis, :].shape)\n",
    "print(t[:, np.newaxis, :])"
   ]
  },
  {
   "cell_type": "markdown",
   "metadata": {},
   "source": [
    "# Broadcasting \n",
    "Broadcasting describes how numpy treats arrays with different shapes during arithmetic operations. Subject to certain constraints, the smaller array is “broadcast” across the larger array so that they have compatible shapes.\n",
    "\n",
    "Examples:\n",
    "\n",
    "    A      (2d array):  5 x 4 \n",
    "    B      (1d array):      1 \n",
    "    Result (2d array):  5 x 4 \n",
    "\n",
    "    A      (2d array):  5 x 4 \n",
    "    B      (1d array):      4 \n",
    "    Result (2d array):  5 x 4 \n",
    "\n",
    "    A      (3d array):  15 x 3 x 5 \n",
    "    B      (3d array):  15 x 1 x 5 \n",
    "    Result (3d array):  15 x 3 x 5 \n",
    "\n",
    "    A      (3d array):  15 x 3 x 5 \n",
    "    B      (2d array):       3 x 5 \n",
    "    Result (3d array):  15 x 3 x 5 \n",
    "\n",
    "    A      (3d array):  15 x 3 x 5 \n",
    "    B      (2d array):       3 x 1 \n",
    "    Result (3d array):  15 x 3 x 5"
   ]
  },
  {
   "cell_type": "code",
   "execution_count": 34,
   "metadata": {},
   "outputs": [
    {
     "data": {
      "text/plain": [
       "array([[11, 12],\n",
       "       [13, 14]])"
      ]
     },
     "execution_count": 34,
     "metadata": {},
     "output_type": "execute_result"
    }
   ],
   "source": [
    "np.array([[1,2],[3,4]]) + np.array([[10]])"
   ]
  },
  {
   "cell_type": "code",
   "execution_count": 35,
   "metadata": {},
   "outputs": [
    {
     "data": {
      "text/plain": [
       "array([[ 11, 102],\n",
       "       [ 13, 104]])"
      ]
     },
     "execution_count": 35,
     "metadata": {},
     "output_type": "execute_result"
    }
   ],
   "source": [
    "np.array([[1,2],[3,4]]) + np.array([[10,100]])"
   ]
  },
  {
   "cell_type": "code",
   "execution_count": 36,
   "metadata": {},
   "outputs": [
    {
     "name": "stdout",
     "output_type": "stream",
     "text": [
      "[[1 2]]\n",
      "[[ 10]\n",
      " [100]]\n",
      "(1, 2) (2, 1)\n"
     ]
    },
    {
     "data": {
      "text/plain": [
       "array([[ 11,  12],\n",
       "       [101, 102]])"
      ]
     },
     "execution_count": 36,
     "metadata": {},
     "output_type": "execute_result"
    }
   ],
   "source": [
    "A = np.array([[1,2]]) \n",
    "B = np.array([[10],[100]]) \n",
    "print(A)\n",
    "print(B)\n",
    "print(A.shape, B.shape) \n",
    "C = A + B \n",
    "C"
   ]
  },
  {
   "cell_type": "code",
   "execution_count": 37,
   "metadata": {},
   "outputs": [
    {
     "data": {
      "text/plain": [
       "array([[1, 1, 1, 1, 1, 1, 1, 1, 1, 1],\n",
       "       [1, 1, 1, 1, 1, 1, 1, 1, 1, 1],\n",
       "       [1, 1, 1, 1, 1, 1, 1, 1, 1, 1]])"
      ]
     },
     "execution_count": 37,
     "metadata": {},
     "output_type": "execute_result"
    }
   ],
   "source": [
    "X = np.array([[1]]*3) + np.array([[0]*10]) \n",
    "X"
   ]
  },
  {
   "cell_type": "code",
   "execution_count": 38,
   "metadata": {},
   "outputs": [
    {
     "name": "stdout",
     "output_type": "stream",
     "text": [
      "[[1]\n",
      " [1]\n",
      " [1]]\n",
      "[[0 0 0 0 0 0 0 0 0 0]]\n"
     ]
    }
   ],
   "source": [
    "a= np.array([[1]]*3)\n",
    "b=np.array([[0]*10]) \n",
    "print(a)\n",
    "print(b)"
   ]
  },
  {
   "cell_type": "code",
   "execution_count": 39,
   "metadata": {},
   "outputs": [
    {
     "name": "stdout",
     "output_type": "stream",
     "text": [
      "(3, 1)\n",
      "[[1 2 3]]\n"
     ]
    },
    {
     "data": {
      "text/plain": [
       "array([[2, 3, 4],\n",
       "       [3, 4, 5],\n",
       "       [4, 5, 6]])"
      ]
     },
     "execution_count": 39,
     "metadata": {},
     "output_type": "execute_result"
    }
   ],
   "source": [
    "a = np.array([[1],[2],[3]]) \n",
    "print(a.shape)\n",
    "b = a.T # matrix를 행과 열 전환\n",
    "print(b)\n",
    "a + b"
   ]
  },
  {
   "cell_type": "markdown",
   "metadata": {},
   "source": [
    "# Meshgrid\n",
    "Make D x N mesh grid for vectorized evaluations\n"
   ]
  },
  {
   "cell_type": "code",
   "execution_count": 40,
   "metadata": {},
   "outputs": [
    {
     "name": "stdout",
     "output_type": "stream",
     "text": [
      "[10 20 30]\n",
      "[5 6]\n",
      "\n",
      "[[10 20 30]\n",
      " [10 20 30]]\n",
      "\n",
      "[[5 5 5]\n",
      " [6 6 6]]\n",
      "\n"
     ]
    },
    {
     "data": {
      "text/plain": [
       "array([[15, 25, 35],\n",
       "       [16, 26, 36]])"
      ]
     },
     "execution_count": 40,
     "metadata": {},
     "output_type": "execute_result"
    }
   ],
   "source": [
    "v = np.array([10,20,30])   # N \n",
    "w = np.array([5,6])        # D \n",
    "print(v)\n",
    "print(w)\n",
    "print( )\n",
    "\n",
    "X, Y = np.meshgrid(v, w) \n",
    "print(X)\n",
    "print()\n",
    "print(Y)\n",
    "\n",
    "print()\n",
    "X + Y"
   ]
  },
  {
   "cell_type": "code",
   "execution_count": 41,
   "metadata": {},
   "outputs": [
    {
     "data": {
      "text/plain": [
       "array([[15, 25, 35],\n",
       "       [16, 26, 36]])"
      ]
     },
     "execution_count": 41,
     "metadata": {},
     "output_type": "execute_result"
    }
   ],
   "source": [
    "v+w[:,np.newaxis]"
   ]
  },
  {
   "cell_type": "markdown",
   "metadata": {},
   "source": [
    "# Axis ordering \n",
    "- By definition, the axis number of the dimension is the index of that dimension within the array's shape. It is also the position used to access that dimension during indexing. \n",
    "- For example, if a 2D array a has shape (5,6), then you can access a[0,0] up to a[4,5]. Axis 0 is thus the first dimension (the \"rows\"), and axis 1 is the second dimension (the \"columns\"). In higher dimensions, where \"row\" and \"column\" stop really making sense, try to think of the axes in terms of the shapes and indices involved. \n",
    "- If you do np.sum(axis=n), for example, then dimension n is collapsed and deleted, with each value in the new matrix equal to the sum of the corresponding collapsed values. For example, if b has shape (5,6,7,8), and you do c = b.sum(axis=2), then axis 2 (dimension with size 7) is collapsed, and the result has shape (5,6,8). Furthermore, c[x,y,z] is equal to the sum of all elements b[x,y,:,z]."
   ]
  },
  {
   "cell_type": "code",
   "execution_count": 42,
   "metadata": {},
   "outputs": [
    {
     "data": {
      "text/plain": [
       "(2, 3)"
      ]
     },
     "execution_count": 42,
     "metadata": {},
     "output_type": "execute_result"
    }
   ],
   "source": [
    "X = np.array([[0,0,0], [1,1,1]]) \n",
    "X.shape\n",
    "\n",
    "# axis 0 is row; axis 1 is column\n"
   ]
  },
  {
   "cell_type": "code",
   "execution_count": 43,
   "metadata": {},
   "outputs": [
    {
     "data": {
      "text/plain": [
       "array([1, 1, 1])"
      ]
     },
     "execution_count": 43,
     "metadata": {},
     "output_type": "execute_result"
    }
   ],
   "source": [
    "X.sum(axis=0)   # dimension 0 is collapsed and deleted; or aggregated over dimension 0"
   ]
  },
  {
   "cell_type": "code",
   "execution_count": 44,
   "metadata": {},
   "outputs": [
    {
     "data": {
      "text/plain": [
       "array([0, 3])"
      ]
     },
     "execution_count": 44,
     "metadata": {},
     "output_type": "execute_result"
    }
   ],
   "source": [
    "X.sum(axis=1)   # dimension 1 is collapsed and deleted; or aggregated over dimension 0"
   ]
  },
  {
   "cell_type": "code",
   "execution_count": 45,
   "metadata": {},
   "outputs": [],
   "source": [
    "X = np.array(range(1,24+1)).reshape(2,3,4)"
   ]
  },
  {
   "cell_type": "code",
   "execution_count": 46,
   "metadata": {},
   "outputs": [
    {
     "name": "stdout",
     "output_type": "stream",
     "text": [
      "[[[ 1  2  3  4]\n",
      "  [ 5  6  7  8]\n",
      "  [ 9 10 11 12]]\n",
      "\n",
      " [[13 14 15 16]\n",
      "  [17 18 19 20]\n",
      "  [21 22 23 24]]]\n"
     ]
    },
    {
     "data": {
      "text/plain": [
       "(2, 3, 4)"
      ]
     },
     "execution_count": 46,
     "metadata": {},
     "output_type": "execute_result"
    }
   ],
   "source": [
    "print(X)\n",
    "X.shape"
   ]
  },
  {
   "cell_type": "code",
   "execution_count": 47,
   "metadata": {},
   "outputs": [
    {
     "data": {
      "text/plain": [
       "array([[14, 16, 18, 20],\n",
       "       [22, 24, 26, 28],\n",
       "       [30, 32, 34, 36]])"
      ]
     },
     "execution_count": 47,
     "metadata": {},
     "output_type": "execute_result"
    }
   ],
   "source": [
    "X.sum(axis=0)"
   ]
  },
  {
   "cell_type": "code",
   "execution_count": 48,
   "metadata": {},
   "outputs": [
    {
     "data": {
      "text/plain": [
       "array([[15, 18, 21, 24],\n",
       "       [51, 54, 57, 60]])"
      ]
     },
     "execution_count": 48,
     "metadata": {},
     "output_type": "execute_result"
    }
   ],
   "source": [
    "X.sum(axis=1)"
   ]
  },
  {
   "cell_type": "code",
   "execution_count": 49,
   "metadata": {},
   "outputs": [
    {
     "data": {
      "text/plain": [
       "array([[10, 26, 42],\n",
       "       [58, 74, 90]])"
      ]
     },
     "execution_count": 49,
     "metadata": {},
     "output_type": "execute_result"
    }
   ],
   "source": [
    "X.sum(axis=2)"
   ]
  },
  {
   "cell_type": "code",
   "execution_count": 50,
   "metadata": {},
   "outputs": [
    {
     "data": {
      "text/plain": [
       "array([ 78, 222])"
      ]
     },
     "execution_count": 50,
     "metadata": {},
     "output_type": "execute_result"
    }
   ],
   "source": [
    "X.sum(axis=(1,2))"
   ]
  },
  {
   "cell_type": "code",
   "execution_count": 51,
   "metadata": {},
   "outputs": [
    {
     "data": {
      "text/plain": [
       "300"
      ]
     },
     "execution_count": 51,
     "metadata": {},
     "output_type": "execute_result"
    }
   ],
   "source": [
    "X.sum(axis=(0,1,2))"
   ]
  },
  {
   "cell_type": "code",
   "execution_count": 52,
   "metadata": {},
   "outputs": [
    {
     "name": "stdout",
     "output_type": "stream",
     "text": [
      "[[6 5 4]\n",
      " [3 2 1]]\n",
      "\n",
      "axis=0\n",
      " [[3 2 1]\n",
      " [6 5 4]]\n",
      "\n",
      "axis=-1\n",
      " [[4 5 6]\n",
      " [1 2 3]]\n",
      "\n",
      "default is -1\n",
      " [[4 5 6]\n",
      " [1 2 3]]\n",
      "\n",
      "axis=None\n",
      " [1 2 3 4 5 6]\n"
     ]
    }
   ],
   "source": [
    "import numpy as np\n",
    "X = np.array(np.arange(2*3, 0, -1).reshape(2,3)) \n",
    "print(X)\n",
    "print() \n",
    "print(\"axis=0\\n\", np.sort(X, axis=0)) \n",
    "print()\n",
    "print(\"axis=-1\\n\", np.sort(X, axis=-1)) \n",
    "print() \n",
    "print(\"default is -1\\n\", np.sort(X)) \n",
    "print()\n",
    "print(\"axis=None\\n\", np.sort(X, axis=None))   "
   ]
  },
  {
   "cell_type": "markdown",
   "metadata": {},
   "source": [
    "# sort vs argsort vs partition vs argpartition \n",
    "- argmin, argmax, ..."
   ]
  },
  {
   "cell_type": "code",
   "execution_count": 53,
   "metadata": {},
   "outputs": [
    {
     "name": "stdout",
     "output_type": "stream",
     "text": [
      "X =\n",
      " [3 3 3 4 4 4 4 4]\n",
      "sorted =\n",
      " [3 3 3 4 4 4 4 4]\n",
      "argsorted =\n",
      " [0 1 2 3 4 5 6 7]\n",
      "partitioned first 3 =\n",
      " [3 3 3 4 4 4 4 4]\n",
      "argpartitioned first 3 =\n",
      " [0 1 2 6 3 5 4 7]\n",
      "partitioned last 3=\n",
      " [4 3 3 3 4 4 4 4]\n",
      "argpartitioned last 3=\n",
      " [6 0 2 1 3 5 4 7]\n"
     ]
    }
   ],
   "source": [
    "X = np.array([3,3,3,4,4,4,4,4]) \n",
    "print('X =\\n', X) \n",
    "print('sorted =\\n', np.sort(X)) \n",
    "print('argsorted =\\n', np.argsort(X)) \n",
    "print('partitioned first 3 =\\n', np.partition(X, 3)) # 기준으러 작은데 큰데\n",
    "print('argpartitioned first 3 =\\n', np.argpartition(X, 3)) \n",
    "print('partitioned last 3=\\n', np.partition(X, -3)) \n",
    "print('argpartitioned last 3=\\n', np.argpartition(X, -3))"
   ]
  },
  {
   "cell_type": "markdown",
   "metadata": {},
   "source": [
    "**LAB**\n",
    "\n",
    "sort 2-d array T along axis 0, sort key is the sum of elements along axis 1"
   ]
  },
  {
   "cell_type": "code",
   "execution_count": 54,
   "metadata": {},
   "outputs": [
    {
     "name": "stdout",
     "output_type": "stream",
     "text": [
      "[[ 2  2]\n",
      " [-1 10]\n",
      " [ 0  1]]\n",
      "\n",
      "[4 9 1]\n",
      "\n",
      "[[0 1]\n",
      " [0 1]\n",
      " [0 1]] d\n",
      "[2 0 1]\n"
     ]
    },
    {
     "data": {
      "text/plain": [
       "array([[ 0,  1],\n",
       "       [ 2,  2],\n",
       "       [-1, 10]])"
      ]
     },
     "execution_count": 54,
     "metadata": {},
     "output_type": "execute_result"
    }
   ],
   "source": [
    "T = np.array([[2,2],[-1,10],[0,1]]) \n",
    "print(T)\n",
    "print()\n",
    "print(np.sum(T, axis=1))\n",
    "print()\n",
    "print(np.argsort(T),\"d\")\n",
    "I = np.argsort(np.sum(T, axis=1)) \n",
    "print(I)\n",
    "T[I,:]"
   ]
  },
  {
   "cell_type": "markdown",
   "metadata": {},
   "source": [
    "# Vectorized function \n",
    "- similar to map functio"
   ]
  },
  {
   "cell_type": "code",
   "execution_count": 55,
   "metadata": {},
   "outputs": [],
   "source": [
    "import numpy as np"
   ]
  },
  {
   "cell_type": "code",
   "execution_count": 56,
   "metadata": {},
   "outputs": [],
   "source": [
    "X = np.array([[1, 2], [1, 4], [1, 0],\n",
    "              [10, 2], [10, 4], [10, 0]])"
   ]
  },
  {
   "cell_type": "code",
   "execution_count": 57,
   "metadata": {},
   "outputs": [],
   "source": [
    "cluster_centers_=np.array([[10.,  0.], [ 1. , 4.], [10.,  2.]])"
   ]
  },
  {
   "cell_type": "code",
   "execution_count": 58,
   "metadata": {},
   "outputs": [
    {
     "data": {
      "text/plain": [
       "array([[-9.,  2.],\n",
       "       [-9.,  4.],\n",
       "       [-9.,  0.],\n",
       "       [ 0.,  2.],\n",
       "       [ 0.,  4.],\n",
       "       [ 0.,  0.]])"
      ]
     },
     "execution_count": 58,
     "metadata": {},
     "output_type": "execute_result"
    }
   ],
   "source": [
    "X-cluster_centers_[0]"
   ]
  },
  {
   "cell_type": "code",
   "execution_count": 59,
   "metadata": {},
   "outputs": [
    {
     "data": {
      "text/plain": [
       "array([[81.,  4.],\n",
       "       [81., 16.],\n",
       "       [81.,  0.],\n",
       "       [ 0.,  4.],\n",
       "       [ 0., 16.],\n",
       "       [ 0.,  0.]])"
      ]
     },
     "execution_count": 59,
     "metadata": {},
     "output_type": "execute_result"
    }
   ],
   "source": [
    "(X-cluster_centers_[0])**2"
   ]
  },
  {
   "cell_type": "code",
   "execution_count": 60,
   "metadata": {},
   "outputs": [
    {
     "data": {
      "text/plain": [
       "array([9.21954446, 9.8488578 , 9.        , 2.        , 4.        ,\n",
       "       0.        ])"
      ]
     },
     "execution_count": 60,
     "metadata": {},
     "output_type": "execute_result"
    }
   ],
   "source": [
    "np.sqrt(np.sum((X-cluster_centers_[0])**2,axis=1))"
   ]
  },
  {
   "cell_type": "code",
   "execution_count": 61,
   "metadata": {},
   "outputs": [
    {
     "data": {
      "text/plain": [
       "2"
      ]
     },
     "execution_count": 61,
     "metadata": {},
     "output_type": "execute_result"
    }
   ],
   "source": [
    "min(range(3),key=lambda i: np.sqrt(np.sum((X-cluster_centers_[i])**2)))"
   ]
  },
  {
   "cell_type": "code",
   "execution_count": 62,
   "metadata": {},
   "outputs": [
    {
     "data": {
      "text/plain": [
       "array(4)"
      ]
     },
     "execution_count": 62,
     "metadata": {},
     "output_type": "execute_result"
    }
   ],
   "source": [
    "u = np.array([1,2]) \n",
    "v = np.array([[1,2],[2,3]]) \n",
    "w = np.array([4,3,2,1]) \n",
    "np.vectorize(max)(*w)    # map 이랑 유사 세개에서 max값 넣는다"
   ]
  },
  {
   "cell_type": "code",
   "execution_count": 63,
   "metadata": {},
   "outputs": [
    {
     "data": {
      "text/plain": [
       "array([ 5, 13])"
      ]
     },
     "execution_count": 63,
     "metadata": {},
     "output_type": "execute_result"
    }
   ],
   "source": [
    "dist = np.vectorize(lambda x, y : (x**2+y**2))\n",
    "dist(*v)"
   ]
  },
  {
   "cell_type": "code",
   "execution_count": 64,
   "metadata": {},
   "outputs": [
    {
     "data": {
      "text/plain": [
       "array([4, 3, 2, 1])"
      ]
     },
     "execution_count": 64,
     "metadata": {},
     "output_type": "execute_result"
    }
   ],
   "source": [
    "w"
   ]
  },
  {
   "cell_type": "markdown",
   "metadata": {},
   "source": [
    "# Numpy linear algebra\n",
    "Numpy provides many functions to support linear algebra operations."
   ]
  },
  {
   "cell_type": "code",
   "execution_count": 65,
   "metadata": {},
   "outputs": [
    {
     "data": {
      "text/plain": [
       "array([[ 1,  2],\n",
       "       [ 1,  4],\n",
       "       [ 1,  0],\n",
       "       [10,  2],\n",
       "       [10,  4],\n",
       "       [10,  0]])"
      ]
     },
     "execution_count": 65,
     "metadata": {},
     "output_type": "execute_result"
    }
   ],
   "source": [
    "X"
   ]
  },
  {
   "cell_type": "code",
   "execution_count": 66,
   "metadata": {},
   "outputs": [
    {
     "data": {
      "text/plain": [
       "array([[5, 5, 5],\n",
       "       [6, 6, 6]])"
      ]
     },
     "execution_count": 66,
     "metadata": {},
     "output_type": "execute_result"
    }
   ],
   "source": [
    "Y"
   ]
  },
  {
   "cell_type": "code",
   "execution_count": 67,
   "metadata": {},
   "outputs": [
    {
     "data": {
      "text/plain": [
       "array([[  5,   9,   1,  14,  18,  10],\n",
       "       [  9,  17,   1,  18,  26,  10],\n",
       "       [  1,   1,   1,  10,  10,  10],\n",
       "       [ 14,  18,  10, 104, 108, 100],\n",
       "       [ 18,  26,  10, 108, 116, 100],\n",
       "       [ 10,  10,  10, 100, 100, 100]])"
      ]
     },
     "execution_count": 67,
     "metadata": {},
     "output_type": "execute_result"
    }
   ],
   "source": [
    "np.dot(X,X.T)"
   ]
  },
  {
   "cell_type": "code",
   "execution_count": 68,
   "metadata": {},
   "outputs": [
    {
     "name": "stdout",
     "output_type": "stream",
     "text": [
      "\n",
      "X (2, 3)\n",
      "[[-1.37649253 -0.39800608  0.36720687]\n",
      " [ 0.88685578 -0.19925894  0.40411512]]\n",
      "\n",
      "X.T\n",
      "[[-1.37649253  0.88685578]\n",
      " [-0.39800608 -0.19925894]\n",
      " [ 0.36720687  0.40411512]]\n",
      "\n",
      "y\n",
      "[0.48129223 1.00895876 0.67315923]\n",
      "\n",
      "X.dot(y)\n",
      "[-0.81687818  0.49782656]\n",
      "\n",
      "np.dot(X,y)\n",
      "[-0.81687818  0.49782656]\n",
      "\n",
      "X.dot(X.T)\n",
      "[[ 2.18798141 -0.99305024]\n",
      " [-0.99305024  0.98952632]]\n",
      "\n",
      "X.T.dot(X)\n",
      "[[ 2.68124485  0.37113846 -0.14706568]\n",
      " [ 0.37113846  0.19811296 -0.22667412]\n",
      " [-0.14706568 -0.22667412  0.29814991]]\n"
     ]
    }
   ],
   "source": [
    "X = np.random.randn(2,3)\n",
    "print(\"\\nX\",X.shape)#matrix\n",
    "print(X)            \n",
    "print(\"\\nX.T\")\n",
    "print(X.T)\n",
    "y = np.random.randn(3) # vector\n",
    "print(\"\\ny\")\n",
    "print(y)\n",
    "print(\"\\nX.dot(y)\")\n",
    "print(X.dot(y))          #내적 inner product     -> scalar\n",
    "print(\"\\nnp.dot(X,y)\")\n",
    "print(np.dot(X,y))\n",
    "print(\"\\nX.dot(X.T)\")\n",
    "print(X.dot(X.T))\n",
    "print(\"\\nX.T.dot(X)\")\n",
    "print(X.T.dot(X))"
   ]
  },
  {
   "cell_type": "code",
   "execution_count": 69,
   "metadata": {},
   "outputs": [
    {
     "name": "stdout",
     "output_type": "stream",
     "text": [
      "[[ 1.83027917 -0.71369962 -0.14521123]\n",
      " [-0.38175366  0.07115753 -0.82119573]\n",
      " [ 1.25075574  0.08164382 -0.32719357]\n",
      " [-0.2579667  -1.12222592  0.70233743]\n",
      " [ 0.40312469  2.06074082  0.88956465]]\n",
      "\n",
      "[[ 5.28910397 -0.11108531 -0.18409604]\n",
      " [-0.11108531  6.02714001  1.06347052]\n",
      " [-0.18409604  1.06347052  2.08710749]] I\n",
      "\n",
      "[[ 0.18965216  0.00059747  0.01642408]\n",
      " [ 0.00059747  0.18230877 -0.09284141]\n",
      " [ 0.01642408 -0.09284141  0.52788739]] invC\n",
      "\n",
      "60.364826096255044\n",
      "\n",
      "[5.27290413 6.31864906 1.81179828] S\n",
      "\n",
      "[[-0.98810109 -0.14751838  0.04352667]\n",
      " [-0.15369675  0.95769372 -0.24331058]\n",
      " [ 0.00579244  0.24710536  0.96897131]]\n"
     ]
    }
   ],
   "source": [
    "X = np.random.randn(5,3)\n",
    "print(X)\n",
    "print()\n",
    "C=X.T.dot(X) #   I idetity matrix\n",
    "print(C,\"I\")\n",
    "print()\n",
    "invC = np.linalg.inv(C)  # 역행렬\n",
    "print(invC,\"invC\")\n",
    "print()\n",
    "detC = np.linalg.det(C)  # 판별식\n",
    "print(detC)\n",
    "print()\n",
    "S, U = np.linalg.eig(C) #eigen value\n",
    "print(S,\"S\")\n",
    "print()\n",
    "print(U)\n"
   ]
  },
  {
   "cell_type": "markdown",
   "metadata": {},
   "source": [
    "# The Frobenius norm\n",
    "\n",
    "https://docs.scipy.org/doc/numpy/reference/generated/numpy.linalg.norm.html \n",
    "(https://docs.scipy.org/doc/numpy/reference/generated/numpy.linalg.norm.html)"
   ]
  },
  {
   "cell_type": "code",
   "execution_count": 70,
   "metadata": {},
   "outputs": [
    {
     "name": "stdout",
     "output_type": "stream",
     "text": [
      "2.23606797749979\n",
      "3.0\n",
      "2.0\n",
      "1.0\n"
     ]
    }
   ],
   "source": [
    "X =np.array([1,2])\n",
    "print(np.linalg.norm(X))                 #그냥 길이, 유클리드\n",
    "print(np.linalg.norm(X,ord=1)  )          #city distacne 맨한탄 거리\n",
    "print(np.linalg.norm(X,ord=np.inf))        # 무한\n",
    "print(np.linalg.norm(X,ord= -np.inf))        # -무한"
   ]
  },
  {
   "cell_type": "markdown",
   "metadata": {},
   "source": [
    "# 시험에 낼거야\n",
    "# https://proofwiki.org/wiki/Cosine_Formula_for_Dot_Product\n",
    "# 코사인\n"
   ]
  },
  {
   "cell_type": "code",
   "execution_count": 71,
   "metadata": {},
   "outputs": [
    {
     "name": "stdout",
     "output_type": "stream",
     "text": [
      "cosine = 0.0\n",
      "cosine = 0.0\n"
     ]
    }
   ],
   "source": [
    "import math\n",
    "x = np.array([1,0])\n",
    "y = np.array([0,1])\n",
    "print(\"cosine =\", x.dot(y) / (math.sqrt((x.dot(x))) * math.sqrt((y.dot(y))))) \n",
    "print(\"cosine =\", x.dot(y) / (np.linalg.norm(x) * np.linalg.norm(y)))"
   ]
  },
  {
   "cell_type": "markdown",
   "metadata": {},
   "source": [
    "# LAB: distance matrix"
   ]
  },
  {
   "cell_type": "markdown",
   "metadata": {},
   "source": [
    "**In case of 1-d points**"
   ]
  },
  {
   "cell_type": "code",
   "execution_count": 72,
   "metadata": {},
   "outputs": [
    {
     "name": "stdout",
     "output_type": "stream",
     "text": [
      "[1. 2. 3. 4. 5.]\n",
      "[[1.]\n",
      " [2.]\n",
      " [3.]\n",
      " [4.]\n",
      " [5.]]\n",
      "[[1. 2. 3. 4. 5.]]\n"
     ]
    },
    {
     "data": {
      "text/plain": [
       "array([[0., 1., 2., 3., 4.],\n",
       "       [1., 0., 1., 2., 3.],\n",
       "       [2., 1., 0., 1., 2.],\n",
       "       [3., 2., 1., 0., 1.],\n",
       "       [4., 3., 2., 1., 0.]])"
      ]
     },
     "execution_count": 72,
     "metadata": {},
     "output_type": "execute_result"
    }
   ],
   "source": [
    "pts = np.array([1.,2,3,4,5])\n",
    "print(pts)\n",
    "u = pts[:,np.newaxis]\n",
    "print(u)\n",
    "v = pts.T[np.newaxis, :]\n",
    "print(v)\n",
    "np.abs(u-v)"
   ]
  },
  {
   "cell_type": "code",
   "execution_count": 73,
   "metadata": {},
   "outputs": [
    {
     "name": "stdout",
     "output_type": "stream",
     "text": [
      "(5,)\n"
     ]
    },
    {
     "data": {
      "text/plain": [
       "array([1., 2., 3., 4., 5.])"
      ]
     },
     "execution_count": 73,
     "metadata": {},
     "output_type": "execute_result"
    }
   ],
   "source": [
    "print(pts.shape)\n",
    "pts"
   ]
  },
  {
   "cell_type": "code",
   "execution_count": 74,
   "metadata": {},
   "outputs": [
    {
     "name": "stdout",
     "output_type": "stream",
     "text": [
      "(5, 1)\n"
     ]
    },
    {
     "data": {
      "text/plain": [
       "array([[1.],\n",
       "       [2.],\n",
       "       [3.],\n",
       "       [4.],\n",
       "       [5.]])"
      ]
     },
     "execution_count": 74,
     "metadata": {},
     "output_type": "execute_result"
    }
   ],
   "source": [
    "print(u.shape)\n",
    "u"
   ]
  },
  {
   "cell_type": "code",
   "execution_count": 75,
   "metadata": {},
   "outputs": [
    {
     "name": "stdout",
     "output_type": "stream",
     "text": [
      "(1, 5)\n"
     ]
    },
    {
     "data": {
      "text/plain": [
       "array([[1., 2., 3., 4., 5.]])"
      ]
     },
     "execution_count": 75,
     "metadata": {},
     "output_type": "execute_result"
    }
   ],
   "source": [
    "print(v.shape)\n",
    "v"
   ]
  },
  {
   "cell_type": "markdown",
   "metadata": {},
   "source": [
    "**In case of n-d points**"
   ]
  },
  {
   "cell_type": "code",
   "execution_count": 76,
   "metadata": {},
   "outputs": [
    {
     "data": {
      "text/plain": [
       "array([17, 17, 17])"
      ]
     },
     "execution_count": 76,
     "metadata": {},
     "output_type": "execute_result"
    }
   ],
   "source": [
    "np.dot(X,Y)"
   ]
  },
  {
   "cell_type": "code",
   "execution_count": 77,
   "metadata": {},
   "outputs": [
    {
     "name": "stdout",
     "output_type": "stream",
     "text": [
      "(3, 2)\n",
      "[[1 0]\n",
      " [1 1]\n",
      " [0 1]]\n"
     ]
    }
   ],
   "source": [
    "pts = np.array([[1,0],[1,1],[0,1]])\n",
    "print(pts.shape)\n",
    "print(pts)\n",
    "u = pts[:,:,np.newaxis]\n",
    "v = pts.T[np.newaxis]"
   ]
  },
  {
   "cell_type": "code",
   "execution_count": 78,
   "metadata": {},
   "outputs": [
    {
     "name": "stdout",
     "output_type": "stream",
     "text": [
      "(1, 2, 3)\n",
      "(3, 2, 1)\n"
     ]
    }
   ],
   "source": [
    "print(v.shape)\n",
    "print(u.shape)"
   ]
  },
  {
   "cell_type": "code",
   "execution_count": 79,
   "metadata": {},
   "outputs": [
    {
     "data": {
      "text/plain": [
       "array([[0.        , 1.        , 1.41421356],\n",
       "       [1.        , 0.        , 1.        ],\n",
       "       [1.41421356, 1.        , 0.        ]])"
      ]
     },
     "execution_count": 79,
     "metadata": {},
     "output_type": "execute_result"
    }
   ],
   "source": [
    "np.sqrt(np.sum((u-v)**2, axis=1))"
   ]
  },
  {
   "cell_type": "code",
   "execution_count": 80,
   "metadata": {},
   "outputs": [
    {
     "data": {
      "text/plain": [
       "array([[0.        , 1.        , 1.41421356],\n",
       "       [1.        , 0.        , 1.        ],\n",
       "       [1.41421356, 1.        , 0.        ]])"
      ]
     },
     "execution_count": 80,
     "metadata": {},
     "output_type": "execute_result"
    }
   ],
   "source": [
    "np.linalg.norm(u-v,axis=1)"
   ]
  },
  {
   "cell_type": "markdown",
   "metadata": {},
   "source": [
    "- In your real application, use sklearn.metrics.pairwise to compute pairwise distances"
   ]
  },
  {
   "cell_type": "code",
   "execution_count": 81,
   "metadata": {},
   "outputs": [
    {
     "name": "stdout",
     "output_type": "stream",
     "text": [
      "[[0.         1.         1.41421356]\n",
      " [1.         0.         1.        ]\n",
      " [1.41421356 1.         0.        ]]\n",
      "[[0. 1. 2.]\n",
      " [1. 0. 1.]\n",
      " [2. 1. 0.]]\n",
      "[[1.         0.70710678 0.        ]\n",
      " [0.70710678 1.         0.70710678]\n",
      " [0.         0.70710678 1.        ]]\n"
     ]
    }
   ],
   "source": [
    "from sklearn.metrics.pairwise import euclidean_distances, manhattan_distances,cosine_similarity\n",
    "\n",
    "print(euclidean_distances(pts))\n",
    "print(manhattan_distances(pts))\n",
    "print(cosine_similarity(pts))"
   ]
  },
  {
   "cell_type": "markdown",
   "metadata": {},
   "source": [
    "- If you define your own distance"
   ]
  },
  {
   "cell_type": "code",
   "execution_count": 82,
   "metadata": {},
   "outputs": [],
   "source": [
    "u_dist = lambda x,y : np.sum(np.abs(np.subtract(x,y)))\n"
   ]
  },
  {
   "cell_type": "code",
   "execution_count": 83,
   "metadata": {},
   "outputs": [
    {
     "name": "stdout",
     "output_type": "stream",
     "text": [
      "[[0. 1. 1.]\n",
      " [1. 0. 1.]\n",
      " [1. 1. 0.]]\n"
     ]
    }
   ],
   "source": [
    "from sklearn.metrics.pairwise import pairwise_distances\n",
    "\n",
    "inf_dist = lambda x, y : np.max(np.abs(x-y))\n",
    "print(pairwise_distances(pts, metric = inf_dist))"
   ]
  },
  {
   "cell_type": "code",
   "execution_count": 84,
   "metadata": {},
   "outputs": [
    {
     "data": {
      "text/plain": [
       "array([[1, 0],\n",
       "       [1, 1],\n",
       "       [0, 1]])"
      ]
     },
     "execution_count": 84,
     "metadata": {},
     "output_type": "execute_result"
    }
   ],
   "source": [
    "pts"
   ]
  },
  {
   "cell_type": "code",
   "execution_count": 85,
   "metadata": {},
   "outputs": [
    {
     "data": {
      "text/plain": [
       "array([[0., 1., 2.],\n",
       "       [1., 0., 1.],\n",
       "       [2., 1., 0.]])"
      ]
     },
     "execution_count": 85,
     "metadata": {},
     "output_type": "execute_result"
    }
   ],
   "source": [
    "pairwise_distances(pts,metric = u_dist )"
   ]
  },
  {
   "cell_type": "code",
   "execution_count": 92,
   "metadata": {},
   "outputs": [
    {
     "data": {
      "text/plain": [
       "array([1, 1])"
      ]
     },
     "execution_count": 92,
     "metadata": {},
     "output_type": "execute_result"
    }
   ],
   "source": [
    "np.abs(x-y)"
   ]
  },
  {
   "cell_type": "code",
   "execution_count": null,
   "metadata": {},
   "outputs": [],
   "source": []
  }
 ],
 "metadata": {
  "kernelspec": {
   "display_name": "Python 3",
   "language": "python",
   "name": "python3"
  },
  "language_info": {
   "codemirror_mode": {
    "name": "ipython",
    "version": 3
   },
   "file_extension": ".py",
   "mimetype": "text/x-python",
   "name": "python",
   "nbconvert_exporter": "python",
   "pygments_lexer": "ipython3",
   "version": "3.7.6"
  }
 },
 "nbformat": 4,
 "nbformat_minor": 4
}
