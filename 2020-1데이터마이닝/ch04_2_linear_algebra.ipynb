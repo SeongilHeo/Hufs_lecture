{
 "cells": [
  {
   "cell_type": "markdown",
   "metadata": {},
   "source": [
    "# 4. Linear Algebra"
   ]
  },
  {
   "cell_type": "markdown",
   "metadata": {},
   "source": [
    "- Linear algebra is the branch of mathematics that deals with vector spaces. \n",
    "- It underpins a large number of data science concepts and techniques\n"
   ]
  },
  {
   "cell_type": "code",
   "execution_count": 3,
   "metadata": {},
   "outputs": [],
   "source": [
    "import re, math, random # regexes, math functions, random numbers \n",
    "import matplotlib.pyplot as plt # pyplot \n",
    "from collections import defaultdict, Counter\n",
    "from functools import partial, reduce"
   ]
  },
  {
   "cell_type": "markdown",
   "metadata": {},
   "source": [
    "# Vectors\n",
    "- Vectors are points in some finite-dimensional space.\n",
    "- Think of your data as vectors \n",
    "- A good way to represent numeric data                   \n",
    "\n",
    "- three-dimensional vectors (height, weight, age)\n",
    "- student grades as four-dimensional vectors (exam1, exam2, exam3, exam4)\n",
    "- A list of three numbers corresponds to a vector in three-dimensional space\n",
    "\n",
    "    ``` \n",
    "    height_weight_age = [70,  # inches,                     \n",
    "                         170, # pounds,                     \n",
    "                         40 ] # years \n",
    "                         \n",
    "    grades = [95,   # exam1          \n",
    "              80,   # exam2      \n",
    "              75,   # exam3    \n",
    "              62 ]  # exam4 \n",
    "    ```"
   ]
  },
  {
   "cell_type": "markdown",
   "metadata": {},
   "source": [
    "vector 방향과 크기를 가지고 있다."
   ]
  },
  {
   "cell_type": "markdown",
   "metadata": {},
   "source": [
    "### Arithmetic on vectors \n",
    "- We will define vector operations \n",
    "- Imagine these python codes as mathematical defintions for explanation \n",
    "- Lists are terrible in performance \n",
    "- Must use numpy arrays in real applications with large data"
   ]
  },
  {
   "cell_type": "markdown",
   "metadata": {},
   "source": [
    "#### Adding two vectors"
   ]
  },
  {
   "cell_type": "code",
   "execution_count": 4,
   "metadata": {},
   "outputs": [
    {
     "data": {
      "image/png": "[encoded data removed]",
      "text/plain": [
       "<Figure size 360x360 with 1 Axes>"
      ]
     },
     "metadata": {
      "needs_background": "light"
     },
     "output_type": "display_data"
    }
   ],
   "source": [
    "%matplotlib inline \n",
    "import numpy as np \n",
    "import matplotlib.pyplot as plt\n",
    "\n",
    "plt.figure(figsize=(5,5))\n",
    "plt.axis([0,4,0,4])\n",
    "\n",
    "v = np.array([1,2])\n",
    "w = np.array([2,1])\n",
    "plt.arrow(0, 0, v[0], v[1], head_width=0.05, head_length=0.1, fc='b', ec='b') \n",
    "plt.arrow(0, 0, w[0], w[1], head_width=0.05, head_length=0.1, fc='g', ec='g')\n",
    "plt.arrow(v[0], v[1], w[0], w[1], head_width=0.05, head_length=0.1, fc='g', ec='g')\n",
    "plt.arrow(0, 0, v[0]+w[0], v[1]+w[1], head_width=0.20, head_length=0.1, fc='r', ec='r') \n",
    "offset=np.array([-0.2,-0.2]) \n",
    "plt.annotate('v', xy=v+offset)\n",
    "plt.annotate('w', xy=w+offset)\n",
    "plt.annotate('v+w', xy=v+w+offset) \n",
    "plt.show()"
   ]
  },
  {
   "cell_type": "markdown",
   "metadata": {},
   "source": [
    "blue : v  \n",
    "green : w     \n",
    "red : v+w"
   ]
  },
  {
   "cell_type": "code",
   "execution_count": 5,
   "metadata": {},
   "outputs": [],
   "source": [
    "def vector_add(v, w):    \n",
    "    \"\"\"adds two vectors componentwise\"\"\" \n",
    "    return [v_i + w_i for v_i, w_i in zip(v,w)]"
   ]
  },
  {
   "cell_type": "markdown",
   "metadata": {},
   "source": [
    "하나씩 보겠다 x, y"
   ]
  },
  {
   "cell_type": "markdown",
   "metadata": {},
   "source": [
    "- Adding two vectors\n",
    "<img src = \"img/vector_add.png\" width=400>"
   ]
  },
  {
   "cell_type": "code",
   "execution_count": 6,
   "metadata": {},
   "outputs": [],
   "source": [
    "def vector_subtract(v, w): \n",
    "    \"\"\"subtracts two vectors componentwise\"\"\"  \n",
    "    return [v_i - w_i for v_i, w_i in zip(v,w)]\n",
    "\n",
    "def vector_sum(vectors):               #vector_add 메소드를 vectors에 적용!\n",
    "    return reduce(vector_add, vectors) \n",
    "\n",
    "def scalar_multiply(c, v):\n",
    "    return [c * v_i for v_i in v]\n",
    "\n",
    "def vector_mean(vectors):              # centroid , vectors의 mean\n",
    "    \"\"\"compute the vector whose i-th element is the mean of the\n",
    "    i-th elements of the input vectors\"\"\"  \n",
    "    n = len(vectors)  \n",
    "    return scalar_multiply(1/n, vector_sum(vectors))\n"
   ]
  },
  {
   "cell_type": "code",
   "execution_count": 7,
   "metadata": {},
   "outputs": [
    {
     "name": "stdout",
     "output_type": "stream",
     "text": [
      "[1 1 0]\n",
      "[ 1 -1  0]\n",
      "[2 2 1]\n",
      "[10  0  0]\n",
      "[0.66666667 0.66666667 0.33333333]\n"
     ]
    }
   ],
   "source": [
    "# numpy version \n",
    "import numpy as np\n",
    "\n",
    "u = np.array([1,1,1]) \n",
    "v = np.array([1,0,0])\n",
    "w = np.array([0,1,0]) \n",
    "print(v + w)                       # vector_add \n",
    "print(v - w)                       # vector_subtract\n",
    "vs = np.array([u ,v, w])           # vectors \n",
    "print(np.sum(vs, axis=0))          # vector_sum \n",
    "print(10 * v)                      # scalar_multiply\n",
    "print(np.mean(vs, axis=0))         # vector_mean"
   ]
  },
  {
   "cell_type": "code",
   "execution_count": 1,
   "metadata": {},
   "outputs": [],
   "source": [
    "def dot(v, w):   \n",
    "    \"\"\"v_1 * w_1 + ... + v_n * w_n\"\"\"                      #(v1, ... ,v) (w1, .....,w ) = v1*w1 ...\n",
    "    return sum(v_i * w_i for v_i, w_i in zip(v, w))\n",
    "\n",
    "def sum_of_squares(v):                                     #자기와 자기 자신\n",
    "    \"\"\"v_1 * v_1 + ... + v_n * v_n\"\"\"    \n",
    "    return dot(v, v)\n",
    "\n",
    "def magnitude(v):                                          \n",
    "    return math.sqrt(sum_of_squares(v))"
   ]
  },
  {
   "cell_type": "markdown",
   "metadata": {},
   "source": [
    "**numpy version**"
   ]
  },
  {
   "cell_type": "code",
   "execution_count": 8,
   "metadata": {},
   "outputs": [
    {
     "name": "stdout",
     "output_type": "stream",
     "text": [
      "0\n",
      "0\n",
      "1\n",
      "1.0\n",
      "1.0\n"
     ]
    }
   ],
   "source": [
    "# v = np.array([1,0,0])\n",
    "w = np.array([0,1,0]) \n",
    "\n",
    "print(np.dot(v,w))            # dot \n",
    "print(v.dot(w))               # dot \n",
    "\n",
    "print(np.dot(v,v))            # sum_of_squares\n",
    "\n",
    "print(np.sqrt(np.dot(v,v)))   # magnitude\n",
    "print(np.linalg.norm(v))      # magnitude"
   ]
  },
  {
   "cell_type": "markdown",
   "metadata": {},
   "source": [
    "맨하탄np.sum(np.abs(v-w))??"
   ]
  },
  {
   "cell_type": "markdown",
   "metadata": {},
   "source": [
    "*Dot product as vector projectio*\n",
    "- v's projection on 𝐰: 𝐯1\n",
    "\n",
    "$$𝐯_1 = { 𝐯 *𝐰 \\over \\vert 𝐰 \\vert} \\times { 𝐰 \\over \\vert 𝐰 \\vert} = { 𝐯 *𝐰 \\over \\vert 𝐰 \\vert^2}𝐰$$"
   ]
  },
  {
   "cell_type": "markdown",
   "metadata": {},
   "source": [
    "cosin distance, 프로젝션 공식 유도 ** 앞으로 많이 쓸 예정"
   ]
  },
  {
   "cell_type": "code",
   "execution_count": 12,
   "metadata": {},
   "outputs": [],
   "source": [
    "def squared_distance(v, w):   \n",
    "    return sum_of_squares(vector_subtract(v, w))\n",
    "\n",
    "def distance(v, w):   \n",
    "    return math.sqrt(squared_distance(v, w))\n",
    "\n",
    "def manhattan_distance(v, w):   \n",
    "    return sum(math.fabs(v_i - w_i) for v_i, w_i in zip(v, w))"
   ]
  },
  {
   "cell_type": "code",
   "execution_count": 13,
   "metadata": {},
   "outputs": [
    {
     "name": "stdout",
     "output_type": "stream",
     "text": [
      "0.9999999999999999\n",
      "0.0\n",
      "-0.9999999999999998\n"
     ]
    }
   ],
   "source": [
    "def cosine_similarity(v, w):   \n",
    "    return dot(v, w) / (magnitude(v) * magnitude(w))\n",
    "\n",
    "v = [0,1,1,0] \n",
    "w = [0,100,100,0]\n",
    "u = [1,0,0,1] \n",
    "y = [-1,0,0,-1]\n",
    "\n",
    "print(cosine_similarity(v, w)) \n",
    "print(cosine_similarity(u, v)) \n",
    "print(cosine_similarity(u,y))"
   ]
  },
  {
   "cell_type": "code",
   "execution_count": 14,
   "metadata": {},
   "outputs": [
    {
     "name": "stdout",
     "output_type": "stream",
     "text": [
      "162\n",
      "12.727922061357855\n",
      "18.0\n",
      "0.9999999999999998\n"
     ]
    }
   ],
   "source": [
    "import numpy as np \n",
    "v = np.array([1,1]) \n",
    "w = np.array([10,10])\n",
    "\n",
    "print(np.dot(v - w, v - w))            # squared_distance \n",
    "print(np.sqrt(np.dot(v - w, v - w)))   # (euclidean) distance\n",
    "print(np.sum(np.fabs(v - w)))        # manhattan_distance \n",
    "print(np.dot(v,w) / (np.sqrt(np.dot(v,v)) * np.sqrt(np.dot(w,w))))   # cosine sim"
   ]
  },
  {
   "cell_type": "markdown",
   "metadata": {},
   "source": [
    "fabs  # 절대값"
   ]
  },
  {
   "cell_type": "markdown",
   "metadata": {},
   "source": [
    "- Since all componetns are nonnegative in document vectors, cosine similarity is between 0 and 1,\n",
    "cosine_distance is\n",
    "\n",
    "```\n",
    "    cosine_distance(v, w) = 1 - cosine_similarity(v, w)\n",
    "```\n"
   ]
  },
  {
   "cell_type": "code",
   "execution_count": 17,
   "metadata": {},
   "outputs": [],
   "source": [
    "def cosine_distance(v, w):    \n",
    "    return 1 - cosine_similarity(v, w)"
   ]
  },
  {
   "cell_type": "markdown",
   "metadata": {},
   "source": [
    "## Matrices\n",
    "- Matrix is a two-dimensional collection of numbers.\n",
    "- We will represent matrices as list s of list s\n",
    "- If A is a matrix, then A[i][j] is the element in the ith row and the jth column.\n",
    "\n",
    "```\n",
    "    A = [[1, 2, 3],\n",
    "        [4, 5, 6]] # A has 2 rows and 3 columns \n",
    "\n",
    "    B = [[1, 2],  \n",
    "        [3, 4],  \n",
    "        [5, 6]] # B has 3 rows and 2 columns\n",
    "```\n",
    "- if you had the heights, weights, and ages of 1,000 people, you could put them in a matrix:\n",
    "\n",
    "```\n",
    "    data = [[70, 170, 40],       \n",
    "            [65, 120, 26],    \n",
    "            [77, 250, 19],     \n",
    "            # ....     \n",
    "            ]\n",
    "```"
   ]
  },
  {
   "cell_type": "code",
   "execution_count": 22,
   "metadata": {},
   "outputs": [
    {
     "data": {
      "text/plain": [
       "[[0, 0, 0, 1, 1],\n",
       " [1, 0, 1, 1, 0],\n",
       " [1, 0, 1, 0, 1],\n",
       " [0, 1, 0, 1, 1],\n",
       " [1, 1, 1, 0, 0]]"
      ]
     },
     "execution_count": 22,
     "metadata": {},
     "output_type": "execute_result"
    }
   ],
   "source": [
    "# \n",
    "# functions for working with matrices \n",
    "#\n",
    "\n",
    "def shape(A):   \n",
    "    num_rows = len(A)  \n",
    "    num_cols = len(A[0]) if A else 0 \n",
    "    return num_rows, num_cols\n",
    "\n",
    "def get_row(A, i):  \n",
    "    return A[i]\n",
    "\n",
    "def get_column(A, j):   \n",
    "    return [A_i[j] for A_i in A]\n",
    "\n",
    "def make_matrix(num_rows, num_cols, entry_fn): \n",
    "    \"\"\"returns a num_rows x num_cols matrix   \n",
    "    whose (i,j)-th entry is entry_fn(i, j)\"\"\"    \n",
    "    return [[entry_fn(i, j) for j in range(num_cols)]     \n",
    "            for i in range(num_rows)]\n",
    "\n",
    "def is_diagonal(i, j):  \n",
    "    \"\"\"1's on the 'diagonal', 0's everywhere else\"\"\"  \n",
    "    return 1 if i == j else 0\n",
    "\n",
    "identity_matrix = make_matrix(5, 5, is_diagonal)\n",
    "\n",
    "import random \n",
    "random_matrix = make_matrix(5, 5, lambda i, j: random.choice([0,1]))\n",
    "random_matrix"
   ]
  },
  {
   "cell_type": "markdown",
   "metadata": {},
   "source": [
    "#### numpy version "
   ]
  },
  {
   "cell_type": "code",
   "execution_count": 19,
   "metadata": {},
   "outputs": [],
   "source": [
    "A = np.array([[1, 2, 3],          \n",
    "              [4, 5, 6]])\n",
    "\n",
    "B = np.array([[1, 2],      \n",
    "              [3, 4],      \n",
    "              [5, 6]])"
   ]
  },
  {
   "cell_type": "code",
   "execution_count": 21,
   "metadata": {},
   "outputs": [
    {
     "data": {
      "text/plain": [
       "array([[1, 0, 0, 0, 1],\n",
       "       [1, 0, 0, 0, 1],\n",
       "       [1, 0, 1, 0, 1],\n",
       "       [0, 0, 1, 0, 1],\n",
       "       [1, 0, 0, 0, 0]])"
      ]
     },
     "execution_count": 21,
     "metadata": {},
     "output_type": "execute_result"
    }
   ],
   "source": [
    "A.shape    # shape \n",
    "A[1,:]     # get_row\n",
    "A[:,1]     # get_column \n",
    "np.eye(5,5) # identity_matrix\n",
    "\n",
    "# 5 x 5 matrix with random selection of [0,1]\n",
    "np.array([np.random.choice([0,1]) for _ in np.arange(25)]).reshape(5,5) \n",
    "np.vectorize(np.int)(np.random.rand(25) >= 0.5).reshape(5,5)"
   ]
  },
  {
   "cell_type": "markdown",
   "metadata": {},
   "source": [
    "#### Two representations for friendships \n",
    "- Representation in Chapter 1"
   ]
  },
  {
   "cell_type": "code",
   "execution_count": 24,
   "metadata": {},
   "outputs": [],
   "source": [
    "friendships = [(0, 1), (0, 2), (1, 2), (1, 3), (2, 3), (3, 4),     \n",
    "               (4, 5), (5, 6), (5, 7), (6, 8), (7, 8), (8, 9)]"
   ]
  },
  {
   "cell_type": "markdown",
   "metadata": {},
   "source": [
    "- Alternative notation"
   ]
  },
  {
   "cell_type": "code",
   "execution_count": 25,
   "metadata": {},
   "outputs": [],
   "source": [
    "#          user 0  1  2  3  4  5  6  7  8  9 #\n",
    "friendships = [[0, 1, 1, 0, 0, 0, 0, 0, 0, 0], # user 0    \n",
    "               [1, 0, 1, 1, 0, 0, 0, 0, 0, 0], # user 1      \n",
    "               [1, 1, 0, 1, 0, 0, 0, 0, 0, 0], # user 2      \n",
    "               [0, 1, 1, 0, 1, 0, 0, 0, 0, 0], # user 3      \n",
    "               [0, 0, 0, 1, 0, 1, 0, 0, 0, 0], # user 4         \n",
    "               [0, 0, 0, 0, 1, 0, 1, 1, 0, 0], # user 5         \n",
    "               [0, 0, 0, 0, 0, 1, 0, 0, 1, 0], # user 6        \n",
    "               [0, 0, 0, 0, 0, 1, 0, 0, 1, 0], # user 7       \n",
    "               [0, 0, 0, 0, 0, 0, 1, 1, 0, 1], # user 8       \n",
    "               [0, 0, 0, 0, 0, 0, 0, 0, 1, 0]] # user 9\n"
   ]
  },
  {
   "cell_type": "markdown",
   "metadata": {},
   "source": [
    "이것 처럼 별로 없으면 위에 처럼 해라"
   ]
  },
  {
   "cell_type": "markdown",
   "metadata": {},
   "source": [
    "adjacency matrix"
   ]
  },
  {
   "cell_type": "code",
   "execution_count": 26,
   "metadata": {},
   "outputs": [
    {
     "data": {
      "text/plain": [
       "False"
      ]
     },
     "execution_count": 26,
     "metadata": {},
     "output_type": "execute_result"
    }
   ],
   "source": [
    "friendships[0][2] == 1     # True, 0 and 2 are friends \n",
    "friendships[0][8] == 1     # False, 0 and 8 are not friend"
   ]
  },
  {
   "cell_type": "code",
   "execution_count": 28,
   "metadata": {},
   "outputs": [
    {
     "name": "stdout",
     "output_type": "stream",
     "text": [
      "[4, 6, 7]\n"
     ]
    }
   ],
   "source": [
    "friends_of_five = [i                                              # only need \n",
    "                   for i, is_friend in enumerate(friendships[5])  # to look at   \n",
    "                   if is_friend]                                  # one row\n",
    "\n",
    "print(friends_of_five)"
   ]
  },
  {
   "cell_type": "markdown",
   "metadata": {},
   "source": [
    "### numpy version"
   ]
  },
  {
   "cell_type": "code",
   "execution_count": 30,
   "metadata": {},
   "outputs": [
    {
     "data": {
      "text/plain": [
       "array([[4],\n",
       "       [6],\n",
       "       [7]], dtype=int64)"
      ]
     },
     "execution_count": 30,
     "metadata": {},
     "output_type": "execute_result"
    }
   ],
   "source": [
    "friendships = np.array(friendships) \n",
    "friendships[0, 2] == 1             # True, 0 and 2 are friends \n",
    "friendships[0, 8] == 1             # False, 0 and 8 are not friends \n",
    "np.argwhere(friendships[5] == 1)   # friends_of_five"
   ]
  },
  {
   "cell_type": "markdown",
   "metadata": {},
   "source": [
    "### matrix addition"
   ]
  },
  {
   "cell_type": "code",
   "execution_count": 32,
   "metadata": {},
   "outputs": [],
   "source": [
    "# matrix addition\n",
    "def matrix_add(A, B):   \n",
    "    if shape(A) != shape(B):       \n",
    "        raise ArithmeticError(\"cannot add matrices with different shapes\")\n",
    "        \n",
    "    num_rows, num_cols = shape(A)    \n",
    "    def entry_fn(i, j): return A[i][j] + B[i][j]\n",
    "    \n",
    "    return make_matrix(num_rows, num_cols, entry_fn)"
   ]
  },
  {
   "cell_type": "markdown",
   "metadata": {},
   "source": [
    "### numpy version"
   ]
  },
  {
   "cell_type": "code",
   "execution_count": 51,
   "metadata": {},
   "outputs": [
    {
     "name": "stdout",
     "output_type": "stream",
     "text": [
      "[[1 1]\n",
      " [2 2]] \n",
      "A\n",
      "\n",
      "[[3 3]\n",
      " [4 4]] \n",
      "B\n",
      "\n",
      "[[4 4]\n",
      " [6 6]]\n",
      "A + B\n",
      "\n",
      "[[3 3]\n",
      " [8 8]]\n",
      "A * B\n",
      "\n",
      "[[1 2]\n",
      " [1 2]]\n",
      "np.transpose(A)\n",
      "\n",
      "[[1 2]\n",
      " [1 2]]\n",
      "A.T\n",
      "\n",
      "[[ 7  7]\n",
      " [14 14]]\n",
      "A.dot(B)\n",
      "\n",
      "[[ 7  7]\n",
      " [14 14]]\n",
      "np.matmul(A,B)\n",
      "\n",
      "[[1. 2.]\n",
      " [3. 4.]] \n",
      "C\n",
      "\n",
      "-2.0000000000000004\n",
      "[[-2.   1. ]\n",
      " [ 1.5 -0.5]]\n",
      "[[1.00000000e+00 1.11022302e-16]\n",
      " [0.00000000e+00 1.00000000e+00]]\n",
      "C.dot(np.linalg.inv(C))\n",
      "\n",
      "(array([-0.37228132,  5.37228132]), array([[-0.82456484, -0.41597356],\n",
      "       [ 0.56576746, -0.90937671]]))\n",
      "np.linalg.eig(C)고유값, 고유벡터\n"
     ]
    }
   ],
   "source": [
    "import numpy as np\n",
    "A = np.array([[1,1],[2,2]]) \n",
    "print(A,\"\\nA\\n\")\n",
    "B = np.array([[3,3],[4,4]]) \n",
    "print(B,\"\\nB\\n\")\n",
    "print(A + B)     # numpy version \n",
    "print(\"A + B\\n\")     # numpy version \n",
    "print(A * B)  \n",
    "print(\"A * B\\n\")  \n",
    "print(np.transpose(A))              # transpose \n",
    "print(\"np.transpose(A)\\n\")\n",
    "print(A.T) \n",
    "print(\"A.T\\n\") \n",
    "print(A.dot(B))                     # matrix multiplication \n",
    "print(\"A.dot(B)\\n\")                     \n",
    "print(np.matmul(A,B)) \n",
    "print(\"np.matmul(A,B)\\n\") \n",
    "C = np.array([[1., 2.], [3., 4.]]) \n",
    "print(C,'\\nC\\n')\n",
    "print(np.linalg.det(C))             # determinant 행렬식\n",
    "print(np.linalg.inv(C))             # inverse 역행력\n",
    "print(C.dot(np.linalg.inv(C))) #내적\n",
    "print(\"C.dot(np.linalg.inv(C))\\n\")\n",
    "print(np.linalg.eig(C))#고유값, 고유벡터\n",
    "print(\"np.linalg.eig(C)고유값, 고유벡터\")"
   ]
  },
  {
   "cell_type": "markdown",
   "metadata": {},
   "source": [
    "---\n",
    "- 고유벡터 : 선형 변화이 변환이 일어난 후에도 방향이 변하지 않는, 영벡터가 아닌 벡터"
   ]
  },
  {
   "cell_type": "markdown",
   "metadata": {},
   "source": [
    "# More on types of attributes \n",
    "There are different types of attributes\n",
    "- Nominal  # 학번 연산의 의미가 아니다 only 같다 아니다\n",
    "    - Examples: ID numbers, eye color, zip codes\n",
    "- Ordinal # 정렬 순서, 매운정도\n",
    "    - Examples: rankings (e.g., taste of potato chips on a scale from 1-10), grades, height {tall, medium, short} \n",
    "- Interval # 간격, 구간, 온도 10도 20도 두배 더운게 아니다\n",
    "    - Examples: calendar dates, temperatures in Celsius or Fahrenheit. \n",
    "- Ratio   #비율, 비\n",
    "    - Examples: temperature in Kelvin, length, time, counts"
   ]
  },
  {
   "cell_type": "markdown",
   "metadata": {},
   "source": [
    "*** 이중에서 vector화 할수 있는건 오직 ratio +,- * / 다 할 수 있는 ***"
   ]
  },
  {
   "cell_type": "markdown",
   "metadata": {},
   "source": [
    "# Properties of Attribute Values"
   ]
  },
  {
   "cell_type": "markdown",
   "metadata": {},
   "source": [
    "- The type of an attribute depends on which of the following properties/operations it possesses: \n",
    "    - Distinctness: = \n",
    "    - Order: < > \n",
    "    - Differences: + -\n",
    "    - Ratios: * / \n",
    "- Nominal attribute: distinctness \n",
    "- Ordinal attribute: distinctness & order \n",
    "- Interval attribute: distinctness, order & meaningful differences \n",
    "- Ratio attribute: all 4 properties/operations # 성질"
   ]
  },
  {
   "cell_type": "markdown",
   "metadata": {},
   "source": [
    "통계 statistic\n",
    "6확률 가설 검정\n",
    "\n",
    "gradint로 넘어간다"
   ]
  }
 ],
 "metadata": {
  "kernelspec": {
   "display_name": "Python 3",
   "language": "python",
   "name": "python3"
  },
  "language_info": {
   "codemirror_mode": {
    "name": "ipython",
    "version": 3
   },
   "file_extension": ".py",
   "mimetype": "text/x-python",
   "name": "python",
   "nbconvert_exporter": "python",
   "pygments_lexer": "ipython3",
   "version": "3.7.7"
  }
 },
 "nbformat": 4,
 "nbformat_minor": 4
}
