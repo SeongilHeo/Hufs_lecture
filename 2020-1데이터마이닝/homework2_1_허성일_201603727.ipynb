{
 "cells": [
  {
   "cell_type": "markdown",
   "metadata": {},
   "source": [
    "# Homework 2_1. Numpy and matplotlib"
   ]
  },
  {
   "cell_type": "markdown",
   "metadata": {},
   "source": [
    "***Double Click here to edit this cell***\n",
    "\n",
    "- Name: 허성일\n",
    "- Student ID: 201603727\n",
    "- Submission date: 2020.04.10"
   ]
  },
  {
   "cell_type": "markdown",
   "metadata": {},
   "source": [
    "## Remark. Use numpy wherever it is possible. \n"
   ]
  },
  {
   "cell_type": "markdown",
   "metadata": {},
   "source": [
    "## Total: 45 pts"
   ]
  },
  {
   "cell_type": "markdown",
   "metadata": {},
   "source": [
    "## Problem 1 (5 pts)\n",
    "\n",
    "- The centroid of a finite set of $\\displaystyle {k}$ points $\\displaystyle \\mathbf {x} _{1},\\mathbf {x} _{2},\\ldots ,\\mathbf {x} _{k}$ in $\\displaystyle \\mathbb {R} ^{n}$ is\n",
    "$$\n",
    "\\mathbf {C} ={\\frac {\\mathbf {x} _{1}+\\mathbf {x} _{2}+\\cdots +\\mathbf {x} _{k}}{k}}\n",
    "$$\n",
    "\n",
    "- This point minimizes the sum of squared Euclidean distances between itself and each point in the set.\n",
    "- Compute centroid\n",
    "- Plot dataset and centroid "
   ]
  },
  {
   "cell_type": "code",
   "execution_count": 1,
   "metadata": {
    "hide_input": false
   },
   "outputs": [],
   "source": [
    "%matplotlib inline\n",
    "\n",
    "import matplotlib.pyplot as plt\n",
    "import numpy as np\n",
    "\n",
    "def plot_centroid(data):\n",
    "    \n",
    "# YOUR CODE MUST BE HERE\n",
    "\n",
    "    X = data[:,0]\n",
    "    Y = data[:,1]\n",
    "    plt.scatter(X,Y)\n",
    "    plt.scatter(np.mean(X),np.mean(Y),c='red', marker='s')\n",
    "    plt.show()"
   ]
  },
  {
   "cell_type": "code",
   "execution_count": 2,
   "metadata": {},
   "outputs": [
    {
     "data": {
      "image/png": "[encoded data removed]",
      "text/plain": [
       "<Figure size 432x288 with 1 Axes>"
      ]
     },
     "metadata": {
      "needs_background": "light"
     },
     "output_type": "display_data"
    }
   ],
   "source": [
    "# DO NOT EDIT THIS CELL\n",
    "np.random.seed(0)\n",
    "data = np.random.randn(10,2)\n",
    "plot_centroid(data)"
   ]
  },
  {
   "cell_type": "markdown",
   "metadata": {},
   "source": [
    "**You output must be:**\n",
    "\n",
    "<img src=\"hw2_1.png\">"
   ]
  },
  {
   "cell_type": "markdown",
   "metadata": {},
   "source": [
    "## Problem 2 (10 pts)\n",
    "\n",
    "- Let $\\textstyle x_{1},x_{2},\\cdots ,x_{n}$ be a set of $\\textstyle n$ points in a space with a distance function $d$. \n",
    "- Medoid is defined as\n",
    "$$\n",
    "x_{\\text{medoid}} = \\text{argmin}_{y \\in \\{x_1, x_2, \\cdots, x_n\\}} \\sum_{i=1}^{n}d(y, x_i)\n",
    "$$\n",
    "- Compute medoid using Euclidean distance as a distance function.\n",
    "- Plot dataset and medoid\n",
    "- *Do not use sklearn, scipy or any module computing distance matrix directly*\n",
    "- Use numpy functions only"
   ]
  },
  {
   "cell_type": "code",
   "execution_count": 3,
   "metadata": {},
   "outputs": [],
   "source": [
    "%matplotlib inline\n",
    "\n",
    "import matplotlib.pyplot as plt\n",
    "import numpy as np\n",
    "\n",
    "def plot_medoid(data):\n",
    "    \n",
    "# YOUR CODE MUST BE HERE\n",
    "\n",
    "    plt.scatter(data[:,0],data[:,1]) #전체\n",
    "    \n",
    "    Data=np.array([data]*((data.size)//2))      # data 똑같은거 data수 만큼 복제\n",
    "    D=data[:, np.newaxis,:]                     #축 추가\n",
    "    dist=np.sqrt(np.square(Data-D))             #broadcast '-' 해서 거리 연산\n",
    "    result=np.sum(np.sum(dist,axis=2),axis=1)   #모든 거리 합\n",
    "    x,y=data[np.argmin(result)]                 # 위치확인\n",
    "    \n",
    "    plt.scatter(x,y,c='red', marker='s')        #특정값 출력\n",
    "    plt.show()"
   ]
  },
  {
   "cell_type": "code",
   "execution_count": 4,
   "metadata": {},
   "outputs": [
    {
     "data": {
      "image/png": "[encoded data removed]",
      "text/plain": [
       "<Figure size 432x288 with 1 Axes>"
      ]
     },
     "metadata": {
      "needs_background": "light"
     },
     "output_type": "display_data"
    }
   ],
   "source": [
    "# DO NOT EDIT THIS CELL\n",
    "np.random.seed(0)\n",
    "data = np.random.randn(10,2)\n",
    "plot_medoid(data)"
   ]
  },
  {
   "cell_type": "markdown",
   "metadata": {},
   "source": [
    "**You output must be:**\n",
    "\n",
    "<img src=\"hw2_2.png\">"
   ]
  },
  {
   "cell_type": "markdown",
   "metadata": {},
   "source": [
    "## Sample code"
   ]
  },
  {
   "cell_type": "code",
   "execution_count": 5,
   "metadata": {},
   "outputs": [
    {
     "data": {
      "image/png": "[encoded data removed]",
      "text/plain": [
       "<Figure size 432x288 with 1 Axes>"
      ]
     },
     "metadata": {
      "needs_background": "light"
     },
     "output_type": "display_data"
    }
   ],
   "source": [
    "%matplotlib inline\n",
    "\n",
    "import matplotlib.pyplot as plt\n",
    "import numpy as np\n",
    "\n",
    "def sample_code():\n",
    "    x = np.arange(10)\n",
    "    y = np.arange(10)\n",
    "    center = (0, 0)\n",
    "    radius = 10\n",
    "    plt.scatter(x, y)\n",
    "    ax = plt.gca()\n",
    "    ax.add_patch(plt.Circle(center, radius, color='red', alpha=0.2))\n",
    "    plt.axis('equal')\n",
    "    plt.show()\n",
    "    \n",
    "sample_code()"
   ]
  },
  {
   "cell_type": "markdown",
   "metadata": {},
   "source": [
    "## Problem 3 (5 pts)\n",
    "\n",
    "- We want to draw a scatter plot using **data**\n",
    "- Plot the center using a green square symbol\n",
    "- Plot points inside **radius** from center using red dots\n",
    "- Plot points out of the **radius** from center using 'C0' colored dots\n",
    "- Draw a filled circle centered at **center** using red color and alpha=0.2"
   ]
  },
  {
   "cell_type": "code",
   "execution_count": 6,
   "metadata": {},
   "outputs": [],
   "source": [
    "%matplotlib inline\n",
    "\n",
    "import matplotlib.pyplot as plt\n",
    "import numpy as np\n",
    "\n",
    "def points_within_radius(data, center, radius):\n",
    "\n",
    "# YOUR CODE MUST BE HERE\n",
    "\n",
    "    ax =plt.gca()                                                     #바탕\n",
    "    ax.add_patch(plt.Circle(center, radius, color='red', alpha=0.2))  #원그리기 \n",
    "    plt.scatter(center[0], center[1], c='green', marker='s')          #중앙 Green\n",
    "    \n",
    "    dist=np.sqrt(np.sum(np.square(data-center), axis=1))              #거리구하기\n",
    "    inner=np.where(dist<=radius)                                      #안쪽 index\n",
    "    outter=np.where(dist>radius)                                      #바깥 index\n",
    "                 \n",
    "    plt.scatter(data[inner][:,0], data[inner][:,1], c= 'red')\n",
    "    plt.scatter(data[outter][:,0], data[outter][:,1], c= 'C0')\n",
    "                 \n",
    "    plt.axis('equal')\n",
    "    plt.show()"
   ]
  },
  {
   "cell_type": "code",
   "execution_count": 7,
   "metadata": {},
   "outputs": [
    {
     "data": {
      "image/png": "[encoded data removed]",
      "text/plain": [
       "<Figure size 432x288 with 1 Axes>"
      ]
     },
     "metadata": {
      "needs_background": "light"
     },
     "output_type": "display_data"
    }
   ],
   "source": [
    "# DO NOT EDIT THIS CELL\n",
    "np.random.seed(1)\n",
    "data = np.random.randn(10,2)\n",
    "radius = 3.0\n",
    "center = np.random.randn(2)\n",
    "points_within_radius(data, center, radius)"
   ]
  },
  {
   "cell_type": "markdown",
   "metadata": {},
   "source": [
    "**You output must be:**\n",
    "\n",
    "<img src=\"hw2_3.png\">"
   ]
  },
  {
   "cell_type": "markdown",
   "metadata": {},
   "source": [
    "## Problem 4 (10 pts)\n",
    "\n",
    "- We want to find k nearest points from the center\n",
    "- Plot the center using a green square symbol\n",
    "- Plot k-nearest points from center using red dots\n",
    "- Plot other points using 'C0' colored dots\n",
    "- Draw a filled circle centered at **center** using red color and alpha=0.2\n",
    "- *Do not use sklearn, scipy or any module computing k-nearest points directly*\n",
    "- Use numpy functions only"
   ]
  },
  {
   "cell_type": "code",
   "execution_count": 8,
   "metadata": {},
   "outputs": [],
   "source": [
    "%matplotlib inline\n",
    "\n",
    "import matplotlib.pyplot as plt\n",
    "import numpy as np\n",
    "\n",
    "def points_k_nearest(data, center, k=1):\n",
    "    \n",
    "# YOUR CODE MUST BE HERE\n",
    "\n",
    "    ax =plt.gca()                                                   #바탕\n",
    "    plt.scatter(center[0], center[1], c='green', marker='s')        #중앙 Green\n",
    "    \n",
    "    dist=np.sqrt(np.sum(np.square(data-center), axis=1))            #거리구하기\n",
    "    key=np.partition(dist,k)[k-1]\n",
    "    ax.add_patch(plt.Circle(center, key, color='r', alpha=0.2))     #원그리기 \n",
    "    \n",
    "    inner=np.where(dist<=key)\n",
    "    outter=np.where(dist>key)\n",
    "    plt.scatter(data[inner][:,0], data[inner][:,1], c= 'red')\n",
    "    plt.scatter(data[outter][:,0], data[outter][:,1], c= 'C0') \n",
    "    \n",
    "    plt.axis('equal')\n",
    "    plt.show()"
   ]
  },
  {
   "cell_type": "code",
   "execution_count": 9,
   "metadata": {},
   "outputs": [
    {
     "data": {
      "image/png": "[encoded data removed]",
      "text/plain": [
       "<Figure size 432x288 with 1 Axes>"
      ]
     },
     "metadata": {
      "needs_background": "light"
     },
     "output_type": "display_data"
    }
   ],
   "source": [
    "# DO NOT EDIT THIS CELL\n",
    "np.random.seed(1)\n",
    "data = np.random.randn(10,2)\n",
    "k = 5\n",
    "center = np.random.randn(2)\n",
    "points_k_nearest(data, center, k)"
   ]
  },
  {
   "cell_type": "markdown",
   "metadata": {},
   "source": [
    "**You output must be:**\n",
    "\n",
    "<img src=\"hw2_4.png\">"
   ]
  },
  {
   "cell_type": "code",
   "execution_count": 10,
   "metadata": {},
   "outputs": [
    {
     "data": {
      "image/png": "[encoded data removed]",
      "text/plain": [
       "<Figure size 432x288 with 1 Axes>"
      ]
     },
     "metadata": {
      "needs_background": "light"
     },
     "output_type": "display_data"
    }
   ],
   "source": [
    "# DO NOT EDIT THIS CELL\n",
    "np.random.seed(1)\n",
    "data = np.array([[1.,0.],[0.,1.],[-1.,0.],[0.,-1.],[1.,1.],[1.,-1.],[-1.,1.],[-1.,-1.]])\n",
    "np.random.shuffle(data)\n",
    "k = 1\n",
    "center = np.array([0.,0.])\n",
    "points_k_nearest(data, center, k)"
   ]
  },
  {
   "cell_type": "markdown",
   "metadata": {},
   "source": [
    "**You output must be:**\n",
    "\n",
    "<img src=\"hw2_5.png\">"
   ]
  },
  {
   "cell_type": "markdown",
   "metadata": {},
   "source": [
    "## Problem 5 (15 pts)\n",
    "\n",
    "- **find_k_nearest_index** returns the index of the k-nearest\n",
    "- We want to time the execution\n",
    "- *Do not use sklearn, scipy or any module computing k-nearest points directly*\n",
    "- Use numpy functions only\n",
    "- Points: \n",
    "    - less than or equal to 1000ms: 15 pts\n",
    "    - less than or equal to 10s: 10 pts\n",
    "    - greater than 10s: 5 pts"
   ]
  },
  {
   "cell_type": "code",
   "execution_count": 11,
   "metadata": {},
   "outputs": [],
   "source": [
    "import numpy as np\n",
    "\n",
    "def find_k_nearest_index(data, center, k=1):\n",
    "\n",
    "# YOUR CODE MUST BE HERE\n",
    "    dist=np.sum(np.square(data-center), axis=1)\n",
    "    key=np.argpartition(dist,k)[:k]\n",
    "    print(repr(key))"
   ]
  },
  {
   "cell_type": "code",
   "execution_count": 13,
   "metadata": {},
   "outputs": [
    {
     "name": "stdout",
     "output_type": "stream",
     "text": [
      "array([4362536, 6716705, 6845205, 7607470, 3146213], dtype=int64)\n",
      "Wall time: 641 ms\n"
     ]
    }
   ],
   "source": [
    "# DO NOT EDIT THIS CELL\n",
    "np.random.seed(1)\n",
    "data = np.random.randn(10000000,2)   # 10 million data\n",
    "k = 5\n",
    "center = np.random.randn(2)\n",
    "%time find_k_nearest_index(data, center, k)"
   ]
  },
  {
   "cell_type": "markdown",
   "metadata": {},
   "source": [
    "**Your time must be around:**\n",
    "```\n",
    "Wall time: 419 ms\n",
    "```\n",
    "**You output must be:**\n",
    "```\n",
    "array([3146213, 4362536, 6716705, 6845205, 7607470])\n",
    "```"
   ]
  },
  {
   "cell_type": "markdown",
   "metadata": {},
   "source": [
    "## Ethics:\n",
    "If you cheat, you will get negatgive of the total points.\n",
    "If the homework total is 22 and you cheat, you get -22."
   ]
  },
  {
   "cell_type": "markdown",
   "metadata": {},
   "source": [
    "## What to submit\n",
    "- Run **all cells**\n",
    "- Goto \"File -> Print Preview\"\n",
    "- Print the page as pdf\n",
    "- Submit the pdf file in google classroom\n",
    "- No late homeworks accepted\n",
    "- Your homework will be graded on the basis of correctness and programming skills"
   ]
  }
 ],
 "metadata": {
  "hide_input": false,
  "kernelspec": {
   "display_name": "Python 3",
   "language": "python",
   "name": "python3"
  },
  "language_info": {
   "codemirror_mode": {
    "name": "ipython",
    "version": 3
   },
   "file_extension": ".py",
   "mimetype": "text/x-python",
   "name": "python",
   "nbconvert_exporter": "python",
   "pygments_lexer": "ipython3",
   "version": "3.7.7"
  }
 },
 "nbformat": 4,
 "nbformat_minor": 4
}
