{
 "cells": [
  {
   "cell_type": "markdown",
   "metadata": {},
   "source": [
    "# 5. Statistics\n",
    "- Statistics refers to the mathematics and techniques with which we understand data.\n",
    "- It is a rich, enormous field, more suited to a shelf (or room) in a library rather than a chapter in a book"
   ]
  },
  {
   "cell_type": "markdown",
   "metadata": {},
   "source": [
    "## **Describing a Single Set of Data**\n",
    "- VP of Fundraising asks you for some sort of description of how many friends your members have."
   ]
  },
  {
   "cell_type": "code",
   "execution_count": 8,
   "metadata": {},
   "outputs": [],
   "source": [
    "from collections import Counter \n",
    "from linear_algebra import sum_of_squares, dot \n",
    "import math \n",
    "from operator import add"
   ]
  },
  {
   "cell_type": "code",
   "execution_count": 9,
   "metadata": {},
   "outputs": [],
   "source": [
    "num_friends = [100.0,49,41,40,25,21,21,19,19,18,18,16,15,15,15,15,14,14,13,13,13,13,12,12,11,10,10,10,10,10,10,10,10,10,10,10,10,10,10,10,9,9,9,9,9,9,9,9,9,9,9,9,9,9,9,9,9,9,8,8,8,8,8,8,8,8,8,8,8,8,8,7,7,7,7,7,7,7,7,7,7,7,7,7,7,7,6,6,6,6,6,6,6,6,6,6,6,6,6,6,6,6,6,6,6,6,6,6,5,5,5,5,5,5,5,5,5,5,5,5,5,5,5,5,5,4,4,4,4,4,4,4,4,4,4,4,4,4,4,4,4,4,4,4,4,3,3,3,3,3,3,3,3,3,3,3,3,3,3,3,3,3,3,3,3,2,2,2,2,2,2,2,2,2,2,2,2,2,2,2,2,2,1,1,1,1,1,1,1,1,1,1,1,1,1,1,1,1,1,1,1,1,1,1]"
   ]
  },
  {
   "cell_type": "code",
   "execution_count": 10,
   "metadata": {},
   "outputs": [],
   "source": [
    "def make_friend_counts_histogram(plt):  \n",
    "    friend_counts = Counter(num_friends) \n",
    "    xs = range(101)  \n",
    "    ys = [friend_counts[x] for x in xs]   \n",
    "    plt.bar(xs, ys)  \n",
    "    plt.axis([0,101,0,25])    \n",
    "    plt.title(\"Histogram of Friend Counts\")\n",
    "    plt.xlabel(\"# of friends\") \n",
    "    plt.ylabel(\"# of people\")  \n",
    "    plt.show()"
   ]
  },
  {
   "cell_type": "code",
   "execution_count": 11,
   "metadata": {},
   "outputs": [
    {
     "data": {
      "image/png": "[encoded data removed]",
      "text/plain": [
       "<Figure size 432x288 with 1 Axes>"
      ]
     },
     "metadata": {
      "needs_background": "light"
     },
     "output_type": "display_data"
    }
   ],
   "source": [
    "import matplotlib.pyplot as plt\n",
    "make_friend_counts_histogram(plt)"
   ]
  },
  {
   "cell_type": "markdown",
   "metadata": {},
   "source": [
    "- Unfortunately, this chart is still too difficult to slip into conversations. \n",
    "- So you start generating some statistics. \n",
    "- Probably the simplest statistic is simply the number of data points:"
   ]
  },
  {
   "cell_type": "markdown",
   "metadata": {},
   "source": [
    "**min, max, smallest, largest**"
   ]
  },
  {
   "cell_type": "code",
   "execution_count": 12,
   "metadata": {},
   "outputs": [
    {
     "name": "stdout",
     "output_type": "stream",
     "text": [
      "num_points 204\n",
      "largest value 100.0\n",
      "smallest value 1\n",
      "second_smallest_value 1\n",
      "second_largest_value 49\n"
     ]
    }
   ],
   "source": [
    "num_points = len(num_friends)               # 204\n",
    "\n",
    "largest_value = max(num_friends)            # 100 smallest_value = min(num_friends)           # 1\n",
    "sorted_values = sorted(num_friends)\n",
    "\n",
    "smallest_value = sorted_values[0]           # 1 \n",
    "second_smallest_value = sorted_values[1]    # 1 \n",
    "second_largest_value = sorted_values[-2]    # 49\n",
    "\n",
    "print(\"num_points\", len(num_friends)) \n",
    "print(\"largest value\", max(num_friends)) \n",
    "print(\"smallest value\", min(num_friends))\n",
    "print(\"second_smallest_value\", sorted_values[1])\n",
    "print(\"second_largest_value\", sorted_values[-2]  )"
   ]
  },
  {
   "cell_type": "markdown",
   "metadata": {},
   "source": [
    "### **numpy version**"
   ]
  },
  {
   "cell_type": "code",
   "execution_count": 13,
   "metadata": {},
   "outputs": [
    {
     "name": "stdout",
     "output_type": "stream",
     "text": [
      "num_points 204\n",
      "largest value 100.0\n",
      "smallest value 1.0\n",
      "second_smallest_value 1.0\n",
      "second_largest_value 49.0\n"
     ]
    }
   ],
   "source": [
    "import numpy as np\n",
    "\n",
    "num_friends = np.array(num_friends)\n",
    "\n",
    "num_points = num_friends.shape[0] # 204\n",
    "\n",
    "largest_value = np.max(num_friends) # 100\n",
    "smallest_value = np.min(num_friends) # 1\n",
    "\n",
    "sorted_values = np.sort(num_friends)\n",
    "smallest_value = sorted_values[0] # 1\n",
    "second_smallest_value = sorted_values[1] # 1\n",
    "second_largest_value = sorted_values[-2] # 49\n",
    "\n",
    "print(\"num_points\", len(num_friends))\n",
    "print(\"largest value\", max(num_friends))\n",
    "print(\"smallest value\", min(num_friends))\n",
    "print(\"second_smallest_value\", sorted_values[1])\n",
    "print(\"second_largest_value\", sorted_values[-2] )\n",
    "\n",
    "num_friends = list(num_friends)"
   ]
  },
  {
   "cell_type": "markdown",
   "metadata": {},
   "source": [
    "# Central Tendencies\n",
    "- The median doesn’t depend on every value in your data. #중간값은 모든 데이터에 의존하지 않는다\n",
    "- For example, if you make the largest point larger (or the smallest point smaller), the middle points remain unchanged.\n",
    "- the mean is very sensitive to outliers in our data.    #평균은 스파크값에 민감하다\n",
    "- If our friendliest user had 200 friends (instead of 100), then the mean would rise to 7.82, while the median would stay the same\n",
    "- For example, the story is often told that in the mid-1980s, the major at the University of North Carolina with the highest average starting salary was geography, mostly on account of NBA star (and outlier) Michael Jordan.\n",
    "- A generalization of the median is the quantile, which represents the value less than which a certain percentile of the data lies. (The median represents the value less than which 50% of the data lies.) #분위수 퍼센트\n",
    "- mode: most-common value                                #최빈값"
   ]
  },
  {
   "cell_type": "markdown",
   "metadata": {},
   "source": [
    "**mean, median, quantile, mode**"
   ]
  },
  {
   "cell_type": "code",
   "execution_count": 14,
   "metadata": {},
   "outputs": [],
   "source": [
    "def mean(x):\n",
    "    return sum(x) / len(x)\n",
    "def median(v):\n",
    "    \"\"\"finds the 'middle-most' value of v\"\"\"\n",
    "    n = len(v)\n",
    "    sorted_v = sorted(v)\n",
    "    midpoint = n // 2\n",
    "    if n % 2 == 1:\n",
    "         # if odd, return the middle value\n",
    "        return sorted_v[midpoint]\n",
    "    else:\n",
    "         # if even, return the average of the middle values\n",
    "        lo = midpoint - 1\n",
    "        hi = midpoint\n",
    "        return (sorted_v[lo] + sorted_v[hi]) / 2\n",
    "def quantile(x, p):\n",
    "    \"\"\"returns the pth-percentile value in x\"\"\"\n",
    "    p_index = int(p * len(x))\n",
    "    return sorted(x)[p_index]\n",
    "def mode(x):\n",
    "    \"\"\"\"returns a list, might be more than one mode\"\"\"\n",
    "    counts = Counter(x)\n",
    "    max_count = max(counts.values())\n",
    "    return [x_i for x_i, count in counts.items() if count == max_count]"
   ]
  },
  {
   "cell_type": "code",
   "execution_count": 15,
   "metadata": {},
   "outputs": [
    {
     "name": "stdout",
     "output_type": "stream",
     "text": [
      "mean(num_friends) 7.333333333333333\n",
      "median(num_friends) 6.0\n",
      "quantile(num_friends, 0.10) 1.0\n",
      "quantile(num_friends, 0.25) 3.0\n",
      "quantile(num_friends, 0.75) 9.0\n",
      "quantile(num_friends, 0.90) 13.0\n",
      "mode(num_friends) [6.0, 1.0]\n"
     ]
    }
   ],
   "source": [
    "print(\"mean(num_friends)\", mean(num_friends))\n",
    "print(\"median(num_friends)\", median(num_friends))\n",
    "print(\"quantile(num_friends, 0.10)\", quantile(num_friends, 0.10))\n",
    "print(\"quantile(num_friends, 0.25)\", quantile(num_friends, 0.25))\n",
    "print(\"quantile(num_friends, 0.75)\", quantile(num_friends, 0.75))\n",
    "print(\"quantile(num_friends, 0.90)\", quantile(num_friends, 0.90))\n",
    "print(\"mode(num_friends)\", mode(num_friends))"
   ]
  },
  {
   "cell_type": "markdown",
   "metadata": {},
   "source": [
    "### **numpy version**"
   ]
  },
  {
   "cell_type": "code",
   "execution_count": 16,
   "metadata": {},
   "outputs": [
    {
     "name": "stdout",
     "output_type": "stream",
     "text": [
      "mean(num_friends) 7.333333333333333\n",
      "median(num_friends) 6.0\n",
      "quantile(num_friends, 0.10) 1.0\n",
      "quantile(num_friends, 0.25) 3.0\n",
      "quantile(num_friends, 0.75) 9.0\n",
      "quantile(num_friends, 0.90) 13.0\n"
     ]
    }
   ],
   "source": [
    "import numpy as np\n",
    "# np.quantile is available from v1.16\n",
    "# np.percentile uses percent instead of ratio\n",
    "print(\"mean(num_friends)\", np.mean(num_friends))\n",
    "print(\"median(num_friends)\", np.median(num_friends))\n",
    "print(\"quantile(num_friends, 0.10)\", np.percentile(num_friends, 10))\n",
    "print(\"quantile(num_friends, 0.25)\", np.percentile(num_friends, 25))\n",
    "print(\"quantile(num_friends, 0.75)\", np.percentile(num_friends, 75))\n",
    "print(\"quantile(num_friends, 0.90)\", np.percentile(num_friends, 90))\n",
    "# mode using numpy will be a homework"
   ]
  },
  {
   "cell_type": "markdown",
   "metadata": {},
   "source": [
    "## Disperson # 산포도\n",
    "- Dispersion refers to measures of how spread out our data is.\n",
    "- **Range** is just the difference between the largest and smallest elements # 최대와 최소차이\n",
    "- **variance** #분산\n",
    "- Standard deviation #표준편차\n",
    "- Both the range and the standard deviation have the same **outlier problem**\n",
    "- **Interquartile_range**: the difference between the 75th percentile value and the 25th percentile value #IQR"
   ]
  },
  {
   "cell_type": "code",
   "execution_count": 17,
   "metadata": {},
   "outputs": [],
   "source": [
    "# \"range\" already means something in Python, so we'll use a different name\n",
    "def data_range(x):\n",
    "    return max(x) - min(x)\n",
    "def de_mean(x):\n",
    "    \"\"\"translate x by subtracting its mean (so the result has mean 0)\"\"\"\n",
    "    x_bar = mean(x)\n",
    "    return [x_i - x_bar for x_i in x]\n",
    "def variance(x):\n",
    "    \"\"\"assumes x has at least two elements\"\"\"\n",
    "    n = len(x)\n",
    "    deviations = de_mean(x)\n",
    "    return sum_of_squares(deviations) / (n - 1)\n",
    "def standard_deviation(x):\n",
    "    return math.sqrt(variance(x))\n",
    "def interquartile_range(x): # 75% -25% 많은 부분\n",
    "    return quantile(x, 0.75) - quantile(x, 0.25)"
   ]
  },
  {
   "cell_type": "code",
   "execution_count": 18,
   "metadata": {},
   "outputs": [
    {
     "name": "stdout",
     "output_type": "stream",
     "text": [
      "data_range(num_friends) 99.0\n",
      "variance(num_friends) 81.54351395730716\n",
      "standard_deviation(num_friends) 9.03014473623248\n",
      "interquartile_range(num_friends) 6.0\n"
     ]
    }
   ],
   "source": [
    "print(\"data_range(num_friends)\", data_range(num_friends))\n",
    "print(\"variance(num_friends)\", variance(num_friends))\n",
    "print(\"standard_deviation(num_friends)\", standard_deviation(num_friends))\n",
    "print(\"interquartile_range(num_friends)\", interquartile_range(num_friends))"
   ]
  },
  {
   "cell_type": "markdown",
   "metadata": {},
   "source": [
    "### **numpy version**"
   ]
  },
  {
   "cell_type": "code",
   "execution_count": 19,
   "metadata": {},
   "outputs": [
    {
     "name": "stdout",
     "output_type": "stream",
     "text": [
      "data_range(num_friends) 99.0\n",
      "data_range(num_friends) 99.0\n",
      "variance(num_friends) 81.54351395730707\n",
      "standard_deviation(num_friends) 9.030144736232474\n",
      "interquartile_range(num_friends) 6.0\n"
     ]
    }
   ],
   "source": [
    "num_friends = np.array(num_friends)\n",
    "print(\"data_range(num_friends)\", np.ptp(num_friends)) # peak to peak 최대 최소차\n",
    "print(\"data_range(num_friends)\", np.max(num_friends) - np.min(num_friends))\n",
    "print(\"variance(num_friends)\", np.var(num_friends, ddof=1)) # DEGRRE OF 샘플 평균 모집단평균일때 0 샘플 평균일때 N\n",
    "print(\"standard_deviation(num_friends)\", np.std(num_friends, ddof=1))\n",
    "q75, q25 = np.percentile(num_friends, [75 ,25])\n",
    "print(\"interquartile_range(num_friends)\", q75 - q25)\n",
    "num_friends = list(num_friends)"
   ]
  },
  {
   "cell_type": "markdown",
   "metadata": {},
   "source": [
    "## Boxplot\n",
    "- it is very explanatory\n",
    "- It shows the summary of data"
   ]
  },
  {
   "cell_type": "markdown",
   "metadata": {},
   "source": [
    "<img src=\"picture/le5.png\">"
   ]
  },
  {
   "cell_type": "markdown",
   "metadata": {},
   "source": [
    "- In case of normal distribution"
   ]
  },
  {
   "cell_type": "markdown",
   "metadata": {},
   "source": [
    "<img src=\"picture/le5-2.png\">"
   ]
  },
  {
   "cell_type": "markdown",
   "metadata": {},
   "source": [
    "<img src=\"picture/le5-3.png\">"
   ]
  },
  {
   "cell_type": "code",
   "execution_count": 20,
   "metadata": {},
   "outputs": [
    {
     "data": {
      "image/png": "[encoded data removed]",
      "text/plain": [
       "<Figure size 432x288 with 1 Axes>"
      ]
     },
     "metadata": {
      "needs_background": "light"
     },
     "output_type": "display_data"
    }
   ],
   "source": [
    "%matplotlib inline\n",
    "import numpy as np\n",
    "import matplotlib.pyplot as plt\n",
    "plt.boxplot(num_friends)\n",
    "plt.show()"
   ]
  },
  {
   "cell_type": "code",
   "execution_count": 21,
   "metadata": {},
   "outputs": [
    {
     "data": {
      "image/png": "[encoded data removed]",
      "text/plain": [
       "<Figure size 432x288 with 1 Axes>"
      ]
     },
     "metadata": {
      "needs_background": "light"
     },
     "output_type": "display_data"
    }
   ],
   "source": [
    "plt.hist(num_friends, bins=50)\n",
    "plt.show()"
   ]
  },
  {
   "cell_type": "code",
   "execution_count": 22,
   "metadata": {},
   "outputs": [
    {
     "data": {
      "image/png": "[encoded data removed]",
      "text/plain": [
       "<Figure size 432x288 with 1 Axes>"
      ]
     },
     "metadata": {
      "needs_background": "light"
     },
     "output_type": "display_data"
    },
    {
     "data": {
      "image/png": "[encoded data removed]",
      "text/plain": [
       "<Figure size 432x288 with 1 Axes>"
      ]
     },
     "metadata": {
      "needs_background": "light"
     },
     "output_type": "display_data"
    }
   ],
   "source": [
    "data = np.random.randn(1000,3)\n",
    "plt.boxplot(data)\n",
    "plt.show()\n",
    "plt.hist(data, bins=10)\n",
    "plt.show()"
   ]
  },
  {
   "cell_type": "markdown",
   "metadata": {},
   "source": [
    "If we know the population mean, the standard deviation is given by\n",
    "$$\\sigma = \\sqrt{\\sum_(x-\\mu)^2\\over n}$$\n",
    "If we don’t know the population mean, we can use sample mean to calculate the standard deviation.\n",
    "$$\\sigma = \\sqrt{\\sum_(x-\\bar x)^2\\over n-1}$$"
   ]
  },
  {
   "cell_type": "code",
   "execution_count": 23,
   "metadata": {},
   "outputs": [
    {
     "name": "stdout",
     "output_type": "stream",
     "text": [
      "0.816496580927726\n",
      "1.0\n",
      "1.0\n"
     ]
    }
   ],
   "source": [
    "import numpy as np #두변수의 사이의 관계가 궁금하다 연관성!\n",
    "print(np.std([1,2,3]))\n",
    "print(np.std([1,2,3], ddof=1)) # provide degree of freedom \n",
    "print(standard_deviation([1,2,3]))"
   ]
  },
  {
   "cell_type": "markdown",
   "metadata": {},
   "source": [
    "## Correlation\n",
    "-DataSciencester’s VP of Growth has a theory that the amount of time people spend on the site is\n",
    "related to the number of friends they have on the site, and she’s asked you to verify this.  \n",
    "-We’d like to investigate the relationship between these two metrics.\n"
   ]
  },
  {
   "cell_type": "markdown",
   "metadata": {},
   "source": [
    "- Whereas variance measures how a single variable deviates from its mean, covariance measures how two\n",
    "variables vary in tandem from their means.\n",
    "- It’s hard to interpret what a “large” covariance is unless it is normalized.\n",
    "- Correlation: covariance divided by the standard deviations of both variables\n",
    "- The correlation is unitless and always lies between -1 (perfect anti-correlation) and 1 (perfect correlation)."
   ]
  },
  {
   "cell_type": "markdown",
   "metadata": {},
   "source": [
    "<img src=\"picture/le5-4.png\">"
   ]
  },
  {
   "cell_type": "markdown",
   "metadata": {},
   "source": [
    "<img src=\"picture/le5-5.png\">"
   ]
  },
  {
   "cell_type": "code",
   "execution_count": 25,
   "metadata": {},
   "outputs": [],
   "source": [
    "daily_minutes = [1,68.77,51.25,52.08,38.36,44.54,57.13,51.4,41.42,31.22,\n",
    "                 34.76,54.01,38.79,47.59,49.1,27.66,41.03,36.73,48.65,\n",
    "                 28.12,46.62,35.57,32.98,35,26.07,23.77,39.73,40.57,\n",
    "                 31.65,31.21,36.32,20.45,21.93,26.02,27.34,23.49,46.94,\n",
    "                 30.5,33.8,24.23,21.4,27.94,32.24,40.57,25.07,19.42,22.39,\n",
    "                 18.42,46.96,23.72,26.41,26.97,36.76,40.32,35.02,29.47,30.2,\n",
    "                 31,38.11,38.18,36.31,21.03,30.86,36.07,28.66,29.08,37.28,15.28,\n",
    "                 24.17,22.31,30.17,25.53,19.85,35.37,44.6,17.23,13.47,26.33,35.02,\n",
    "                 32.09,24.81,19.33,28.77,24.26,31.98,25.73,24.86,16.28,34.51,15.23,\n",
    "                 39.72,40.8,26.06,35.76,34.76,16.13,44.04,18.03,19.65,32.62,35.59,\n",
    "                 39.43,14.18,35.24,40.13,41.82,35.45,36.07,43.67,24.61,20.9,21.9,18.79,\n",
    "                 27.61,27.21,26.61,29.77,20.59,27.53,13.82,33.2,25,33.1,36.65,18.63,14.87,\n",
    "                 22.2,36.81,25.53,24.62,26.25,18.21,28.08,19.42,29.79,32.8,35.99,28.32,27.79,\n",
    "                 35.88,29.06,36.28,14.1,36.63,37.49,26.9,18.58,38.48,24.48,18.95,33.55,14.24,\n",
    "                 29.04,32.51,25.63,22.22,19,32.73,15.16,13.9,27.2,32.01,29.27,33,13.74,20.42,\n",
    "                 27.32,18.23,35.35,28.48,9.08,24.62,20.12,35.26,19.92,31.02,16.49,12.16,30.7,31.22,\n",
    "                 34.65,13.13,27.51,33.2,31.57,14.1,33.42,17.44,10.12,24.42,9.82,23.39,30.93,\n",
    "                 15.03,21.67,31.09,33.29,22.61,26.89,23.48,8.38,27.81,32.35,23.84]\n",
    "def covariance(x, y):\n",
    "    n = len(x)\n",
    "    return dot(de_mean(x), de_mean(y)) / (n - 1)\n",
    "def correlation(x, y): # 0.7이상 관계있다\n",
    "    stdev_x = standard_deviation(x)\n",
    "    stdev_y = standard_deviation(y)\n",
    "    if stdev_x > 0 and stdev_y > 0:\n",
    "        return covariance(x, y) / stdev_x / stdev_y\n",
    "    else:\n",
    "        return 0 # if no variation, correlation is zero"
   ]
  },
  {
   "cell_type": "code",
   "execution_count": 26,
   "metadata": {},
   "outputs": [
    {
     "name": "stdout",
     "output_type": "stream",
     "text": [
      "22.425435139573064\n",
      "0.24736957366478218\n"
     ]
    }
   ],
   "source": [
    "print(covariance(num_friends, daily_minutes)) # 22.43\n",
    "print(correlation(num_friends, daily_minutes)) # 0.25\n",
    "# we may conclude that two variables are less correlated"
   ]
  },
  {
   "cell_type": "code",
   "execution_count": 27,
   "metadata": {},
   "outputs": [
    {
     "data": {
      "image/png": "[encoded data removed]",
      "text/plain": [
       "<Figure size 432x288 with 1 Axes>"
      ]
     },
     "metadata": {
      "needs_background": "light"
     },
     "output_type": "display_data"
    }
   ],
   "source": [
    "plt.scatter(num_friends, daily_minutes)\n",
    "plt.xlabel('num_friends')\n",
    "plt.ylabel('daily_minutes')\n",
    "plt.title('corr = {:.2}'.format(correlation(num_friends, daily_minutes)))\n",
    "plt.show() #상간관계 없다"
   ]
  },
  {
   "cell_type": "markdown",
   "metadata": {},
   "source": [
    "Remove outliers whose index is 0\n",
    "\n",
    "- It turns out that the outlier is a test data in a database, which is a **garbage**\n",
    "- Recall **\"GIGO: Garbage in, garbage out\"**"
   ]
  },
  {
   "cell_type": "code",
   "execution_count": 28,
   "metadata": {},
   "outputs": [
    {
     "data": {
      "image/png": "[encoded data removed]",
      "text/plain": [
       "<Figure size 432x288 with 1 Axes>"
      ]
     },
     "metadata": {
      "needs_background": "light"
     },
     "output_type": "display_data"
    }
   ],
   "source": [
    "plt.scatter(num_friends[1:], daily_minutes[1:])\n",
    "#plt.scatter(num_friends[4:], daily_minutes[4:])\n",
    "plt.xlabel('num_friends')\n",
    "plt.ylabel('daily_minutes')\n",
    "plt.title('corr = {:.2}'.format(correlation(num_friends[1:], daily_minutes[1:])))\n",
    "plt.show() #꾀 관련성이 있다"
   ]
  },
  {
   "cell_type": "markdown",
   "metadata": {},
   "source": [
    "Correlation in Plain English\n",
    "- Exactly –1. A perfect downhill (negative) linear relationship\n",
    "- -0.70. A strong downhill (negative) linear relationship\n",
    "- -0.50. A moderate downhill (negative) relationship\n",
    "- -0.30. A weak downhill (negative) linear relationship\n",
    "- 0. No linear relationship\n",
    "- +0.30. A weak uphill (positive) linear relationship\n",
    "- +0.50. A moderate uphill (positive) relationship\n",
    "- +0.70. A strong uphill (positive) linear relationship\n",
    "- Exactly +1. A perfect uphill (positive) linear relationship"
   ]
  },
  {
   "cell_type": "markdown",
   "metadata": {},
   "source": [
    "Correlation vs Cosine similarity\n",
    "$$corr(x,y) = cosine(x-\\bar x, y - \\bar y)$$\n"
   ]
  },
  {
   "cell_type": "markdown",
   "metadata": {},
   "source": [
    "## **numpy version**\n",
    "- np.cov returns covariance matrix: diagonal is a variance of a variable\n",
    "- np.corrcoef returns correlation matrix: diagnol is always 1\n",
    "- You can get 𝑛 × 𝑛 covariance matrix"
   ]
  },
  {
   "cell_type": "code",
   "execution_count": 21,
   "metadata": {},
   "outputs": [
    {
     "name": "stdout",
     "output_type": "stream",
     "text": [
      "(2, 204)\n",
      "\n",
      "[[ 81.54351396  22.42543514]\n",
      " [ 22.42543514 100.78589895]]\n",
      "[[1.         0.24736957]\n",
      " [0.24736957 1.        ]]\n",
      "\n",
      "0.247369573664782\n",
      "\n"
     ]
    }
   ],
   "source": [
    "num_friends = np.array(num_friends)\n",
    "daily_minutes = np.array(daily_minutes)\n",
    "data = np.array([num_friends, daily_minutes])\n",
    "print(data.shape)\n",
    "print()\n",
    "print(np.cov(data)) #분산 공분산 MATRIX\n",
    "print(np.corrcoef(data))\n",
    "print()\n",
    "print(np.corrcoef(data)[0,1])\n",
    "print()\n",
    "# print(np.var(num_friends, ddof=1))\n",
    "# print(np.var(daily_minutes, ddof=1))\n",
    "num_friends = list(num_friends)\n",
    "daily_minutes = list(daily_minutes)"
   ]
  },
  {
   "cell_type": "markdown",
   "metadata": {},
   "source": [
    "## Simpson's paradox\n",
    "- One not uncommon surprise when analyzing data is Simpson’s Paradox, in which correlations can be\n",
    "misleading when confounding variables are ignored.\n",
    "|coast|# of members|avg.# of friends|\n",
    "|------|-----:|-----:|\n",
    "|West Coast|101|8.2|\n",
    "|East Coast|103|6.5|\n",
    "\n",
    "$$ West가 사교성이 더 좋다 > 옳지 않아 $$\n",
    "\n",
    "- West Coast data scientists are friendlier than the East Coast data scientists\n",
    "- Why?\n",
    "- Actually, if introduce one more variable, the correlation goes in the opposite direction!\n",
    "\n",
    "|coast |degree |# of members |avg. # of friends\n",
    "|--------|-----|-----:|-----:|\n",
    "|West Coast |PhD| 35 |3.1|\n",
    "|East Coast |PhD |70 |3.2|\n",
    "|West Coast| no PhD |66 |10.9|\n",
    "|East Coast |no PhD| 33| 13.4|\n",
    "\n",
    "$$동부가 사교성이 더 좋다 $$\n",
    "$$EAST에 박사학위가 너무 많다 sampling이 잘못됐다$$\n",
    "$$위의 데이터는 degree의 영향이 사라짐$$\n",
    "\n",
    "- The only real way to avoid this is by knowing your data and by doing what you can to make sure you’ve\n",
    "checked for possible confounding factors.\n",
    "- Obviously, this is not always possible.\n",
    "- **Visualization of Simpson's paradox on data resembling real-world variability indicates that risk of\n",
    "misjudgement of true relationship can indeed be hard to spot**\n",
    "- overall: strong negative correlation: -0.74\n",
    "- individual: strong postive correlation: +0.74, +0.82 +0.75 +0.72 +0.69\n",
    "<img src =\"picture/le5-6.png\">\n",
    "$$ 다섯개로 나누어서 봐야된다 $$"
   ]
  },
  {
   "cell_type": "markdown",
   "metadata": {},
   "source": [
    "<img src = \"picture/le5-7.png\">"
   ]
  },
  {
   "cell_type": "markdown",
   "metadata": {},
   "source": [
    "## Some Other Correlational Caveats\n",
    "- A correlation of zero indicates that there is no linear relationship between the two variables"
   ]
  },
  {
   "cell_type": "markdown",
   "metadata": {},
   "source": [
    "**Related but not captured**"
   ]
  },
  {
   "cell_type": "code",
   "execution_count": 29,
   "metadata": {},
   "outputs": [
    {
     "data": {
      "image/png": "[encoded data removed]",
      "text/plain": [
       "<Figure size 432x288 with 1 Axes>"
      ]
     },
     "metadata": {
      "needs_background": "light"
     },
     "output_type": "display_data"
    }
   ],
   "source": [
    "#  absolute value relationship  V절대값이 의미가 있는거 \n",
    "x = [-2, -1, 0, 1, 2]\n",
    "y = [ 2, 1, 0, 1, 2]\n",
    "plt.scatter(x, y)\n",
    "plt.show()"
   ]
  },
  {
   "cell_type": "markdown",
   "metadata": {},
   "source": [
    "**How important or how interesting the correlation is?**"
   ]
  },
  {
   "cell_type": "code",
   "execution_count": 30,
   "metadata": {},
   "outputs": [
    {
     "data": {
      "image/png": "[encoded data removed]",
      "text/plain": [
       "<Figure size 432x288 with 1 Axes>"
      ]
     },
     "metadata": {
      "needs_background": "light"
     },
     "output_type": "display_data"
    }
   ],
   "source": [
    "# x축과 y축의 스케일이 다르다\n",
    "x = [-2, -1, 0, 1, 2]\n",
    "y = [99.98, 99.99, 100, 100.01, 100.02]\n",
    "plt.scatter(x, y)\n",
    "plt.title('corr={:.2}'.format(correlation(x,y)))\n",
    "plt.show()"
   ]
  },
  {
   "cell_type": "code",
   "execution_count": 23,
   "metadata": {},
   "outputs": [
    {
     "data": {
      "image/png": "[encoded data removed]",
      "text/plain": [
       "<Figure size 432x288 with 1 Axes>"
      ]
     },
     "metadata": {
      "needs_background": "light"
     },
     "output_type": "display_data"
    }
   ],
   "source": [
    "# Perfectly correlated. This relationship isn’t all that interesting.\n",
    "x = [-2, -1, 0, 1, 2]\n",
    "y = [99.98, 99.99, 100, 100.01, 100.02]\n",
    "plt.scatter(x, y)\n",
    "plt.axis('equal')\n",
    "plt.title('corr={:.2}'.format(correlation(x,y)))\n",
    "plt.show()"
   ]
  },
  {
   "cell_type": "markdown",
   "metadata": {},
   "source": [
    "## Correlation and Causation\n",
    "상관관계와 인과관계 혼동 x 상관관계다\n",
    "\n",
    "**-“Correlation is not causation”**\n",
    "- If x and y are strongly correlated, that might mean\n",
    "    - that x causes y ,\n",
    "    - that y causes x ,\n",
    "    - that each causes the other,\n",
    "    - that some third factor causes both,\n",
    "    - or it might mean nothing\n",
    "- It’s possible that **having more friends on the site** causes DataSciencester users to spend more time on\n",
    "the site.\n",
    "- it’s also possible that **the more time you spend arguing in the DataSciencester forums**, the more you\n",
    "encounter and befriend like-minded people.\n",
    "- The users who are **most passionate about data science** spend more time on the site (because they find\n",
    "it more interesting) and more actively collect data science friends (because they don’t want to associate\n",
    "with anyone else).\n",
    "\n",
    "조건부 확률로 확인해야한다 ??\n",
    "ex > frequent item"
   ]
  },
  {
   "cell_type": "markdown",
   "metadata": {},
   "source": [
    "### **Causation**\n",
    "- Experiment\n",
    "- Or explore history data\n",
    "- Causation may be inferred in terms of conditional probability\n",
    "- Assocaition rule is a data mining technique to infer a causation\n"
   ]
  },
  {
   "cell_type": "markdown",
   "metadata": {},
   "source": [
    "마스크 | 손소독제\n",
    "\n",
    "비 | 우산"
   ]
  }
 ],
 "metadata": {
  "kernelspec": {
   "display_name": "Python 3",
   "language": "python",
   "name": "python3"
  },
  "language_info": {
   "codemirror_mode": {
    "name": "ipython",
    "version": 3
   },
   "file_extension": ".py",
   "mimetype": "text/x-python",
   "name": "python",
   "nbconvert_exporter": "python",
   "pygments_lexer": "ipython3",
   "version": "3.7.6"
  }
 },
 "nbformat": 4,
 "nbformat_minor": 4
}
