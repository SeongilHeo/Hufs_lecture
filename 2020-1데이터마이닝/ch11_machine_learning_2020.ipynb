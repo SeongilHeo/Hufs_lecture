{
 "cells": [
  {
   "cell_type": "markdown",
   "metadata": {},
   "source": [
    "# **Machine Learning**"
   ]
  },
  {
   "cell_type": "markdown",
   "metadata": {},
   "source": [
    "### **Model**\n",
    "a specification of a mathematical (or probabilistic) relationship that exists between different variables."
   ]
  },
  {
   "cell_type": "markdown",
   "metadata": {},
   "source": [
    "### **machine learning**\n",
    "- creating and using models that are learned from data.\n",
    "- also called predictive modeling or **data mining**\n",
    "- Examples:\n",
    "    - Predicting whether an email message is spam or not\n",
    "    - Predicting whether a credit card transaction is fraudulent\n",
    "    - Predicting which advertisement a shopper is most likely to click on\n",
    "    - Predicting which football team is going to win the Super Bowl"
   ]
  },
  {
   "cell_type": "markdown",
   "metadata": {},
   "source": [
    "**supervised models**\n",
    "- There is a set of data labeled with the correct answers to learn from\n",
    "        - Regression\n",
    "        - Classification  \n",
    "        \n",
    "**unsupervised models**\n",
    "- There are no such labels\n",
    "        - Clustering          \\그룹화\n",
    "        - Anomaly detection   \\ 비정상\n",
    "        - Association          \\기저귀 맥주\n",
    "        - Topic Modelling       \\교육 ? modeling\n",
    "        - Autoencoders         \\"
   ]
  },
  {
   "cell_type": "markdown",
   "metadata": {
    "jupyter": {
     "outputs_hidden": true
    }
   },
   "source": [
    "<img src = \"picture/le11-1.png\">"
   ]
  },
  {
   "cell_type": "markdown",
   "metadata": {},
   "source": [
    "### **Semisupervised Learning**\n",
    "- A small amount of direct instruction (e.g. parental labeling of objects during childhood) combined with large amounts of unlabeled experience\n",
    "_ Only some of the data are labeled\n",
    "        - Example: CT scans or MRIs.\n",
    "            - A trained radiologist can label a small subset of scans for tumors or diseases.\n",
    "            - Machine learning clusters similar scans and label them\n",
    "            \n",
    "<img src =\"picture/le11-2.png\">"
   ]
  },
  {
   "cell_type": "code",
   "execution_count": 35,
   "metadata": {},
   "outputs": [
    {
     "data": {
      "text/html": [
       "<div>\n",
       "<style scoped>\n",
       "    .dataframe tbody tr th:only-of-type {\n",
       "        vertical-align: middle;\n",
       "    }\n",
       "\n",
       "    .dataframe tbody tr th {\n",
       "        vertical-align: top;\n",
       "    }\n",
       "\n",
       "    .dataframe thead th {\n",
       "        text-align: right;\n",
       "    }\n",
       "</style>\n",
       "<table border=\"1\" class=\"dataframe\">\n",
       "  <thead>\n",
       "    <tr style=\"text-align: right;\">\n",
       "      <th></th>\n",
       "      <th>sepal length (cm)</th>\n",
       "      <th>sepal width (cm)</th>\n",
       "      <th>petal length (cm)</th>\n",
       "      <th>petal width (cm)</th>\n",
       "    </tr>\n",
       "  </thead>\n",
       "  <tbody>\n",
       "    <tr>\n",
       "      <th>0</th>\n",
       "      <td>5.1</td>\n",
       "      <td>3.5</td>\n",
       "      <td>1.4</td>\n",
       "      <td>0.2</td>\n",
       "    </tr>\n",
       "    <tr>\n",
       "      <th>1</th>\n",
       "      <td>4.9</td>\n",
       "      <td>3.0</td>\n",
       "      <td>1.4</td>\n",
       "      <td>0.2</td>\n",
       "    </tr>\n",
       "    <tr>\n",
       "      <th>2</th>\n",
       "      <td>4.7</td>\n",
       "      <td>3.2</td>\n",
       "      <td>1.3</td>\n",
       "      <td>0.2</td>\n",
       "    </tr>\n",
       "    <tr>\n",
       "      <th>3</th>\n",
       "      <td>4.6</td>\n",
       "      <td>3.1</td>\n",
       "      <td>1.5</td>\n",
       "      <td>0.2</td>\n",
       "    </tr>\n",
       "    <tr>\n",
       "      <th>4</th>\n",
       "      <td>5.0</td>\n",
       "      <td>3.6</td>\n",
       "      <td>1.4</td>\n",
       "      <td>0.2</td>\n",
       "    </tr>\n",
       "  </tbody>\n",
       "</table>\n",
       "</div>"
      ],
      "text/plain": [
       "   sepal length (cm)  sepal width (cm)  petal length (cm)  petal width (cm)\n",
       "0                5.1               3.5                1.4               0.2\n",
       "1                4.9               3.0                1.4               0.2\n",
       "2                4.7               3.2                1.3               0.2\n",
       "3                4.6               3.1                1.5               0.2\n",
       "4                5.0               3.6                1.4               0.2"
      ]
     },
     "execution_count": 35,
     "metadata": {},
     "output_type": "execute_result"
    }
   ],
   "source": [
    "from sklearn.datasets import load_iris\n",
    "import pandas as pd\n",
    "\n",
    "iris = load_iris()\n",
    "iris_df = pd.DataFrame(iris.data, columns=iris.feature_names)\n",
    "iris_df.head(5)"
   ]
  },
  {
   "cell_type": "code",
   "execution_count": 36,
   "metadata": {
    "collapsed": true,
    "jupyter": {
     "outputs_hidden": true
    }
   },
   "outputs": [
    {
     "data": {
      "text/plain": [
       "array([[5.1, 3.5, 1.4, 0.2],\n",
       "       [4.9, 3. , 1.4, 0.2],\n",
       "       [4.7, 3.2, 1.3, 0.2],\n",
       "       [4.6, 3.1, 1.5, 0.2],\n",
       "       [5. , 3.6, 1.4, 0.2],\n",
       "       [5.4, 3.9, 1.7, 0.4],\n",
       "       [4.6, 3.4, 1.4, 0.3],\n",
       "       [5. , 3.4, 1.5, 0.2],\n",
       "       [4.4, 2.9, 1.4, 0.2],\n",
       "       [4.9, 3.1, 1.5, 0.1],\n",
       "       [5.4, 3.7, 1.5, 0.2],\n",
       "       [4.8, 3.4, 1.6, 0.2],\n",
       "       [4.8, 3. , 1.4, 0.1],\n",
       "       [4.3, 3. , 1.1, 0.1],\n",
       "       [5.8, 4. , 1.2, 0.2],\n",
       "       [5.7, 4.4, 1.5, 0.4],\n",
       "       [5.4, 3.9, 1.3, 0.4],\n",
       "       [5.1, 3.5, 1.4, 0.3],\n",
       "       [5.7, 3.8, 1.7, 0.3],\n",
       "       [5.1, 3.8, 1.5, 0.3],\n",
       "       [5.4, 3.4, 1.7, 0.2],\n",
       "       [5.1, 3.7, 1.5, 0.4],\n",
       "       [4.6, 3.6, 1. , 0.2],\n",
       "       [5.1, 3.3, 1.7, 0.5],\n",
       "       [4.8, 3.4, 1.9, 0.2],\n",
       "       [5. , 3. , 1.6, 0.2],\n",
       "       [5. , 3.4, 1.6, 0.4],\n",
       "       [5.2, 3.5, 1.5, 0.2],\n",
       "       [5.2, 3.4, 1.4, 0.2],\n",
       "       [4.7, 3.2, 1.6, 0.2],\n",
       "       [4.8, 3.1, 1.6, 0.2],\n",
       "       [5.4, 3.4, 1.5, 0.4],\n",
       "       [5.2, 4.1, 1.5, 0.1],\n",
       "       [5.5, 4.2, 1.4, 0.2],\n",
       "       [4.9, 3.1, 1.5, 0.2],\n",
       "       [5. , 3.2, 1.2, 0.2],\n",
       "       [5.5, 3.5, 1.3, 0.2],\n",
       "       [4.9, 3.6, 1.4, 0.1],\n",
       "       [4.4, 3. , 1.3, 0.2],\n",
       "       [5.1, 3.4, 1.5, 0.2],\n",
       "       [5. , 3.5, 1.3, 0.3],\n",
       "       [4.5, 2.3, 1.3, 0.3],\n",
       "       [4.4, 3.2, 1.3, 0.2],\n",
       "       [5. , 3.5, 1.6, 0.6],\n",
       "       [5.1, 3.8, 1.9, 0.4],\n",
       "       [4.8, 3. , 1.4, 0.3],\n",
       "       [5.1, 3.8, 1.6, 0.2],\n",
       "       [4.6, 3.2, 1.4, 0.2],\n",
       "       [5.3, 3.7, 1.5, 0.2],\n",
       "       [5. , 3.3, 1.4, 0.2],\n",
       "       [7. , 3.2, 4.7, 1.4],\n",
       "       [6.4, 3.2, 4.5, 1.5],\n",
       "       [6.9, 3.1, 4.9, 1.5],\n",
       "       [5.5, 2.3, 4. , 1.3],\n",
       "       [6.5, 2.8, 4.6, 1.5],\n",
       "       [5.7, 2.8, 4.5, 1.3],\n",
       "       [6.3, 3.3, 4.7, 1.6],\n",
       "       [4.9, 2.4, 3.3, 1. ],\n",
       "       [6.6, 2.9, 4.6, 1.3],\n",
       "       [5.2, 2.7, 3.9, 1.4],\n",
       "       [5. , 2. , 3.5, 1. ],\n",
       "       [5.9, 3. , 4.2, 1.5],\n",
       "       [6. , 2.2, 4. , 1. ],\n",
       "       [6.1, 2.9, 4.7, 1.4],\n",
       "       [5.6, 2.9, 3.6, 1.3],\n",
       "       [6.7, 3.1, 4.4, 1.4],\n",
       "       [5.6, 3. , 4.5, 1.5],\n",
       "       [5.8, 2.7, 4.1, 1. ],\n",
       "       [6.2, 2.2, 4.5, 1.5],\n",
       "       [5.6, 2.5, 3.9, 1.1],\n",
       "       [5.9, 3.2, 4.8, 1.8],\n",
       "       [6.1, 2.8, 4. , 1.3],\n",
       "       [6.3, 2.5, 4.9, 1.5],\n",
       "       [6.1, 2.8, 4.7, 1.2],\n",
       "       [6.4, 2.9, 4.3, 1.3],\n",
       "       [6.6, 3. , 4.4, 1.4],\n",
       "       [6.8, 2.8, 4.8, 1.4],\n",
       "       [6.7, 3. , 5. , 1.7],\n",
       "       [6. , 2.9, 4.5, 1.5],\n",
       "       [5.7, 2.6, 3.5, 1. ],\n",
       "       [5.5, 2.4, 3.8, 1.1],\n",
       "       [5.5, 2.4, 3.7, 1. ],\n",
       "       [5.8, 2.7, 3.9, 1.2],\n",
       "       [6. , 2.7, 5.1, 1.6],\n",
       "       [5.4, 3. , 4.5, 1.5],\n",
       "       [6. , 3.4, 4.5, 1.6],\n",
       "       [6.7, 3.1, 4.7, 1.5],\n",
       "       [6.3, 2.3, 4.4, 1.3],\n",
       "       [5.6, 3. , 4.1, 1.3],\n",
       "       [5.5, 2.5, 4. , 1.3],\n",
       "       [5.5, 2.6, 4.4, 1.2],\n",
       "       [6.1, 3. , 4.6, 1.4],\n",
       "       [5.8, 2.6, 4. , 1.2],\n",
       "       [5. , 2.3, 3.3, 1. ],\n",
       "       [5.6, 2.7, 4.2, 1.3],\n",
       "       [5.7, 3. , 4.2, 1.2],\n",
       "       [5.7, 2.9, 4.2, 1.3],\n",
       "       [6.2, 2.9, 4.3, 1.3],\n",
       "       [5.1, 2.5, 3. , 1.1],\n",
       "       [5.7, 2.8, 4.1, 1.3],\n",
       "       [6.3, 3.3, 6. , 2.5],\n",
       "       [5.8, 2.7, 5.1, 1.9],\n",
       "       [7.1, 3. , 5.9, 2.1],\n",
       "       [6.3, 2.9, 5.6, 1.8],\n",
       "       [6.5, 3. , 5.8, 2.2],\n",
       "       [7.6, 3. , 6.6, 2.1],\n",
       "       [4.9, 2.5, 4.5, 1.7],\n",
       "       [7.3, 2.9, 6.3, 1.8],\n",
       "       [6.7, 2.5, 5.8, 1.8],\n",
       "       [7.2, 3.6, 6.1, 2.5],\n",
       "       [6.5, 3.2, 5.1, 2. ],\n",
       "       [6.4, 2.7, 5.3, 1.9],\n",
       "       [6.8, 3. , 5.5, 2.1],\n",
       "       [5.7, 2.5, 5. , 2. ],\n",
       "       [5.8, 2.8, 5.1, 2.4],\n",
       "       [6.4, 3.2, 5.3, 2.3],\n",
       "       [6.5, 3. , 5.5, 1.8],\n",
       "       [7.7, 3.8, 6.7, 2.2],\n",
       "       [7.7, 2.6, 6.9, 2.3],\n",
       "       [6. , 2.2, 5. , 1.5],\n",
       "       [6.9, 3.2, 5.7, 2.3],\n",
       "       [5.6, 2.8, 4.9, 2. ],\n",
       "       [7.7, 2.8, 6.7, 2. ],\n",
       "       [6.3, 2.7, 4.9, 1.8],\n",
       "       [6.7, 3.3, 5.7, 2.1],\n",
       "       [7.2, 3.2, 6. , 1.8],\n",
       "       [6.2, 2.8, 4.8, 1.8],\n",
       "       [6.1, 3. , 4.9, 1.8],\n",
       "       [6.4, 2.8, 5.6, 2.1],\n",
       "       [7.2, 3. , 5.8, 1.6],\n",
       "       [7.4, 2.8, 6.1, 1.9],\n",
       "       [7.9, 3.8, 6.4, 2. ],\n",
       "       [6.4, 2.8, 5.6, 2.2],\n",
       "       [6.3, 2.8, 5.1, 1.5],\n",
       "       [6.1, 2.6, 5.6, 1.4],\n",
       "       [7.7, 3. , 6.1, 2.3],\n",
       "       [6.3, 3.4, 5.6, 2.4],\n",
       "       [6.4, 3.1, 5.5, 1.8],\n",
       "       [6. , 3. , 4.8, 1.8],\n",
       "       [6.9, 3.1, 5.4, 2.1],\n",
       "       [6.7, 3.1, 5.6, 2.4],\n",
       "       [6.9, 3.1, 5.1, 2.3],\n",
       "       [5.8, 2.7, 5.1, 1.9],\n",
       "       [6.8, 3.2, 5.9, 2.3],\n",
       "       [6.7, 3.3, 5.7, 2.5],\n",
       "       [6.7, 3. , 5.2, 2.3],\n",
       "       [6.3, 2.5, 5. , 1.9],\n",
       "       [6.5, 3. , 5.2, 2. ],\n",
       "       [6.2, 3.4, 5.4, 2.3],\n",
       "       [5.9, 3. , 5.1, 1.8]])"
      ]
     },
     "execution_count": 36,
     "metadata": {},
     "output_type": "execute_result"
    }
   ],
   "source": [
    "iris.data"
   ]
  },
  {
   "cell_type": "code",
   "execution_count": 37,
   "metadata": {},
   "outputs": [
    {
     "data": {
      "text/plain": [
       "['sepal length (cm)',\n",
       " 'sepal width (cm)',\n",
       " 'petal length (cm)',\n",
       " 'petal width (cm)']"
      ]
     },
     "execution_count": 37,
     "metadata": {},
     "output_type": "execute_result"
    }
   ],
   "source": [
    "iris.feature_names"
   ]
  },
  {
   "cell_type": "code",
   "execution_count": 38,
   "metadata": {},
   "outputs": [
    {
     "data": {
      "text/html": [
       "<div>\n",
       "<style scoped>\n",
       "    .dataframe tbody tr th:only-of-type {\n",
       "        vertical-align: middle;\n",
       "    }\n",
       "\n",
       "    .dataframe tbody tr th {\n",
       "        vertical-align: top;\n",
       "    }\n",
       "\n",
       "    .dataframe thead th {\n",
       "        text-align: right;\n",
       "    }\n",
       "</style>\n",
       "<table border=\"1\" class=\"dataframe\">\n",
       "  <thead>\n",
       "    <tr style=\"text-align: right;\">\n",
       "      <th></th>\n",
       "      <th>0</th>\n",
       "    </tr>\n",
       "  </thead>\n",
       "  <tbody>\n",
       "    <tr>\n",
       "      <th>0</th>\n",
       "      <td>0</td>\n",
       "    </tr>\n",
       "    <tr>\n",
       "      <th>1</th>\n",
       "      <td>0</td>\n",
       "    </tr>\n",
       "  </tbody>\n",
       "</table>\n",
       "</div>"
      ],
      "text/plain": [
       "   0\n",
       "0  0\n",
       "1  0"
      ]
     },
     "execution_count": 38,
     "metadata": {},
     "output_type": "execute_result"
    }
   ],
   "source": [
    "iris_target_df = pd.DataFrame(iris.target)\n",
    "iris_target_df.head(2)"
   ]
  },
  {
   "cell_type": "code",
   "execution_count": 10,
   "metadata": {},
   "outputs": [],
   "source": [
    "import matplotlib.pyplot as plt\n",
    "from sklearn.manifold import TSNE\n",
    "import numpy as np\n",
    "def plot_tsne(data, target, target_names, learning_rate=100, perplexity=10):\n",
    "    model = TSNE(learning_rate=learning_rate, perplexity=perplexity) #, metric='euclidean')\n",
    "    embedded = model.fit_transform(data)\n",
    "    xs = embedded[:,0]\n",
    "    ys = embedded[:,1]\n",
    "    for t in np.unique(target):\n",
    "        i = np.where(target == t)\n",
    "        plt.scatter(xs[i], ys[i], label=target_names[t])\n",
    "\n",
    "    # plt.scatter(xs,ys,c=target,label=target)\n",
    "    plt.legend(loc=1)\n",
    "    plt.show()"
   ]
  },
  {
   "cell_type": "code",
   "execution_count": 40,
   "metadata": {},
   "outputs": [
    {
     "data": {
      "image/png": "[encoded data removed]",
      "text/plain": [
       "<Figure size 432x288 with 1 Axes>"
      ]
     },
     "metadata": {
      "needs_background": "light"
     },
     "output_type": "display_data"
    }
   ],
   "source": [
    "plot_tsne(iris.data, iris.target, iris.target_names)\n",
    "# print(iris.data)"
   ]
  },
  {
   "cell_type": "markdown",
   "metadata": {},
   "source": [
    "### **Take a look at YELP dataset**\n",
    "- If you use iris.data for training, it is unsupervised learning\n",
    "- If you use iris.data and iris.target, it is supervised learning\n",
    "- Preparing dataset for supervised learning is very expensive. \n",
    "- Think about YELP dataset, too.\n",
    "-https://www.yelp.com/dataset/challenge(https://www.yelp.com/dataset/challenge)"
   ]
  },
  {
   "cell_type": "markdown",
   "metadata": {},
   "source": [
    "### **Manifold Learning or PCA is a type of unsupervised laerning**"
   ]
  },
  {
   "cell_type": "code",
   "execution_count": 4,
   "metadata": {},
   "outputs": [
    {
     "data": {
      "image/png": "[encoded data removed]",
      "text/plain": [
       "<Figure size 432x288 with 1 Axes>"
      ]
     },
     "metadata": {
      "needs_background": "light"
     },
     "output_type": "display_data"
    }
   ],
   "source": [
    "from sklearn import datasets\n",
    "\n",
    "digits = datasets.load_digits()\n",
    "plot_tsne(digits.data, digits.target, digits.target_names)"
   ]
  },
  {
   "cell_type": "code",
   "execution_count": 5,
   "metadata": {},
   "outputs": [
    {
     "data": {
      "image/png": "[encoded data removed]",
      "text/plain": [
       "<Figure size 432x288 with 1 Axes>"
      ]
     },
     "metadata": {
      "needs_background": "light"
     },
     "output_type": "display_data"
    }
   ],
   "source": [
    "from sklearn import datasets\n",
    "\n",
    "digits = datasets.load_digits()\n",
    "plot_tsne(digits.data, digits.target, digits.target_names,learning_rate=10)"
   ]
  },
  {
   "cell_type": "code",
   "execution_count": 6,
   "metadata": {},
   "outputs": [
    {
     "data": {
      "image/png": "[encoded data removed]",
      "text/plain": [
       "<Figure size 432x288 with 1 Axes>"
      ]
     },
     "metadata": {
      "needs_background": "light"
     },
     "output_type": "display_data"
    }
   ],
   "source": [
    "from sklearn import datasets\n",
    "\n",
    "digits = datasets.load_digits()\n",
    "plot_tsne(digits.data, digits.target, digits.target_names,learning_rate=100,perplexity=1)"
   ]
  },
  {
   "cell_type": "code",
   "execution_count": 9,
   "metadata": {},
   "outputs": [
    {
     "data": {
      "image/png": "[encoded data removed]",
      "text/plain": [
       "<Figure size 432x288 with 1 Axes>"
      ]
     },
     "metadata": {
      "needs_background": "light"
     },
     "output_type": "display_data"
    }
   ],
   "source": [
    "from sklearn import datasets\n",
    "\n",
    "digits = datasets.load_digits()\n",
    "plot_tsne(digits.data, digits.target, digits.target_names,learning_rate=10,perplexity=50)"
   ]
  },
  {
   "cell_type": "code",
   "execution_count": 11,
   "metadata": {},
   "outputs": [
    {
     "data": {
      "image/png": "[encoded data removed]",
      "text/plain": [
       "<Figure size 432x288 with 1 Axes>"
      ]
     },
     "metadata": {
      "needs_background": "light"
     },
     "output_type": "display_data"
    }
   ],
   "source": [
    "from sklearn import datasets\n",
    "\n",
    "digits = datasets.load_digits()\n",
    "plot_tsne(digits.data, digits.target, digits.target_names,learning_rate=10,perplexity=10)"
   ]
  },
  {
   "cell_type": "markdown",
   "metadata": {},
   "source": [
    "### **What we usually do**\n",
    "- Choose a parameterized family of models and then use data to learn parameters that are in some way\n",
    "optimal.\n",
    "- Examples:\n",
    "    - A person’s height is (roughly) a linear function of his weight and then use data to learn what that linear\n",
    "function is.\n",
    "    - We might assume that a decision tree is a good way to diagnose what diseases our patients have and\n",
    "then use data to learn the “optimal” such tree"
   ]
  },
  {
   "cell_type": "markdown",
   "metadata": {},
   "source": [
    "#### **Overfitting**\n",
    "- A common danger in machine learning is overfitting\n",
    "- producing a model that performs well on the data you train it on\n",
    "- but that generalizes poorly to any new data.\n",
    "- This could involve learning noise in the data.\n",
    "- Or it could involve learning to identify specific inputs rather than whatever factors are actually predictive for\n",
    "the desired output."
   ]
  },
  {
   "cell_type": "markdown",
   "metadata": {},
   "source": [
    "#### **Underfitting**\n",
    "- producing a model that doesn’t perform well even on the training data\n",
    "- Typically when this happens you decide your model isn’t good enough and keep looking for a better one."
   ]
  },
  {
   "cell_type": "markdown",
   "metadata": {},
   "source": [
    "<img src =\"picture/le11-3.png\">"
   ]
  },
  {
   "cell_type": "markdown",
   "metadata": {},
   "source": [
    "#### **Underfitting:**\n",
    "- The horizontal line shows the best fit degree 0 (i.e., constant) polynomial. It severely underfits the training\n",
    "data.\n",
    "#### **Overfitting**\n",
    "- The best fit degree 9 (i.e., 10-parameter) polynomial goes through every training data point exactly, but it\n",
    "very severely overfits — if we were to pick a few more data points it would quite likely miss them by a lot.\n",
    "#### **Best fitting**\n",
    "- And the degree 1 line strikes a nice balance — it’s pretty close to every point, and (if these data are\n",
    "representative) the line will likely be close to new data points as well."
   ]
  },
  {
   "cell_type": "markdown",
   "metadata": {},
   "source": [
    "#### **Model complexity**\n",
    "- Clearly models that are too complex lead to overfitting\n",
    "- and don’t generalize well beyond the data they were trained on."
   ]
  },
  {
   "cell_type": "markdown",
   "metadata": {},
   "source": [
    "# **Occam's razor**\n",
    "- Exactly what Occam said: “More things should not be used than are necessary”.\n",
    "- \"Simpler solutions are more likely to be correct than complex ones.\"\n",
    "$\\트레인 데이터를 좀 죽이고 완성된 모델에 죽은 애들이 맞으면 진리이$$\n",
    "https://en.wikipedia.org/wiki/Occam%27s_razor#Science_and_the_scientific_method\n",
    "(https://en.wikipedia.org/wiki/Occam%27s_razor#Science_and_the_scientific_method)"
   ]
  },
  {
   "cell_type": "markdown",
   "metadata": {},
   "source": [
    "### **To avoid overfitting**\n",
    "- Use different data to train the model and to test the model.\n",
    "    - Training dataset\n",
    "    - Test dataset\n",
    "- When you should choose from among many models:\n",
    "    - Training dataset\n",
    "    - Validation set for choosing among trained models\n",
    "    - Test dataset"
   ]
  },
  {
   "cell_type": "code",
   "execution_count": 42,
   "metadata": {},
   "outputs": [],
   "source": [
    "def split_data(data, prob):\n",
    "    \"\"\"split data into fractions [prob, 1 - prob]\"\"\"\n",
    "    results = [], []\n",
    "    for row in data:\n",
    "        results[0 if random.random() < prob else 1].append(row)\n",
    "    return results\n",
    "\n",
    "def train_test_split(x, y, test_pct):\n",
    "    data = list(zip(x, y)) # pair corresponding values\n",
    "    train, test = split_data(data, 1 - test_pct) # split the dataset of pairs\n",
    "    x_train, y_train = list(zip(*train)) # magical un-zip trick\n",
    "    x_test, y_test = list(zip(*test))\n",
    "    return x_train, x_test, y_train, y_test"
   ]
  },
  {
   "cell_type": "markdown",
   "metadata": {},
   "source": [
    "## **Use sklearn's train_test_split**"
   ]
  },
  {
   "cell_type": "code",
   "execution_count": 43,
   "metadata": {},
   "outputs": [
    {
     "name": "stdout",
     "output_type": "stream",
     "text": [
      "[[ 0  1]\n",
      " [ 2  3]\n",
      " [ 4  5]\n",
      " [ 6  7]\n",
      " [ 8  9]\n",
      " [10 11]]\n",
      "\n",
      "[0, 1, 2, 3, 4, 5]\n",
      "\n",
      "[[2 3]\n",
      " [4 5]\n",
      " [6 7]\n",
      " [8 9]]\n",
      "\n",
      "[1, 2, 3, 4]\n",
      "\n",
      "[[10 11]\n",
      " [ 0  1]]\n",
      "\n",
      "[5, 0]\n"
     ]
    }
   ],
   "source": [
    "import numpy as np\n",
    "from sklearn.model_selection import train_test_split\n",
    "X, y = np.arange(12).reshape((6, 2)), list(range(6))\n",
    "print(X)\n",
    "print()\n",
    "print(y)\n",
    "X_train, X_test, y_train, y_test = train_test_split(X, y, test_size=0.33)\n",
    "print()\n",
    "print(X_train)\n",
    "print()\n",
    "print(y_train)\n",
    "print()\n",
    "print(X_test)\n",
    "print()\n",
    "print(y_test)"
   ]
  },
  {
   "cell_type": "markdown",
   "metadata": {},
   "source": [
    "### **A Story**\n",
    "- I developed a cheap, noninvasive test that can be given to a newborn baby that predicts — with greater\n",
    "than 98% accuracy — whether the newborn will ever develop leukemia. //백혈병\n",
    "- My lawyer has convinced me the test is unpatentable.\n",
    "- The truth is \"Predict leukemia if and only if the baby is named Luke\", which sounds sort of like “leukemia”\n",
    "- why we don’t typically use “accuracy” to measure how good a model is."
   ]
  },
  {
   "cell_type": "markdown",
   "metadata": {},
   "source": [
    "#### **Suppose a model to make a binary judgment.**\n",
    "- Is this email spam?\n",
    "- Should we hire this candidate?\n",
    "- Is this air traveler secretly a terrorist?\n",
    "- AI judges whether a suspect is guilty or not\n",
    "- Doctor decides whether a patient has a cancer or not"
   ]
  },
  {
   "cell_type": "markdown",
   "metadata": {},
   "source": [
    "Spam filtering Example\n",
    "\n",
    "- True positive: “This message is spam, and we correctly predicted spam.”\n",
    "- False positive (Type 1 Error): “This message is not spam, but we predicted spam.”\n",
    "- False negative (Type 2 Error): “This message is spam, but we predicted not spam.”\n",
    "- True negative: “This message is not spam, and we correctly predicted not spam.”"
   ]
  },
  {
   "cell_type": "markdown",
   "metadata": {},
   "source": [
    "#### **Confusion matrix:**\n",
    "\n",
    "\n",
    "||spam|not spam|\n",
    "|-----|-----|-----|\n",
    "|predict \"Spam\"|True Positive|False Positive|\n",
    "|predict \"Not Spam\"|False Negative|True Negative|"
   ]
  },
  {
   "cell_type": "markdown",
   "metadata": {},
   "source": [
    "- These days approximately 5 babies out of 1,000 are named Luke.\n",
    "- And the lifetime prevalence of leukemia is about 1.4%, or 14 out of every 1,000 people.\n",
    "||leukemia|no leukemia|total|\n",
    "|:-----:|:-----:|:-----:|:-----:|\n",
    "|\"Luke\"|70|4,930|5,000|\n",
    "|not \"Luke\"|13,930|981,070|995,000|\n",
    "|total|14,000|986,000|1,000,000|"
   ]
  },
  {
   "cell_type": "markdown",
   "metadata": {},
   "source": [
    "### **Correctness**"
   ]
  },
  {
   "cell_type": "markdown",
   "metadata": {},
   "source": [
    "**accuracy** $$\\대칭적인 자료에 대해서만 가능 ?$$\n",
    "- the fraction of correct predictions:"
   ]
  },
  {
   "cell_type": "code",
   "execution_count": 1,
   "metadata": {},
   "outputs": [],
   "source": [
    "def accuracy(tp, fp, fn, tn):\n",
    "    correct = tp + tn #ture positive true negative\n",
    "    total = tp + fp + fn + tn\n",
    "    return correct / total"
   ]
  },
  {
   "cell_type": "code",
   "execution_count": 2,
   "metadata": {},
   "outputs": [
    {
     "name": "stdout",
     "output_type": "stream",
     "text": [
      "accuracy(70, 4930, 13930, 981070) = 0.98114\n"
     ]
    }
   ],
   "source": [
    "print(\"accuracy(70, 4930, 13930, 981070) = {}\".format(accuracy(70, 4930, 13930, 981070)))"
   ]
  },
  {
   "cell_type": "markdown",
   "metadata": {},
   "source": [
    "#### **precision, recall, f1_score**\n",
    "- Precision measures how accurate our positive predictions were $\\맞다했는데 맞을 확률$\n",
    "- Recall measures what fraction of the positives our model identified    $\\아니라 했는데 맞을 확률$\n",
    "- F1 score: precision and recall are combined\n",
    "    - This is the harmonic mean of precision and recall and necessarily lies between them"
   ]
  },
  {
   "cell_type": "code",
   "execution_count": 3,
   "metadata": {},
   "outputs": [],
   "source": [
    "def precision(tp, fp, fn, tn):\n",
    "    return tp / (tp + fp)\n",
    "\n",
    "def recall(tp, fp, fn, tn):\n",
    "    return tp / (tp + fn)\n",
    "\n",
    "def f1_score(tp, fp, fn, tn):\n",
    "    p = precision(tp, fp, fn, tn)\n",
    "    r = recall(tp, fp, fn, tn)\n",
    "    return 2 * p * r / (p + r)#조화 평균 식 f_b = (!+b^2)((pr)/(b^2p+r))"
   ]
  },
  {
   "cell_type": "code",
   "execution_count": 47,
   "metadata": {},
   "outputs": [
    {
     "name": "stdout",
     "output_type": "stream",
     "text": [
      "precision(70, 4930, 13930, 981070) = 0.014\n",
      "recall(70, 4930, 13930, 981070) = 0.005\n",
      "f1_score(70, 4930, 13930, 981070) = 0.00736842105263158\n"
     ]
    }
   ],
   "source": [
    "print(\"precision(70, 4930, 13930, 981070) = {}\".format(precision(70, 4930, 13930, 981070)))\n",
    "print(\"recall(70, 4930, 13930, 981070) = {}\".format(recall(70, 4930, 13930, 981070)))\n",
    "print(\"f1_score(70, 4930, 13930, 981070) = {}\".format(f1_score(70, 4930, 13930, 981070)))"
   ]
  },
  {
   "cell_type": "markdown",
   "metadata": {},
   "source": [
    "#### **Use sklearn confusion matrix and classification_report:**\n",
    "- Note that sklearn confusion is \"Actual vs predicted\" (sklearn)\n",
    "- Predicted vs actual (our textbook)\n",
    "- If you want to read in our textbook format, transpose the confusion matrix"
   ]
  },
  {
   "cell_type": "code",
   "execution_count": 4,
   "metadata": {},
   "outputs": [
    {
     "name": "stdout",
     "output_type": "stream",
     "text": [
      "[[2 1]\n",
      " [0 3]]\n"
     ]
    }
   ],
   "source": [
    "from sklearn.metrics import confusion_matrix, classification_report\n",
    "\n",
    "y_true = [\"cat\", \"ant\", \"cat\", \"cat\", \"ant\", \"cat\"]\n",
    "y_pred = [\"ant\", \"ant\", \"cat\", \"cat\", \"ant\", \"cat\"]\n",
    "print(confusion_matrix(y_true, y_pred, labels=[\"ant\", \"cat\"]).T)"
   ]
  },
  {
   "cell_type": "markdown",
   "metadata": {},
   "source": [
    "||\"ant\"|\"cat\"|\n",
    "|:--:|:--:|:--:|\n",
    "|predict \"ant\"|2|1|\n",
    "|predict \"cat\"|0|3|"
   ]
  },
  {
   "cell_type": "markdown",
   "metadata": {},
   "source": [
    "If it is a problem predicting ant or not, the confusion matrix is:\n",
    "\n",
    "||\"ant\"|\"not ant\"|\n",
    "|:--:|:--:|:--:|\n",
    "|predict \"ant\"|2(TP)|1(FP)|\n",
    "|predict \"not ant\"|0(FN)|3(TN)|"
   ]
  },
  {
   "cell_type": "markdown",
   "metadata": {},
   "source": [
    "If it is a problem predicting cat or not, the confusion matrix is:\n",
    "\n",
    "||\"not cat\"|\"cat\"|\n",
    "|:--:|:--:|:--:|\n",
    "|predict \"not cat\"|2(TP)|1(FP)|\n",
    "|predict \"cat\"|0(FN)|3(TN)|"
   ]
  },
  {
   "cell_type": "code",
   "execution_count": 49,
   "metadata": {},
   "outputs": [
    {
     "name": "stdout",
     "output_type": "stream",
     "text": [
      "              precision    recall  f1-score   support\n",
      "\n",
      "         ant       0.67      1.00      0.80         2\n",
      "         cat       1.00      0.75      0.86         4\n",
      "\n",
      "    accuracy                           0.83         6\n",
      "   macro avg       0.83      0.88      0.83         6\n",
      "weighted avg       0.89      0.83      0.84         6\n",
      "\n"
     ]
    }
   ],
   "source": [
    "print(classification_report(y_true, y_pred, labels=[\"ant\", \"cat\"]))"
   ]
  },
  {
   "cell_type": "code",
   "execution_count": 50,
   "metadata": {},
   "outputs": [
    {
     "name": "stdout",
     "output_type": "stream",
     "text": [
      "[[2 1 0]\n",
      " [0 3 0]\n",
      " [0 0 2]]\n",
      "              precision    recall  f1-score   support\n",
      "\n",
      "         ant       0.67      1.00      0.80         2\n",
      "         cat       1.00      0.75      0.86         4\n",
      "        bird       1.00      1.00      1.00         2\n",
      "\n",
      "    accuracy                           0.88         8\n",
      "   macro avg       0.89      0.92      0.89         8\n",
      "weighted avg       0.92      0.88      0.88         8\n",
      "\n"
     ]
    }
   ],
   "source": [
    "from sklearn.metrics import confusion_matrix, classification_report\n",
    "\n",
    "y_true = [\"cat\", \"ant\", \"cat\", \"cat\", \"ant\", \"cat\", \"bird\", \"bird\"]\n",
    "y_pred = [\"ant\", \"ant\", \"cat\", \"cat\", \"ant\", \"cat\", \"bird\", \"bird\"]\n",
    "print(confusion_matrix(y_true, y_pred, labels=[\"ant\", \"cat\", \"bird\"]).T)\n",
    "print(classification_report(y_true, y_pred, labels=[\"ant\", \"cat\", \"bird\"]))"
   ]
  },
  {
   "cell_type": "markdown",
   "metadata": {},
   "source": [
    "### **Trade-off between precision and recall**\n",
    "- A model that predicts “yes” when it’s even a little bit confident will probably have a high recall but a low\n",
    "precision;\n",
    "- A model that predicts “yes” only when it’s extremely confident is likely to have a low recall and a high\n",
    "precision.\n",
    "- Alternatively, you can think of this as a trade-off between false positives and false negatives.\n",
    "    - Saying “yes” too often will give you lots of false positives\n",
    "    - Saying “no” too often will give you lots of false negatives"
   ]
  },
  {
   "cell_type": "markdown",
   "metadata": {},
   "source": [
    "### **Cost matrix**\n",
    "- Cost matrix is similar to the confusion matrix except the fact that we are calculating the cost of wrong\n",
    "prediction or right prediction.\n",
    "\n",
    "||Predator|not Predator|\n",
    "|:---:|:---:|:---:|\n",
    "|predict \"Predator\"|-1|1|\n",
    "|predict \"Not Predator\"|100|0|\n",
    "\n",
    "- Suppose we live in a world where a human being encounters 100 predators and 1,000 non-predators"
   ]
  },
  {
   "cell_type": "markdown",
   "metadata": {},
   "source": [
    "#### **Model 1:**\n",
    "\n",
    "||Predator|not Predator|\n",
    "|:---:|:---:|:---:|\n",
    "|predict \"Predator\"|99|9999|\n",
    "|predict \"Not Predator\"|1|1|\n",
    "\n",
    "- Precision = 9%\n",
    "- Recall = 99%\n",
    "- Total cost of Model 1 = 99*(-1) + 999*(1) + 1*(100) + 1*(0) = 1000"
   ]
  },
  {
   "cell_type": "markdown",
   "metadata": {},
   "source": [
    "#### **Model 2:**\n",
    "\n",
    "||Predator|not Predator|\n",
    "|:---:|:---:|:---:|\n",
    "|predict \"Predator\"|1|1|\n",
    "|predict \"Not Predator\"|99|999|\n",
    "\n",
    "- Precision = 50%\n",
    "- Recall = 1%\n",
    "- Total cost of Model 2 = 1*(-1) + 1*(1) + 99*(100) + 999*(0) = 9900"
   ]
  },
  {
   "cell_type": "markdown",
   "metadata": {},
   "source": [
    "- Model 2 has less probabiliy of survival in the process of evolution.\n",
    "- We are all model 1 human beings.\n",
    "- Too sensitive model in today's environment. No predator!!!"
   ]
  },
  {
   "cell_type": "markdown",
   "metadata": {},
   "source": [
    "### Today's world\n",
    "- We live in a world where a human being encounters 2 predators and 10,000 non-predators\n",
    "\n",
    "### **Model 1:**\n",
    "||Predator |not Predator|\n",
    "|:--:|:--:|:--:|\n",
    "|predict “Predator”|2| 9999|\n",
    "|predict “Not Predator”| 0 |1|\n",
    "\n",
    "- Precision = 0.02%  \n",
    "- Recall = 100%  \n",
    "- Total cost of Model 1 = 2*(-1) + 9999*(1) + 0*(100) + 1*(0) = 9997  \n",
    "\n",
    "### **Model 2**\n",
    "||Predator| not Predator|\n",
    "|:---:|:---:|:---:|\n",
    "|predict “Predator” |1 |1|\n",
    "|predict “Not Predator”| 1| 9999|\n",
    "\n",
    "- Precision = 50%  \n",
    "- Recall = 50%  \n",
    "- Total cost of Model 2 = 1*(-1) + 1*(1) + 1*(100) + 9999*(0) = 100  "
   ]
  },
  {
   "cell_type": "markdown",
   "metadata": {},
   "source": [
    "- Model 1 has less probabiliy of survival in the process of evolution."
   ]
  },
  {
   "cell_type": "markdown",
   "metadata": {},
   "source": [
    "## **The Bias-Variance Trade-off**\n",
    "- Both are measures of what would happen **if you were to retrain your model many times on different\n",
    "sets of training data** (from the same larger population).\n",
    "- **Bias** is the difference between the average prediction of our model and the correct value which we are\n",
    "trying to predict.\n",
    "- **Variance** is the variability of model prediction for a given data point (a value which tells us spread of our\n",
    "data).\n",
    "\n",
    "<img src = \"picture/le11-4.png\">"
   ]
  },
  {
   "cell_type": "markdown",
   "metadata": {},
   "source": [
    "- What is the bias of **prediction line**?\n",
    "- What is the variance of **prediction line**?"
   ]
  },
  {
   "cell_type": "markdown",
   "metadata": {},
   "source": [
    "- Degree 0 model:\n",
    "    - Degree 0 model will make a lot of mistakes for pretty much any training set (drawn from the same\n",
    "population), which means that it has a **high bias.**\n",
    "    - However, any two randomly chosen training sets should give pretty similar models (since any two\n",
    "randomly chosen training sets should have pretty similar average values). So we say that it has a low\n",
    "variance.\n",
    "- **High bias and low variance typically correspond to underfitting.**"
   ]
  },
  {
   "cell_type": "markdown",
   "metadata": {},
   "source": [
    "- Degree 9 model:\n",
    "    - Degree 9 model fit the training set perfectly.\n",
    "    - It has very low bias but very high variance (since any two training sets would likely give rise to very\n",
    "different models). **This corresponds to overfitting.**\n",
    "- If your model has high bias (which means it performs poorly even on your training data) then one thing to\n",
    "try is adding more features. Going from the degree 0 model in to the degree 1 model was a big\n",
    "improvement.\n",
    "- If your model has high variance, then you can similarly remove features. But another solution is to obtain\n",
    "more data (if you can)."
   ]
  },
  {
   "cell_type": "markdown",
   "metadata": {},
   "source": [
    "<img src = \"picture/le11-5.png\">"
   ]
  },
  {
   "cell_type": "markdown",
   "metadata": {},
   "source": [
    "#### **Degree 9 model with N points**\n",
    "\n",
    "<img src = \"picture/le11-6.png\">"
   ]
  },
  {
   "cell_type": "markdown",
   "metadata": {},
   "source": [
    "- We fit a degree 9 polynomial to different size samples.\n",
    "- The model fit based on 10 data points is all over the place, as we saw before.\n",
    "- If we instead trained on 100 data points, there’s much less overfitting.\n",
    "- And the model trained from 1,000 data points looks very similar to the degree 1 model.\n",
    "- Holding model complexity constant, the more data you have, the harder it is to overfit.\n",
    "- On the other hand, more data won’t help with bias.\n",
    "- If your model doesn’t use enough features to capture regularities in the data, throwing more data at it won’t help"
   ]
  },
  {
   "cell_type": "markdown",
   "metadata": {},
   "source": [
    "### **Feature Extraction and Selection**\n",
    "- When your data doesn’t have enough features, your model is likely to underfit.\n",
    "- And when your data has too many features, it’s easy to overfit.\n",
    "- But what are features and where do they come from?\n",
    "- Features are whatever inputs we provide to our model.\n",
    "- In the simplest case, features are simply given to you."
   ]
  },
  {
   "cell_type": "markdown",
   "metadata": {},
   "source": [
    "- Useful tools:\n",
    "    - “Dimensionality Reduction”\n",
    "    - “Regularization” that penalizes models using more features (SVM or regression)\n",
    "    - \"Dropout\" in Deep neural network\n",
    "    - Occam's razor, again"
   ]
  },
  {
   "cell_type": "markdown",
   "metadata": {},
   "source": [
    "### Spam Filter Example\n",
    "- Imagine trying to build a spam filter to predict whether an email is junk or not.\n",
    "- Most models won’t know what to do with a raw email, which is just a collection of text.\n",
    "- You’ll have to extract features.\n",
    "- For example:\n",
    "    - Does the email contain the word “Viagra”?\n",
    "    - How many times does the letter d appear?\n",
    "    - What was the domain of the sender?"
   ]
  },
  {
   "cell_type": "markdown",
   "metadata": {},
   "source": [
    "#### **How do we choose features?***\n",
    "- That’s where a combination of experience and domain expertise comes into play.\n",
    "- If you’ve received lots of emails, then you probably have a sense that the presence of certain words might\n",
    "be a good indicator of spamminess.\n",
    "- And you might also have a sense that the number of d’s is likely not a good indicator of spamminess.\n",
    "- **But in general you’ll have to try different things, which is part of the fun.**"
   ]
  }
 ],
 "metadata": {
  "kernelspec": {
   "display_name": "Python 3",
   "language": "python",
   "name": "python3"
  },
  "language_info": {
   "codemirror_mode": {
    "name": "ipython",
    "version": 3
   },
   "file_extension": ".py",
   "mimetype": "text/x-python",
   "name": "python",
   "nbconvert_exporter": "python",
   "pygments_lexer": "ipython3",
   "version": "3.7.7"
  }
 },
 "nbformat": 4,
 "nbformat_minor": 4
}
