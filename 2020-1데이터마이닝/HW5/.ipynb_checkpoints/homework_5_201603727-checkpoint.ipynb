{
 "cells": [
  {
   "cell_type": "markdown",
   "metadata": {},
   "source": [
    "# Homework 5. Pandas - Titanic"
   ]
  },
  {
   "cell_type": "markdown",
   "metadata": {},
   "source": [
    "***Double Click here to edit this cell***\n",
    "\n",
    "- Name: 허성일\n",
    "- Student ID: 201603727\n",
    "- Submission date: 2020/05/23"
   ]
  },
  {
   "cell_type": "markdown",
   "metadata": {},
   "source": [
    "## IMPORTANT: \n",
    "- Do NOT use numpy or matplotlib functions. Use Pandas functions. \n",
    "- Remember we are praticing pandas!"
   ]
  },
  {
   "cell_type": "code",
   "execution_count": 1,
   "metadata": {},
   "outputs": [],
   "source": [
    "import pandas as pd"
   ]
  },
  {
   "cell_type": "code",
   "execution_count": 2,
   "metadata": {},
   "outputs": [],
   "source": [
    "titanic = pd.read_csv('titanic_dataset.csv')"
   ]
  },
  {
   "cell_type": "markdown",
   "metadata": {},
   "source": [
    "### Data Dictionary\n",
    "- Survived: \t0 = No, 1 = Yes  \n",
    "- pclass: \tTicket class\t1 = 1st, 2 = 2nd, 3 = 3rd  \t\n",
    "- name: Name \n",
    "- sex: {'male', 'female'} \n",
    "- age: Age\n",
    "- sibsp:\t# of siblings / spouses aboard the Titanic  \t\n",
    "- parch:\t# of parents / children aboard the Titanic  \t\n",
    "- ticket:\tTicket number\t\n",
    "- cabin:\tCabin number\t\n",
    "- embarked:\tPort of Embarkation\tC = Cherbourg, Q = Queenstown, S = Southampton  \n",
    "- boat: boat # of survived passengers"
   ]
  },
  {
   "cell_type": "markdown",
   "metadata": {},
   "source": [
    "## Problem 1. Find mean fare that the first class passengers paid (In Korean current currency) (5 pts)\n",
    "- Note that there are many unpaid free passengers. **Do NOT take unpaid free passengers into consideration.**\n",
    "- 1 pound when Titanic launched is worth 57.5 US dollars. \n",
    "- Suppose US currency exchange ratio is 1230 won per dollar."
   ]
  },
  {
   "cell_type": "code",
   "execution_count": 3,
   "metadata": {},
   "outputs": [
    {
     "name": "stdout",
     "output_type": "stream",
     "text": [
      "mean fare that the first class passengers paid 6326173.16\n"
     ]
    }
   ],
   "source": [
    "# YOUR CODE HERE\n",
    "first_fare_mean=titanic[(titanic['pclass'] == 1) & (titanic['fare'] != 0)].mean().fare\n",
    "print(\"mean fare that the first class passengers paid {:.2f}\".format(first_fare_mean*57.5*1230))"
   ]
  },
  {
   "cell_type": "markdown",
   "metadata": {},
   "source": [
    "```\n",
    "mean fare that the first class passengers paid = 6326173.16\n",
    "```"
   ]
  },
  {
   "cell_type": "markdown",
   "metadata": {},
   "source": [
    "## Problem 2. (15 pts)\n",
    "### 2.1 Find the **name**s who paid the highest **fare**. Are they **survived**?"
   ]
  },
  {
   "cell_type": "code",
   "execution_count": 4,
   "metadata": {},
   "outputs": [
    {
     "name": "stdout",
     "output_type": "stream",
     "text": [
      "                                                  name  survived\n",
      "49                  Cardeza, Mr. Thomas Drake Martinez         1\n",
      "50   Cardeza, Mrs. James Warburton Martinez (Charlo...         1\n",
      "183                             Lesurer, Mr. Gustave J         1\n",
      "302                                   Ward, Miss. Anna         1\n"
     ]
    }
   ],
   "source": [
    "# YOUR CODE HERE\n",
    "print(titanic[titanic['fare']==titanic['fare'].max()].filter(items =['name','survived']))"
   ]
  },
  {
   "cell_type": "markdown",
   "metadata": {},
   "source": [
    "```\n",
    "                                                  name  survived\n",
    "49                  Cardeza, Mr. Thomas Drake Martinez         1\n",
    "50   Cardeza, Mrs. James Warburton Martinez (Charlo...         1\n",
    "183                             Lesurer, Mr. Gustave J         1\n",
    "302                                   Ward, Miss. Anna         1\n",
    "```"
   ]
  },
  {
   "cell_type": "markdown",
   "metadata": {},
   "source": [
    "### 2.2 Find the **name**s who paid the lowest **fare**. Are they **survived**?"
   ]
  },
  {
   "cell_type": "code",
   "execution_count": 5,
   "metadata": {},
   "outputs": [
    {
     "name": "stdout",
     "output_type": "stream",
     "text": [
      "                                       name  pclass  survived\n",
      "7                    Andrews, Mr. Thomas Jr       1         0\n",
      "70    Chisholm, Mr. Roderick Robert Crispin       1         0\n",
      "125                        Fry, Mr. Richard       1         0\n",
      "150                   Harrison, Mr. William       1         0\n",
      "170                 Ismay, Mr. Joseph Bruce       1         1\n",
      "223           Parr, Mr. William Henry Marsh       1         0\n",
      "234         Reuchlin, Jonkheer. John George       1         0\n",
      "363                   Campbell, Mr. William       2         0\n",
      "384          Cunningham, Mr. Alfred Fleming       2         0\n",
      "410        Frost, Mr. Anthony Wood \"Archie\"       2         0\n",
      "473                    Knight, Mr. Robert J       2         0\n",
      "528             Parkes, Mr. Francis \"Frank\"       2         0\n",
      "581              Watson, Mr. Ennis Hastings       2         0\n",
      "896                     Johnson, Mr. Alfred       3         0\n",
      "898         Johnson, Mr. William Cahoone Jr       3         0\n",
      "963                     Leonard, Mr. Lionel       3         0\n",
      "1254           Tornquist, Mr. William Henry       3         1\n"
     ]
    }
   ],
   "source": [
    "# YOUR CODE HERE\n",
    "print(titanic[titanic['fare']==titanic['fare'].min()].filter(items =['name','pclass','survived']))"
   ]
  },
  {
   "cell_type": "markdown",
   "metadata": {},
   "source": [
    "```\n",
    "                                       name  pclass  survived\n",
    "7                    Andrews, Mr. Thomas Jr       1         0\n",
    "70    Chisholm, Mr. Roderick Robert Crispin       1         0\n",
    "125                        Fry, Mr. Richard       1         0\n",
    "150                   Harrison, Mr. William       1         0\n",
    "170                 Ismay, Mr. Joseph Bruce       1         1\n",
    "223           Parr, Mr. William Henry Marsh       1         0\n",
    "234         Reuchlin, Jonkheer. John George       1         0\n",
    "363                   Campbell, Mr. William       2         0\n",
    "384          Cunningham, Mr. Alfred Fleming       2         0\n",
    "410        Frost, Mr. Anthony Wood \"Archie\"       2         0\n",
    "473                    Knight, Mr. Robert J       2         0\n",
    "528             Parkes, Mr. Francis \"Frank\"       2         0\n",
    "581              Watson, Mr. Ennis Hastings       2         0\n",
    "896                     Johnson, Mr. Alfred       3         0\n",
    "898         Johnson, Mr. William Cahoone Jr       3         0\n",
    "963                     Leonard, Mr. Lionel       3         0\n",
    "1254           Tornquist, Mr. William Henry       3         1\n",
    "```"
   ]
  },
  {
   "cell_type": "markdown",
   "metadata": {},
   "source": [
    "### 2.3 Find the **name**s who paid the lowest **fare** (> 0). Are they **survived**?"
   ]
  },
  {
   "cell_type": "code",
   "execution_count": 6,
   "metadata": {},
   "outputs": [
    {
     "name": "stdout",
     "output_type": "stream",
     "text": [
      "                           name  pclass  survived\n",
      "1082  Olsen, Master. Artur Karl       3         1\n"
     ]
    }
   ],
   "source": [
    "# YOUR CODE HERE\n",
    "print(titanic[titanic['fare'] == (titanic[titanic['fare'] > 0].min().fare)].filter(items =['name','pclass','survived']))"
   ]
  },
  {
   "cell_type": "markdown",
   "metadata": {},
   "source": [
    "```\n",
    "                           name  pclass  survived\n",
    "1082  Olsen, Master. Artur Karl       3         1\n",
    "```"
   ]
  },
  {
   "cell_type": "markdown",
   "metadata": {},
   "source": [
    "## Problem 3. (10 pts)\n",
    "### 3.1 Find the survival ratio who paid more than 0 and less than or equal to the mean fare of third class"
   ]
  },
  {
   "cell_type": "code",
   "execution_count": 7,
   "metadata": {},
   "outputs": [
    {
     "name": "stdout",
     "output_type": "stream",
     "text": [
      "survived ratio of low 1 group = 25.33%\n"
     ]
    }
   ],
   "source": [
    "# YOUR CODE HERE\n",
    "df=titanic[(titanic['fare'] > 0) & (titanic['fare'] <= (titanic[titanic['pclass']==3].fare.mean()))]\n",
    "survival_ratio = df[df['survived']==1].shape[0] / df.shape[0] * 100\n",
    "print('survived ratio of low 1 group = {:.2f}%'.format(survival_ratio))"
   ]
  },
  {
   "cell_type": "markdown",
   "metadata": {},
   "source": [
    "```\n",
    "survived ratio of low 1 group = 25.33%\n",
    "```"
   ]
  },
  {
   "cell_type": "markdown",
   "metadata": {},
   "source": [
    "### 3.2 Find the survival ratio who paid more than the mean fare of first class"
   ]
  },
  {
   "cell_type": "code",
   "execution_count": 8,
   "metadata": {},
   "outputs": [
    {
     "name": "stdout",
     "output_type": "stream",
     "text": [
      "survived ratio of high 1 group = 72.16%\n"
     ]
    }
   ],
   "source": [
    "# YOUR CODE HERE \n",
    "df=titanic[(titanic['fare'] > 0) & (titanic['fare'] > (titanic[titanic['pclass']==1].fare.mean()))]\n",
    "survival_ratio = df[df['survived']==1].shape[0] / df.shape[0] * 100\n",
    "print('survived ratio of high 1 group = {:.2f}%'.format(survival_ratio))"
   ]
  },
  {
   "cell_type": "markdown",
   "metadata": {},
   "source": [
    "```\n",
    "survived ratio of high 1 group = 72.16%\n",
    "```"
   ]
  },
  {
   "cell_type": "markdown",
   "metadata": {},
   "source": [
    "## Problem 4. (10 pts)\n",
    "### 4.1 Plot the number of male and female passengers"
   ]
  },
  {
   "cell_type": "code",
   "execution_count": 9,
   "metadata": {},
   "outputs": [
    {
     "data": {
      "image/png": "[encoded data removed]",
      "text/plain": [
       "<Figure size 432x288 with 1 Axes>"
      ]
     },
     "metadata": {
      "needs_background": "light"
     },
     "output_type": "display_data"
    }
   ],
   "source": [
    "a=titanic[['name']].groupby(titanic['sex']).count().plot.bar()"
   ]
  },
  {
   "cell_type": "markdown",
   "metadata": {},
   "source": [
    "<img src=\"hw5_1.png\">"
   ]
  },
  {
   "cell_type": "markdown",
   "metadata": {},
   "source": [
    "### 4.2 Plot mean age and mean fare by sex"
   ]
  },
  {
   "cell_type": "code",
   "execution_count": 10,
   "metadata": {},
   "outputs": [
    {
     "data": {
      "image/png": "[encoded data removed]",
      "text/plain": [
       "<Figure size 432x288 with 1 Axes>"
      ]
     },
     "metadata": {
      "needs_background": "light"
     },
     "output_type": "display_data"
    }
   ],
   "source": [
    "# YOUR CODE HERE\n",
    "a=titanic[['age','fare']].groupby(titanic['sex']).mean().plot.bar()"
   ]
  },
  {
   "cell_type": "markdown",
   "metadata": {},
   "source": [
    "<img src=\"hw5_2.png\">"
   ]
  },
  {
   "cell_type": "markdown",
   "metadata": {},
   "source": [
    "## Problem 5. (10 pts)\n",
    "### 5.1 Find the number of passengers by passenger's title."
   ]
  },
  {
   "cell_type": "code",
   "execution_count": 11,
   "metadata": {},
   "outputs": [
    {
     "data": {
      "text/plain": [
       " Mr.          757\n",
       " Miss.        260\n",
       " Mrs.         197\n",
       " Master.       61\n",
       " Rev.           8\n",
       " Dr.            8\n",
       " Col.           4\n",
       " Major.         2\n",
       " Mlle.          2\n",
       " Ms.            2\n",
       " Mme.           1\n",
       " Capt.          1\n",
       " Don.           1\n",
       " Lady.          1\n",
       " Jonkheer.      1\n",
       " Sir.           1\n",
       " Countess.      1\n",
       " Dona.          1\n",
       "Name: 0, dtype: int64"
      ]
     },
     "execution_count": 11,
     "metadata": {},
     "output_type": "execute_result"
    }
   ],
   "source": [
    "# YOUR CODE HERE\n",
    "titanic['name'].str.extract(r'\\,.*?(\\s[A-Z].*[a-z]\\.)')[0].value_counts()"
   ]
  },
  {
   "cell_type": "markdown",
   "metadata": {},
   "source": [
    "```\n",
    " Mr.          757\n",
    " Miss.        260\n",
    " Mrs.         197\n",
    " Master.       61\n",
    " Rev.           8\n",
    " Dr.            8\n",
    " Col.           4\n",
    " Ms.            2\n",
    " Mlle.          2\n",
    " Major.         2\n",
    " Jonkheer.      1\n",
    " Sir.           1\n",
    " Capt.          1\n",
    " Countess.      1\n",
    " Lady.          1\n",
    " Don.           1\n",
    " Mme.           1\n",
    " Dona.          1\n",
    "Name: name, dtype: int64\n",
    "```"
   ]
  },
  {
   "cell_type": "markdown",
   "metadata": {},
   "source": [
    "### 5.2 Plot the mean fare by passenger's title"
   ]
  },
  {
   "cell_type": "code",
   "execution_count": 14,
   "metadata": {},
   "outputs": [
    {
     "data": {
      "text/plain": [
       "<matplotlib.axes._subplots.AxesSubplot at 0x176a55bef08>"
      ]
     },
     "execution_count": 14,
     "metadata": {},
     "output_type": "execute_result"
    },
    {
     "data": {
      "image/png": "[encoded data removed]",
      "text/plain": [
       "<Figure size 432x288 with 1 Axes>"
      ]
     },
     "metadata": {
      "needs_background": "light"
     },
     "output_type": "display_data"
    }
   ],
   "source": [
    "# YOUR CODE HERE\n",
    "titanic['name']=titanic['name'].str.extract(r'\\,.*?(\\s[A-Z].*[a-z]\\.)')\n",
    "titanic[['name','fare']].groupby('name').mean().plot.bar()"
   ]
  },
  {
   "cell_type": "markdown",
   "metadata": {},
   "source": [
    "<img src=\"hw5_3.png\">"
   ]
  },
  {
   "cell_type": "markdown",
   "metadata": {},
   "source": [
    "## Problem 6. (15 pts)\n",
    "### Compute the confidence and support for the following cases:\n",
    "- Print probability in percent format and truncate all probability values to 2 decimal places\n",
    "\n",
    "Confidences:\n",
    "- P(survived = 1 | sex=female, pclass=1)\n",
    "- P(survived = 1 | sex=female, pclass=2)\n",
    "- P(survived = 1 | sex=female, pclass=3)\n",
    "- P(survived = 1 | sex=male, pclass=1)\n",
    "- P(survived = 1 | sex=male, pclass=2)\n",
    "- P(survived = 1 | sex=male, pclass=3)\n",
    "- P(survived = 1 | age <= 10, pclass=1)\n",
    "- P(survived = 1 | age <= 10, pclass=2)\n",
    "- P(survived = 1 | age <= 10, pclass=3)\n",
    "\n",
    "Support:\n",
    "- P(survived = 1, sex=female, pclass=1)\n",
    "- P(survived = 1, sex=female, pclass=2)\n",
    "- P(survived = 1, sex=female, pclass=3)\n",
    "- P(survived = 1, sex=male, pclass=1)\n",
    "- P(survived = 1, sex=male, pclass=2)\n",
    "- P(survived = 1, sex=male, pclass=3)\n",
    "- P(survived = 1, age <= 10, pclass=1)\n",
    "- P(survived = 1, age <= 10, pclass=2)\n",
    "- P(survived = 1, age <= 10, pclass=3)"
   ]
  },
  {
   "cell_type": "markdown",
   "metadata": {},
   "source": [
    "### 6.1 P(survived = 1 | sex=female, pclass=1), P(survived = 1, sex=female, pclass=1)"
   ]
  },
  {
   "cell_type": "code",
   "execution_count": 15,
   "metadata": {},
   "outputs": [
    {
     "name": "stdout",
     "output_type": "stream",
     "text": [
      "Confidence: P(survived = 1 | sex=female, pclass=1) = 96.53\n",
      "Support: P(survived = 1, sex=female, pclass=1) = 10.62\n"
     ]
    }
   ],
   "source": [
    "# YOUR CODE HERE\n",
    "A=titanic[(titanic.sex=='female')&(titanic.pclass==1)].groupby('survived').size()\n",
    "conf=A[1]/sum(A)\n",
    "print(\"Confidence: P(survived = 1 | sex=female, pclass=1) = {:.2f}\".format(conf*100))\n",
    "sup=titanic[(titanic.sex=='female')&(titanic.pclass==1)&(titanic.survived==1)].shape[0]/titanic.shape[0]\n",
    "print(\"Support: P(survived = 1, sex=female, pclass=1) = {:.2f}\".format(sup*100))"
   ]
  },
  {
   "cell_type": "markdown",
   "metadata": {},
   "source": [
    "```\n",
    "Confidence: P(survived = 1 | sex=female, pclass=1) = 96.53\n",
    "Support: P(survived = 1, sex=female, pclass=1) = 10.62\n",
    "```"
   ]
  },
  {
   "cell_type": "markdown",
   "metadata": {},
   "source": [
    "### 6.2 P(survived = 1 | sex=female, pclass=2), P(survived = 1, sex=female, pclass=2)"
   ]
  },
  {
   "cell_type": "code",
   "execution_count": 16,
   "metadata": {},
   "outputs": [
    {
     "name": "stdout",
     "output_type": "stream",
     "text": [
      "Confidence: P(survived = 1 | sex=female, pclass=2) = 88.68\n",
      "Support: P(survived = 1, sex=female, pclass=2) = 7.18\n"
     ]
    }
   ],
   "source": [
    "# YOUR CODE HERE\n",
    "A=titanic[(titanic.sex=='female')&(titanic.pclass==2)].groupby('survived').size()\n",
    "conf=A[1]/sum(A)\n",
    "print(\"Confidence: P(survived = 1 | sex=female, pclass=2) = {:.2f}\".format(conf*100))\n",
    "sup=titanic[(titanic.sex=='female')&(titanic.pclass==2)&(titanic.survived==1)].shape[0]/titanic.shape[0]\n",
    "print(\"Support: P(survived = 1, sex=female, pclass=2) = {:.2f}\".format(sup*100))"
   ]
  },
  {
   "cell_type": "markdown",
   "metadata": {},
   "source": [
    "```\n",
    "Confidence: P(survived = 1 | sex=female, pclass=2) = 88.68\n",
    "Support: P(survived = 1, sex=female, pclass=2) = 7.18\n",
    "```"
   ]
  },
  {
   "cell_type": "markdown",
   "metadata": {},
   "source": [
    "### 6.3 P(survived = 1 | sex=female, pclass=3), P(survived = 1, sex=female, pclass=3)"
   ]
  },
  {
   "cell_type": "code",
   "execution_count": 17,
   "metadata": {},
   "outputs": [
    {
     "name": "stdout",
     "output_type": "stream",
     "text": [
      "Confidence: P(survived = 1 | sex=female, pclass=3) = 49.07\n",
      "Support: P(survived = 1, sex=female, pclass=3) = 8.10\n"
     ]
    }
   ],
   "source": [
    "# YOUR CODE HERE\n",
    "A=titanic[(titanic.sex=='female')&(titanic.pclass==3)].groupby('survived').size()\n",
    "conf=A[1]/sum(A)\n",
    "print(\"Confidence: P(survived = 1 | sex=female, pclass=3) = {:.2f}\".format(conf*100))\n",
    "sup=titanic[(titanic.sex=='female')&(titanic.pclass==3)&(titanic.survived==1)].shape[0]/titanic.shape[0]\n",
    "print(\"Support: P(survived = 1, sex=female, pclass=3) = {:.2f}\".format(sup*100))"
   ]
  },
  {
   "cell_type": "markdown",
   "metadata": {},
   "source": [
    "```\n",
    "Confidence: P(survived = 1 | sex=female, pclass=3) = 49.07\n",
    "Support: P(survived = 1, sex=female, pclass=3) = 8.10\n",
    "```"
   ]
  },
  {
   "cell_type": "markdown",
   "metadata": {},
   "source": [
    "### 6.4 P(survived = 1 | sex=male, pclass=1), P(survived = 1, sex=male, pclass=1)"
   ]
  },
  {
   "cell_type": "code",
   "execution_count": 18,
   "metadata": {},
   "outputs": [
    {
     "name": "stdout",
     "output_type": "stream",
     "text": [
      "Confidence: P(survived = 1 | sex=male, pclass=1) = 34.08\n",
      "Support: P(survived = 1, sex=male, pclass=1) = 4.66\n"
     ]
    }
   ],
   "source": [
    "# YOUR CODE HERE\n",
    "A=titanic[(titanic.sex=='male')&(titanic.pclass==1)].groupby('survived').size()\n",
    "conf=A[1]/sum(A)\n",
    "print(\"Confidence: P(survived = 1 | sex=male, pclass=1) = {:.2f}\".format(conf*100))\n",
    "sup=titanic[(titanic.sex=='male')&(titanic.pclass==1)&(titanic.survived==1)].shape[0]/titanic.shape[0]\n",
    "print(\"Support: P(survived = 1, sex=male, pclass=1) = {:.2f}\".format(sup*100))"
   ]
  },
  {
   "cell_type": "markdown",
   "metadata": {},
   "source": [
    "```\n",
    "Confidence: P(survived = 1 | sex=male, pclass=1) = 34.08\n",
    "Support: P(survived = 1, sex=male, pclass=1) = 4.66\n",
    "```"
   ]
  },
  {
   "cell_type": "markdown",
   "metadata": {},
   "source": [
    "### 6.5 P(survived = 1 | sex=male, pclass=2), P(survived = 1, sex=male, pclass=2)"
   ]
  },
  {
   "cell_type": "code",
   "execution_count": 19,
   "metadata": {},
   "outputs": [
    {
     "name": "stdout",
     "output_type": "stream",
     "text": [
      "Confidence: P(survived = 1 | sex=male, pclass=2) = 14.62\n",
      "Support: P(survived = 1, sex=male, pclass=2) = 1.91\n"
     ]
    }
   ],
   "source": [
    "# YOUR CODE HERE\n",
    "A=titanic[(titanic.sex=='male')&(titanic.pclass==2)].groupby('survived').size()\n",
    "conf=A[1]/sum(A)\n",
    "print(\"Confidence: P(survived = 1 | sex=male, pclass=2) = {:.2f}\".format(conf*100))\n",
    "sup=titanic[(titanic.sex=='male')&(titanic.pclass==2)&(titanic.survived==1)].shape[0]/titanic.shape[0]\n",
    "print(\"Support: P(survived = 1, sex=male, pclass=2) = {:.2f}\".format(sup*100))"
   ]
  },
  {
   "cell_type": "markdown",
   "metadata": {},
   "source": [
    "```\n",
    "Confidence: P(survived = 1 | sex=male, pclass=2) = 14.62\n",
    "Support: P(survived = 1, sex=male, pclass=2) = 1.91\n",
    "```"
   ]
  },
  {
   "cell_type": "markdown",
   "metadata": {},
   "source": [
    "### 6.6 P(survived = 1 | sex=male, pclass=3), P(survived = 1, sex=male, pclass=3)"
   ]
  },
  {
   "cell_type": "code",
   "execution_count": 20,
   "metadata": {},
   "outputs": [
    {
     "name": "stdout",
     "output_type": "stream",
     "text": [
      "Confidence: P(survived = 1 | sex=male, pclass=3) = 15.21\n",
      "Support: P(survived = 1, sex=male, pclass=3) = 5.73\n"
     ]
    }
   ],
   "source": [
    "# YOUR CODE HERE\n",
    "A=titanic[(titanic.sex=='male')&(titanic.pclass==3)].groupby('survived').size()\n",
    "conf=A[1]/sum(A)\n",
    "print(\"Confidence: P(survived = 1 | sex=male, pclass=3) = {:.2f}\".format(conf*100))\n",
    "sup=titanic[(titanic.sex=='male')&(titanic.pclass==3)&(titanic.survived==1)].shape[0]/titanic.shape[0]\n",
    "print(\"Support: P(survived = 1, sex=male, pclass=3) = {:.2f}\".format(sup*100))"
   ]
  },
  {
   "cell_type": "markdown",
   "metadata": {},
   "source": [
    "```\n",
    "Confidence: P(survived = 1 | sex=male, pclass=3) = 15.21\n",
    "Support: P(survived = 1, sex=male, pclass=3) = 5.73\n",
    "```"
   ]
  },
  {
   "cell_type": "markdown",
   "metadata": {},
   "source": [
    "### 6.7 P(survived = 1 | age <= 10, pclass=1), P(survived = 1, age <= 10, pclass=1)"
   ]
  },
  {
   "cell_type": "code",
   "execution_count": 21,
   "metadata": {},
   "outputs": [
    {
     "name": "stdout",
     "output_type": "stream",
     "text": [
      "Confidence: P(survived = 1 | age <= 10, pclass=1) = 75.00\n",
      "Support: P(survived = 1, age <= 10, pclass=1) = 0.23\n"
     ]
    }
   ],
   "source": [
    "# YOUR CODE HERE\n",
    "A=titanic[(titanic.age<=10)&(titanic.pclass==1)].groupby('survived').size()\n",
    "conf=A[1]/sum(A)\n",
    "print(\"Confidence: P(survived = 1 | age <= 10, pclass=1) = {:.2f}\".format(conf*100))\n",
    "sup=titanic[(titanic.age <=10)&(titanic.pclass==1)&titanic.survived==1].shape[0]/titanic.shape[0]\n",
    "print(\"Support: P(survived = 1, age <= 10, pclass=1) = {:.2f}\".format(sup*100))"
   ]
  },
  {
   "cell_type": "markdown",
   "metadata": {},
   "source": [
    "```\n",
    "Confidence: P(survived = 1 | age <= 10, pclass=1) = 75.00\n",
    "Support: P(survived = 1, age <= 10, pclass=1) = 0.23\n",
    "```"
   ]
  },
  {
   "cell_type": "markdown",
   "metadata": {},
   "source": [
    "### 6.8 P(survived = 1 | age <= 10, pclass=2), P(survived = 1, age <= 10, pclass=2)"
   ]
  },
  {
   "cell_type": "code",
   "execution_count": 22,
   "metadata": {},
   "outputs": [
    {
     "name": "stdout",
     "output_type": "stream",
     "text": [
      "Confidence: P(survived = 1 | age <= 10, pclass=2) = 100.00\n",
      "Support: P(survived = 1, age <= 10, pclass=2) = 1.68\n"
     ]
    }
   ],
   "source": [
    "# YOUR CODE HERE\n",
    "A=titanic[(titanic.age<=10)&(titanic.pclass==2)].groupby('survived').size()\n",
    "conf=A[1]/sum(A)\n",
    "print(\"Confidence: P(survived = 1 | age <= 10, pclass=2) = {:.2f}\".format(conf*100))\n",
    "sup=titanic[(titanic.age <=10)&(titanic.pclass==2)&titanic.survived==1].shape[0]/titanic.shape[0]\n",
    "print(\"Support: P(survived = 1, age <= 10, pclass=2) = {:.2f}\".format(sup*100))"
   ]
  },
  {
   "cell_type": "markdown",
   "metadata": {},
   "source": [
    "```\n",
    "Confidence: P(survived = 1 | age <= 10, pclass=2) = 100.00\n",
    "Support: P(survived = 1, age <= 10, pclass=2) = 1.68\n",
    "```"
   ]
  },
  {
   "cell_type": "markdown",
   "metadata": {},
   "source": [
    "### 6.9 P(survived = 1 | age <= 10, pclass=3), P(survived = 1, age <= 10, pclass=3)"
   ]
  },
  {
   "cell_type": "code",
   "execution_count": 23,
   "metadata": {},
   "outputs": [
    {
     "name": "stdout",
     "output_type": "stream",
     "text": [
      "Confidence: P(survived = 1 | age <= 10, pclass=3) = 41.67\n",
      "Support: P(survived = 1, age <= 10, pclass=3) = 1.91\n"
     ]
    }
   ],
   "source": [
    "# YOUR CODE HERE\n",
    "A=titanic[(titanic.age<=10)&(titanic.pclass==3)].groupby('survived').size()\n",
    "conf=A[1]/sum(A)\n",
    "print(\"Confidence: P(survived = 1 | age <= 10, pclass=3) = {:.2f}\".format(conf*100))\n",
    "sup=titanic[(titanic.age <=10)&(titanic.pclass==3)&titanic.survived==1].shape[0]/titanic.shape[0]\n",
    "print(\"Support: P(survived = 1, age <= 10, pclass=3) = {:.2f}\".format(sup*100))"
   ]
  },
  {
   "cell_type": "markdown",
   "metadata": {},
   "source": [
    "```\n",
    "Confidence: P(survived = 1 | age <= 10, pclass=3) = 41.67\n",
    "Support: P(survived = 1, age <= 10, pclass=3) = 1.91\n",
    "```"
   ]
  },
  {
   "cell_type": "markdown",
   "metadata": {},
   "source": [
    "### 6.10 Discussion\n",
    "\n",
    "- Discuss what you learned from this analysis\n",
    "- WRITE HERE (To edit, double click this cell)  \n",
    " - 10세 이하의 support는 낮지만 모든 class의 confidence는 높다. 다른사람보다 우선순위로 구출되었을 것이다. 그래도 3등석의 경우에는 약41% 사망률이 높은 것으로 보아 구출과정 비교적 우선수위가 낮았던 것로 판단된다. 다음으로 여성도 높은 confidence를 보여준다. 아이와 함께 높은 우선순위로 구출된 것으로 보이고 등급이 낮을 수록 점점 감소하지만 3등석의 여성도 49%로 낮지 않은 것을 보여주고 있다. 마지막으로 남성은 등급별로 confidence가 모두 비교적 낮다 그리고 1,3,2등석으로 높은 support를 보여준다. 1,2 등석에는 비교적 나이가 많은 분들이 타고 계셔서 더이상 생존의 욕구가 비교적 낮아 현실을 받아들이고 죽음 맞이한 것으로 판단된다."
   ]
  },
  {
   "cell_type": "markdown",
   "metadata": {},
   "source": [
    "## Problem 7. (10 pts)\n",
    "### 7.1 Plot numbers of survived and numbers of dead by passenger classes"
   ]
  },
  {
   "cell_type": "code",
   "execution_count": 24,
   "metadata": {},
   "outputs": [
    {
     "data": {
      "image/png": "[encoded data removed]",
      "text/plain": [
       "<Figure size 432x288 with 1 Axes>"
      ]
     },
     "metadata": {
      "needs_background": "light"
     },
     "output_type": "display_data"
    }
   ],
   "source": [
    "# YOUR CODE HERE\n",
    "data=titanic.pivot_table(index='survived',columns='pclass',values='name',aggfunc='count').sort_index(ascending=False)\n",
    "ax=data.plot(kind='bar',stacked=True,use_index=False,legend=False)\n",
    "ax.set_xticklabels(['survived','dead'])\n",
    "a=ax.legend('123')"
   ]
  },
  {
   "cell_type": "markdown",
   "metadata": {},
   "source": [
    "<img src=\"hw5_4.png\">"
   ]
  },
  {
   "cell_type": "markdown",
   "metadata": {},
   "source": [
    "### 7.2 Plot numbers of survived and numbers of dead by passenger age intervals\n",
    "-  0:   0 $\\le$ age $\\lt$ 20\n",
    "- 20: 20 $\\le$ age $\\lt$ 40\n",
    "- 40: 40 $\\le$ age $\\lt$ 60\n",
    "- 60: 60 $\\le$ age $\\lt$ 80\n",
    "- 80: 80 $\\le$ age"
   ]
  },
  {
   "cell_type": "code",
   "execution_count": 25,
   "metadata": {},
   "outputs": [
    {
     "data": {
      "image/png": "[encoded data removed]",
      "text/plain": [
       "<Figure size 432x288 with 1 Axes>"
      ]
     },
     "metadata": {
      "needs_background": "light"
     },
     "output_type": "display_data"
    }
   ],
   "source": [
    "# YOUR CODE HERE\n",
    "titanic['reage']=(titanic['age']//20)*20\n",
    "data=titanic.pivot_table(index='survived',columns='reage',values='name',aggfunc='count').sort_index(ascending=False)\n",
    "ax=data.plot(kind='bar',stacked=True,use_index=False,legend=False)\n",
    "ax.set_xticklabels(['survived','dead'])\n",
    "a=ax.legend([0.0,20.0,40.0,60.0,80.0])"
   ]
  },
  {
   "cell_type": "markdown",
   "metadata": {},
   "source": [
    "<img src=\"hw5_5.png\">"
   ]
  },
  {
   "cell_type": "markdown",
   "metadata": {},
   "source": [
    "### 7.3 Plot numbers of survived and numbers of dead by the ports passenger embarked at"
   ]
  },
  {
   "cell_type": "code",
   "execution_count": 26,
   "metadata": {},
   "outputs": [
    {
     "data": {
      "image/png": "[encoded data removed]",
      "text/plain": [
       "<Figure size 432x288 with 1 Axes>"
      ]
     },
     "metadata": {
      "needs_background": "light"
     },
     "output_type": "display_data"
    }
   ],
   "source": [
    "# YOUR CODE HERE\n",
    "data=titanic.pivot_table(index='survived',columns='embarked',values='name',aggfunc='count')[['S','C','Q']].sort_index(ascending=False)\n",
    "ax=data.plot(kind='bar',stacked=True,use_index=False,legend=False)\n",
    "ax.set_xticklabels(['survived','dead'])\n",
    "a=ax.legend('SCQ')"
   ]
  },
  {
   "cell_type": "markdown",
   "metadata": {},
   "source": [
    "<img src=\"hw5_6.png\">"
   ]
  },
  {
   "cell_type": "markdown",
   "metadata": {},
   "source": [
    "### 7.4 Discussion\n",
    "\n",
    "- Discuss what you learned from this analysis\n",
    "- WRITE HERE (To edit, double click this cell)  \n",
    " - 6번에서는 수치로 보았지만 이 문제에서는 그래프를 통해서 시각적으로 쉽게 받아드릴 수 있다. \n",
    " 탑승한 인원의 수가 분류별로 모두 같지 않으므로 해당 부분의 생존률과 사망률을 비교해야한다.\n",
    " 생존률이 1등석이 제일 높고 다음으로 3등석 2등석이다. 이것을 사망률과 같이 보면 1등석의 약 2배 정도 생존률이 높은 것으로 보이고 반면 2등석은 사망률이 1.5배, 3등석은 약 2.5배 높은 것으로 시각적으로 판단된다. pclass의 데이터가 생존률에 큰 영향을 미쳤다고 할 수 있다.  \n",
    " - 나이에서 보면 80세 이상의 승객은 확인 할 수 없다. 모든 나이에서 생존률보다 사망률이 더 높은 것으로 보인다. 그래도 생존률 / 사망률의 비율은 연령대가 높아질 수록 감소하는 것을 확인 할 수 있다. 많은 어른들이 아래 세대에게 양보를 했을 것이다.  \n",
    " - 출항지로 비교해 보면 Southampton, Cherbourg, Queenstown 순으로 많은 인원이 탑승했을 것으로 판단된다. Southampton, Queenstown은 생존률보다 사망률이 높은 것으로 보인다. 하지만 Cherbourg은 생존률보다 사망률이 낮은 것으로 보인다. 앞에서의 데이터 분석한 결과를 보면 Cherbourg의 사람들이 부유하고 젊은 사람들이 많은 것으로 판단된다. Southampton의 비율이 가장 많은 것으로 보아 유동인구가 많은 지역일 것이라고 판단된다."
   ]
  },
  {
   "cell_type": "markdown",
   "metadata": {},
   "source": [
    "## Ethics:\n",
    "If you cheat, you will get negatgive of the total points.\n",
    "If the homework total is 22 and you cheat, you get -22."
   ]
  },
  {
   "cell_type": "markdown",
   "metadata": {},
   "source": [
    "## What to submit\n",
    "- Run **all cells**\n",
    "- Goto \"File -> Print Preview\" (If that doesn't work, you may print ipynb file in Google Chrome print menu)\n",
    "- Print the page as pdf\n",
    "- Submit the pdf file in google classroom\n",
    "- No late homeworks accepted"
   ]
  }
 ],
 "metadata": {
  "hide_input": false,
  "kernelspec": {
   "display_name": "Python 3",
   "language": "python",
   "name": "python3"
  },
  "language_info": {
   "codemirror_mode": {
    "name": "ipython",
    "version": 3
   },
   "file_extension": ".py",
   "mimetype": "text/x-python",
   "name": "python",
   "nbconvert_exporter": "python",
   "pygments_lexer": "ipython3",
   "version": "3.7.7"
  }
 },
 "nbformat": 4,
 "nbformat_minor": 4
}
