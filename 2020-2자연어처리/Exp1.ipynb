{
 "cells": [
  {
   "cell_type": "markdown",
   "metadata": {},
   "source": [
    "# **자연어 처리 Exp1 Report**\n",
    "                                                컴퓨터전자시스템공학부 201603727 허성일\n",
    "                                                제출일 : 2020-09-24\n",
    "                                                교수님 : 김낙현 교수님"
   ]
  },
  {
   "cell_type": "markdown",
   "metadata": {},
   "source": [
    "**[실습내용]**"
   ]
  },
  {
   "cell_type": "markdown",
   "metadata": {},
   "source": [
    "1. p. 8의 프로그램을 수정하여 ‘소나기.txt’ 파일을 분석함. 나온 횟수가 5번 이상인 단어들을 출력함. 화면에 나온 데이터를 복사해서 제출해도 됨\n",
    "\t\n",
    "2. 불용어 처리: 결과에 특수문자(. , “ ( ) 등)와 조사(‘이‘, ‘은‘, ‘다‘, …)가 포함되지 않도록 불용어 리스트를 만들고, 이 리스트가 적용된 결과를 다시 구함. 나온 횟수가 5번 이상인 단어들을 출력함. 불용어 리스트는 완벽하지 않아도 10개 이상의 리스트를 만들 것"
   ]
  },
  {
   "cell_type": "markdown",
   "metadata": {},
   "source": [
    "**[code]**"
   ]
  },
  {
   "cell_type": "code",
   "execution_count": 17,
   "metadata": {},
   "outputs": [],
   "source": [
    "from konlpy.tag import Kkma\n",
    "from collections import Counter\n",
    "\n",
    "infile = open(\"소나기.txt\", encoding='utf-8')\n",
    "data=infile.read()\n",
    "\n",
    "kkma = Kkma()\n",
    "words=kkma.morphs(data) # 형태소로 구문 분석\n",
    "\n",
    "vocab=Counter(words)"
   ]
  },
  {
   "cell_type": "code",
   "execution_count": 24,
   "metadata": {},
   "outputs": [
    {
     "name": "stdout",
     "output_type": "stream",
     "text": [
      "소년 49\t\t은 71\t\t개울가 8\t\t에서 20\t\t소녀 72\t\t를 54\t\t보 25\t\t윤 5\t\t초시 5\t\t네 10\t\t( 5\t\t) 5\t\t이 137\t\t것 35\t\t을 106\t\t알 8\t\tㄹ 20\t\t수 8\t\t있 54\t\t었 168\t\t다 226\t\t. 311\t\t는 86\t\t개울 6\t\t손 11\t\t고 54\t\t하 77\t\t서 13\t\t지 38\t\t기 15\t\t나 25\t\tㄴ 78\t\t듯이 6\t\t어 94\t\t, 119\t\t돌아오 7\t\t길 8\t\t에 70\t\t그러 23\t\t데 7\t\t까지 6\t\t더니 6\t\t오늘 5\t\t징검다리 6\t\t한 22\t\t앉 10\t\t아 45\t\t버리 5\t\t가 96\t\t주 5\t\t날 14\t\t게 26\t\t로 16\t\t나오 6\t\t았 41\t\t이번 7\t\t물 12\t\t속 15\t\tㄴ다 43\t\t얼굴 8\t\t라도 5\t\t움키 5\t\t내 8\t\t는지 6\t\t모르 9\t\t만 12\t\t건너 5\t\t다가 6\t\t하나 8\t\t조약돌 5\t\t그리 7\t\t고는 8\t\t며 15\t\t\" 106\t\t바보 7\t\t저 14\t\t도 32\t\t머리 6\t\t달리 8\t\t갈밭 5\t\t가을 5\t\t갈꽃 7\t\t뿐 5\t\t다고 5\t\t생각 13\t\t되 13\t\t않 22\t\t쪽 5\t\t안 8\t\t의 35\t\t같 16\t\t뵈 7\t\t덜 5\t\t집 7\t\t주머니 5\t\t일 6\t\tㅁ 5\t\t잡 6\t\t전 9\t\t더 17\t\t두 6\t\t으로 27\t\t번 5\t\t말 12\t\t느냐 5\t\t' 12\t\t어서 9\t\t없 8\t\t없이 5\t\t소리 6\t\t오 12\t\t니 9\t\t보이 5\t\t못 6\t\t듣 10\t\t이것 8\t\t? 16\t\t자기 6\t\t눈 6\t\t참 8\t\t산 6\t\t우리 5\t\t멀 5\t\t면 5\t\t허수아비 6\t\t들 7\t\t대 5\t\t달려가 5\t\t그 14\t\tㄴ다는 5\t\t곳 6\t\t밑 6\t\t수숫단 5\t\t꽃 14\t\t…… 13\t\t그렇 5\t\t크 5\t\t가지 5\t\t송아지 6\t\t비 7\t\t이사 6\t\t호두 6\t\t아버지 5\t\t\n",
      "--------Total morpheme count is 143------------\n"
     ]
    }
   ],
   "source": [
    "# 5번 이상인 단어\n",
    "c=0\n",
    "for text,count in vocab.items():\n",
    "    if count >=5:\n",
    "        print(text,count,end='\\t\\t')\n",
    "        c+=1\n",
    "print(\"\\n--------Total morpheme count is %d------------\"%c)"
   ]
  },
  {
   "cell_type": "code",
   "execution_count": 19,
   "metadata": {},
   "outputs": [],
   "source": [
    "# 불용어 리스트\n",
    "stop_words = ['\\ufeff', '가', '을', '는', '것', '이', '·', '의', '다', '.', '\\'', '에', '를', ',', '은',\n",
    "              '크','ㄴ', 'ㄹ', '도', '“', '”', '며', '기', '저', '아', '로', '서', '%', '수', '그', '데',\n",
    "              '와', '[', ':', ']', 'ㅁ','다고','느냐','니','고','있','었','듯이','……','(',')','\\\"','ㄴ다는','?','ㄴ다','고는','에서','니']"
   ]
  },
  {
   "cell_type": "code",
   "execution_count": 4,
   "metadata": {},
   "outputs": [
    {
     "name": "stdout",
     "output_type": "stream",
     "text": [
      "소년 49\t\t개울가 8\t\t소녀 72\t\t보 25\t\t윤 5\t\t초시 5\t\t네 10\t\t알 8\t\t개울 6\t\t손 11\t\t하 77\t\t지 38\t\t나 25\t\t어 94\t\t돌아오 7\t\t길 8\t\t그러 23\t\t까지 6\t\t더니 6\t\t오늘 5\t\t징검다리 6\t\t한 22\t\t앉 10\t\t버리 5\t\t주 5\t\t날 14\t\t게 26\t\t나오 6\t\t았 41\t\t이번 7\t\t물 12\t\t속 15\t\t얼굴 8\t\t라도 5\t\t움키 5\t\t내 8\t\t는지 6\t\t모르 9\t\t만 12\t\t건너 5\t\t다가 6\t\t하나 8\t\t조약돌 5\t\t그리 7\t\t바보 7\t\t머리 6\t\t달리 8\t\t갈밭 5\t\t가을 5\t\t갈꽃 7\t\t뿐 5\t\t생각 13\t\t되 13\t\t않 22\t\t쪽 5\t\t안 8\t\t같 16\t\t뵈 7\t\t덜 5\t\t집 7\t\t주머니 5\t\t일 6\t\t잡 6\t\t전 9\t\t더 17\t\t두 6\t\t으로 27\t\t번 5\t\t말 12\t\t어서 9\t\t없 8\t\t없이 5\t\t소리 6\t\t오 12\t\t보이 5\t\t못 6\t\t듣 10\t\t이것 8\t\t자기 6\t\t눈 6\t\t참 8\t\t산 6\t\t우리 5\t\t멀 5\t\t면 5\t\t허수아비 6\t\t들 7\t\t대 5\t\t달려가 5\t\t곳 6\t\t밑 6\t\t수숫단 5\t\t꽃 14\t\t그렇 5\t\t가지 5\t\t송아지 6\t\t비 7\t\t이사 6\t\t호두 6\t\t아버지 5\t\t\n",
      "--------Total morpheme count is 100------------\n"
     ]
    }
   ],
   "source": [
    "# 5번 이상인 단어 중 불용어 제외\n",
    "c=0\n",
    "for text,count in vocab.items():\n",
    "    if text not in stop_words and count >=5:\n",
    "        print(text,count,end='\\t\\t\\t')\n",
    "        c+=1\n",
    "print(\"\\n--------Total morpheme count is %d------------\"%c)"
   ]
  },
  {
   "cell_type": "markdown",
   "metadata": {},
   "source": [
    "**[결과]**"
   ]
  },
  {
   "cell_type": "markdown",
   "metadata": {},
   "source": [
    "Kkma는 지능형 데이터 시스템 (IDS)에서 개발 한 Java로 작성된 형태 학적 분석기 및 자연어 처리 시스템이다.  \n",
    "\n",
    "Kkma의 morphs 함수는 구문을 형태소로 구문 분석하는 기능을 한다.  \n",
    "\n",
    "morphs로 분석된 단어들을 collections 모듈의 Counter를 이용해서 각 단어의 숫자를 센다.  \n",
    "\n",
    "먼저 그 중 5개 이상의 단어들을 출력하고 다음으로 그 중 불용어 리스트에 해당하는 단어를 제거하고 5개 이상의 단어를 다시 출력한다.  \n",
    "\n",
    "총 단어 중 5개 이상의 단어는 143개이고 43개의 불용어를 53개를 중 5번 이상인 43개가 제거된 100개의 단어를 출력했다.  "
   ]
  }
 ],
 "metadata": {
  "kernelspec": {
   "display_name": "Python [conda env:root] *",
   "language": "python",
   "name": "conda-root-py"
  },
  "language_info": {
   "codemirror_mode": {
    "name": "ipython",
    "version": 3
   },
   "file_extension": ".py",
   "mimetype": "text/x-python",
   "name": "python",
   "nbconvert_exporter": "python",
   "pygments_lexer": "ipython3",
   "version": "3.7.6"
  }
 },
 "nbformat": 4,
 "nbformat_minor": 4
}
